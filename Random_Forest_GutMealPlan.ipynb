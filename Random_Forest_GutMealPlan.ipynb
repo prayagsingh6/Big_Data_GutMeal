{
 "cells": [
  {
   "cell_type": "markdown",
   "metadata": {
    "application/vnd.databricks.v1+cell": {
     "cellMetadata": {
      "byteLimit": 2048000,
      "rowLimit": 10000
     },
     "inputWidgets": {},
     "nuid": "1873df0c-7873-441d-a616-dfd9cff49330",
     "showTitle": false,
     "tableResultSettingsMap": {},
     "title": ""
    }
   },
   "source": [
    "# Comprehensive Explanation of the PySpark Random Forest Classifier for Meal Plan Prediction\n",
    "\n",
    "The GutMeal project explores the intersection of gut microbiome science, dietary behavior, and scalable machine learning.\n",
    "\n",
    "This project aims to build a robust and scalable recommendation engine that predicts suitable meal plans based on an individual's unique demographic profile, dietary intake, and allergy information, with an eye toward integrating gut microbiome indicators in future expansions.\n",
    "\n",
    "\n",
    "Project Goals\n",
    "\n",
    "To predict personalized meal plans by leveraging:\n",
    "\n",
    "Gut microbiome features (e.g., Bacteroides, Firmicutes)\n",
    "\n",
    "Dietary intake indices (protein, fiber, carbohydrate, fat)\n",
    "\n",
    "Demographic and allergy information (age, gender, dairy/gluten/nut allergy)\n",
    "\n",
    "Random Forest Classifier\n",
    "\n",
    "Random Forest, will constructs multiple decision trees and merges their outputs to improve accuracy and reduce overfitting.\n",
    "\n",
    "The Random Forest classifier is trained using PySpark's MLlib in a distributed computing environment, making it suitable for large-scale health and nutrition datasets.\n",
    "\n",
    "\n"
   ]
  },
  {
   "cell_type": "markdown",
   "metadata": {
    "application/vnd.databricks.v1+cell": {
     "cellMetadata": {
      "byteLimit": 2048000,
      "rowLimit": 10000
     },
     "inputWidgets": {},
     "nuid": "7d8eca29-cbc3-4e3f-b874-08a49140ac86",
     "showTitle": false,
     "tableResultSettingsMap": {},
     "title": ""
    }
   },
   "source": [
    "## 1. Setup & Configuration"
   ]
  },
  {
   "cell_type": "markdown",
   "metadata": {
    "application/vnd.databricks.v1+cell": {
     "cellMetadata": {
      "byteLimit": 2048000,
      "rowLimit": 10000
     },
     "inputWidgets": {},
     "nuid": "13008207-906c-438c-aac3-e6d38011ae2b",
     "showTitle": false,
     "tableResultSettingsMap": {},
     "title": ""
    }
   },
   "source": [
    "Importing Core PySpark and ML Libraries"
   ]
  },
  {
   "cell_type": "code",
   "execution_count": 0,
   "metadata": {
    "application/vnd.databricks.v1+cell": {
     "cellMetadata": {
      "byteLimit": 2048000,
      "rowLimit": 10000
     },
     "inputWidgets": {},
     "nuid": "c0bec184-4244-4419-b65b-38d7ebb8f92b",
     "showTitle": false,
     "tableResultSettingsMap": {},
     "title": ""
    }
   },
   "outputs": [],
   "source": [
    "# Core PySpark and ML Libraries\n",
    "from pyspark.sql import SparkSession\n",
    "from pyspark.sql.functions import col, when\n",
    "from pyspark.ml.feature import (\n",
    "    StringIndexer, \n",
    "    VectorAssembler, \n",
    "    IndexToString\n",
    ")\n",
    "from pyspark.ml.classification import RandomForestClassifier\n",
    "from pyspark.ml.evaluation import MulticlassClassificationEvaluator\n",
    "from pyspark.ml import Pipeline\n",
    "from pyspark.ml.stat import Correlation\n",
    "from pyspark.sql.functions import rand\n",
    "from pyspark.ml.feature import QuantileDiscretizer\n",
    "from pyspark.ml import Pipeline\n",
    "from pyspark.ml.feature import StandardScaler\n",
    "\n"
   ]
  },
  {
   "cell_type": "markdown",
   "metadata": {
    "application/vnd.databricks.v1+cell": {
     "cellMetadata": {
      "byteLimit": 2048000,
      "rowLimit": 10000
     },
     "inputWidgets": {},
     "nuid": "d83dc841-1d82-4e24-bbc2-22da4ae7a646",
     "showTitle": false,
     "tableResultSettingsMap": {},
     "title": ""
    }
   },
   "source": [
    "Data Analysis and Visualization Libraries"
   ]
  },
  {
   "cell_type": "code",
   "execution_count": 0,
   "metadata": {
    "application/vnd.databricks.v1+cell": {
     "cellMetadata": {
      "byteLimit": 2048000,
      "rowLimit": 10000
     },
     "inputWidgets": {},
     "nuid": "47ddc45b-af4c-46e8-9aa5-b8721384f034",
     "showTitle": false,
     "tableResultSettingsMap": {},
     "title": ""
    }
   },
   "outputs": [],
   "source": [
    "# Data Analysis & Visualization\n",
    "import pandas as pd\n",
    "import numpy as np\n",
    "import matplotlib.pyplot as plt\n",
    "import seaborn as sns\n",
    "\n",
    "from sklearn.preprocessing import label_binarize\n",
    "from sklearn.metrics import roc_curve, auc\n",
    "from sklearn.model_selection import train_test_split"
   ]
  },
  {
   "cell_type": "markdown",
   "metadata": {
    "application/vnd.databricks.v1+cell": {
     "cellMetadata": {
      "byteLimit": 2048000,
      "rowLimit": 10000
     },
     "inputWidgets": {},
     "nuid": "778715eb-6284-4afe-a909-392b7a7cae51",
     "showTitle": false,
     "tableResultSettingsMap": {},
     "title": ""
    }
   },
   "source": [
    "Spark Session Setup"
   ]
  },
  {
   "cell_type": "code",
   "execution_count": 0,
   "metadata": {
    "application/vnd.databricks.v1+cell": {
     "cellMetadata": {
      "byteLimit": 2048000,
      "rowLimit": 10000
     },
     "inputWidgets": {},
     "nuid": "1a73a098-924b-48f4-a289-1aa6d8ee6e01",
     "showTitle": false,
     "tableResultSettingsMap": {},
     "title": ""
    }
   },
   "outputs": [],
   "source": [
    "# Create Spark session\n",
    "spark = SparkSession.builder \\\n",
    "    .appName(\"AdvancedRandomForestMealPlan\") \\\n",
    "    .config(\"spark.executor.memory\", \"4g\") \\\n",
    "    .config(\"spark.driver.memory\", \"4g\") \\\n",
    "    .getOrCreate()"
   ]
  },
  {
   "cell_type": "markdown",
   "metadata": {
    "application/vnd.databricks.v1+cell": {
     "cellMetadata": {
      "byteLimit": 2048000,
      "rowLimit": 10000
     },
     "inputWidgets": {},
     "nuid": "7d750e84-2378-4a11-aeeb-7b7919feab9d",
     "showTitle": false,
     "tableResultSettingsMap": {},
     "title": ""
    }
   },
   "source": [
    "## 2. Data Loading\n",
    "\n",
    "Reads a CSV file from the specified path into a Spark DataFrame.\n",
    "\n",
    "header=True: Indicates that the first row of the file contains the column names.\n",
    "\n",
    "inferSchema=True: Automatically infers data types for each column"
   ]
  },
  {
   "cell_type": "code",
   "execution_count": 0,
   "metadata": {
    "application/vnd.databricks.v1+cell": {
     "cellMetadata": {
      "byteLimit": 2048000,
      "rowLimit": 10000
     },
     "inputWidgets": {},
     "nuid": "0cde2a90-c12c-41ed-9d2c-bcdfd5604fd0",
     "showTitle": false,
     "tableResultSettingsMap": {},
     "title": ""
    }
   },
   "outputs": [],
   "source": [
    "# Load Dataset\n",
    "\n",
    "df = spark.read.csv(\n",
    "    \"dbfs:/FileStore/microbe_gut_health_data_2.csv\", \n",
    "    header=True, \n",
    "    inferSchema=True\n",
    ")"
   ]
  },
  {
   "cell_type": "markdown",
   "metadata": {
    "application/vnd.databricks.v1+cell": {
     "cellMetadata": {
      "byteLimit": 2048000,
      "rowLimit": 10000
     },
     "inputWidgets": {},
     "nuid": "c23d68de-34f4-41b4-a279-7965e04da875",
     "showTitle": false,
     "tableResultSettingsMap": {},
     "title": ""
    }
   },
   "source": [
    "The below PySpark DataFrame operation displays all unique values (distinct categories) in the column Suggested_Meal_Plan"
   ]
  },
  {
   "cell_type": "code",
   "execution_count": 0,
   "metadata": {
    "application/vnd.databricks.v1+cell": {
     "cellMetadata": {
      "byteLimit": 2048000,
      "rowLimit": 10000
     },
     "inputWidgets": {},
     "nuid": "d985d0ad-9464-4823-85a7-9875fac47f84",
     "showTitle": false,
     "tableResultSettingsMap": {},
     "title": ""
    }
   },
   "outputs": [
    {
     "output_type": "stream",
     "name": "stdout",
     "output_type": "stream",
     "text": [
      "+--------------------+\n| Suggested_Meal_Plan|\n+--------------------+\n|Digestive Relief ...|\n|Metabolic Mainten...|\n|Keto-Friendly Low...|\n|Mediterranean Gut...|\n|   Heart Health Plus|\n|Dairy-Free Anti-I...|\n|Gut-Health Fiber ...|\n+--------------------+\n\n"
     ]
    }
   ],
   "source": [
    "df.select(\"Suggested_Meal_Plan\").distinct().show()\n"
   ]
  },
  {
   "cell_type": "markdown",
   "metadata": {
    "application/vnd.databricks.v1+cell": {
     "cellMetadata": {
      "byteLimit": 2048000,
      "rowLimit": 10000
     },
     "inputWidgets": {},
     "nuid": "b7b6197a-9a91-4c0e-bd14-0b41ef2d8c22",
     "showTitle": false,
     "tableResultSettingsMap": {},
     "title": ""
    }
   },
   "source": [
    "## 3. Data Analysis"
   ]
  },
  {
   "cell_type": "markdown",
   "metadata": {
    "application/vnd.databricks.v1+cell": {
     "cellMetadata": {
      "byteLimit": 2048000,
      "rowLimit": 10000
     },
     "inputWidgets": {},
     "nuid": "b6a4a85f-19e2-4431-82b9-2c3e52845c6a",
     "showTitle": false,
     "tableResultSettingsMap": {},
     "title": ""
    }
   },
   "source": [
    "CreatIing a temporary SQL view from your PySpark DataFrame (df) named \"gut_health_data\". This allows you to run Spark SQL queries directly on your DataFrame using standard SQL syntax."
   ]
  },
  {
   "cell_type": "code",
   "execution_count": 0,
   "metadata": {
    "application/vnd.databricks.v1+cell": {
     "cellMetadata": {
      "byteLimit": 2048000,
      "rowLimit": 10000
     },
     "inputWidgets": {},
     "nuid": "7a717c4a-f3ba-48fa-b6ae-9f8b79144470",
     "showTitle": false,
     "tableResultSettingsMap": {},
     "title": ""
    }
   },
   "outputs": [],
   "source": [
    "df.createOrReplaceTempView(\"gut_health_data\")"
   ]
  },
  {
   "cell_type": "markdown",
   "metadata": {
    "application/vnd.databricks.v1+cell": {
     "cellMetadata": {
      "byteLimit": 2048000,
      "rowLimit": 10000
     },
     "inputWidgets": {},
     "nuid": "6ba4b906-aa62-42e3-be7d-598e001d3ee7",
     "showTitle": false,
     "tableResultSettingsMap": {},
     "title": ""
    }
   },
   "source": [
    "Relationship between gut microbiome diversity and fiber intake for different age groups"
   ]
  },
  {
   "cell_type": "code",
   "execution_count": 0,
   "metadata": {
    "application/vnd.databricks.v1+cell": {
     "cellMetadata": {
      "byteLimit": 2048000,
      "implicitDf": true,
      "rowLimit": 10000
     },
     "inputWidgets": {},
     "nuid": "dfe91abd-93a7-4080-af60-0cb37f69f776",
     "showTitle": false,
     "tableResultSettingsMap": {},
     "title": ""
    }
   },
   "outputs": [
    {
     "output_type": "display_data",
     "data": {
      "text/html": [
       "<style scoped>\n",
       "  .table-result-container {\n",
       "    max-height: 300px;\n",
       "    overflow: auto;\n",
       "  }\n",
       "  table, th, td {\n",
       "    border: 1px solid black;\n",
       "    border-collapse: collapse;\n",
       "  }\n",
       "  th, td {\n",
       "    padding: 5px;\n",
       "  }\n",
       "  th {\n",
       "    text-align: left;\n",
       "  }\n",
       "</style><div class='table-result-container'><table class='table-result'><thead style='background-color: white'><tr><th>Age</th><th>Fiber_Intake</th><th>gut_diversity</th></tr></thead><tbody><tr><td>20</td><td>Moderate</td><td>32.18</td></tr><tr><td>21</td><td>Moderate</td><td>31.42</td></tr><tr><td>22</td><td>Moderate</td><td>30.08</td></tr><tr><td>23</td><td>High</td><td>29.96</td></tr><tr><td>24</td><td>Moderate</td><td>28.51</td></tr><tr><td>25</td><td>High</td><td>28.72</td></tr><tr><td>26</td><td>Low</td><td>31.14</td></tr><tr><td>27</td><td>High</td><td>30.93</td></tr><tr><td>28</td><td>Low</td><td>30.15</td></tr><tr><td>29</td><td>Moderate</td><td>30.01</td></tr><tr><td>30</td><td>Moderate</td><td>32.63</td></tr><tr><td>31</td><td>Moderate</td><td>29.34</td></tr><tr><td>32</td><td>Low</td><td>29.06</td></tr><tr><td>33</td><td>High</td><td>33.64</td></tr><tr><td>34</td><td>Moderate</td><td>28.72</td></tr><tr><td>35</td><td>Moderate</td><td>32.05</td></tr><tr><td>36</td><td>Moderate</td><td>29.19</td></tr><tr><td>37</td><td>Low</td><td>30.4</td></tr><tr><td>38</td><td>Moderate</td><td>31.48</td></tr><tr><td>39</td><td>High</td><td>33.02</td></tr><tr><td>40</td><td>Low</td><td>28.82</td></tr><tr><td>41</td><td>Low</td><td>31.82</td></tr><tr><td>42</td><td>Moderate</td><td>29.95</td></tr><tr><td>43</td><td>High</td><td>30.19</td></tr><tr><td>44</td><td>High</td><td>29.32</td></tr><tr><td>45</td><td>High</td><td>30.0</td></tr><tr><td>46</td><td>Low</td><td>29.18</td></tr><tr><td>47</td><td>Moderate</td><td>29.0</td></tr><tr><td>48</td><td>High</td><td>29.05</td></tr><tr><td>49</td><td>Low</td><td>29.99</td></tr><tr><td>50</td><td>Moderate</td><td>27.42</td></tr><tr><td>51</td><td>Moderate</td><td>30.53</td></tr><tr><td>52</td><td>Moderate</td><td>30.86</td></tr><tr><td>53</td><td>Moderate</td><td>29.25</td></tr><tr><td>54</td><td>Moderate</td><td>30.97</td></tr><tr><td>55</td><td>Low</td><td>32.95</td></tr><tr><td>56</td><td>Moderate</td><td>27.32</td></tr><tr><td>57</td><td>Moderate</td><td>29.23</td></tr><tr><td>58</td><td>Moderate</td><td>28.19</td></tr><tr><td>59</td><td>Moderate</td><td>27.54</td></tr><tr><td>60</td><td>Low</td><td>28.25</td></tr><tr><td>61</td><td>Moderate</td><td>29.88</td></tr><tr><td>62</td><td>High</td><td>29.75</td></tr><tr><td>63</td><td>Moderate</td><td>28.76</td></tr><tr><td>64</td><td>Moderate</td><td>27.6</td></tr><tr><td>65</td><td>Moderate</td><td>29.79</td></tr><tr><td>66</td><td>Low</td><td>30.12</td></tr><tr><td>67</td><td>Moderate</td><td>29.99</td></tr><tr><td>68</td><td>High</td><td>32.14</td></tr><tr><td>69</td><td>Low</td><td>28.87</td></tr></tbody></table></div>"
      ]
     },
     "metadata": {
      "application/vnd.databricks.v1+output": {
       "addedWidgets": {},
       "aggData": [],
       "aggError": "",
       "aggOverflow": false,
       "aggSchema": [],
       "aggSeriesLimitReached": false,
       "aggType": "",
       "arguments": {},
       "columnCustomDisplayInfos": {},
       "data": [
        [
         20,
         "Moderate",
         32.18
        ],
        [
         21,
         "Moderate",
         31.42
        ],
        [
         22,
         "Moderate",
         30.08
        ],
        [
         23,
         "High",
         29.96
        ],
        [
         24,
         "Moderate",
         28.51
        ],
        [
         25,
         "High",
         28.72
        ],
        [
         26,
         "Low",
         31.14
        ],
        [
         27,
         "High",
         30.93
        ],
        [
         28,
         "Low",
         30.15
        ],
        [
         29,
         "Moderate",
         30.01
        ],
        [
         30,
         "Moderate",
         32.63
        ],
        [
         31,
         "Moderate",
         29.34
        ],
        [
         32,
         "Low",
         29.06
        ],
        [
         33,
         "High",
         33.64
        ],
        [
         34,
         "Moderate",
         28.72
        ],
        [
         35,
         "Moderate",
         32.05
        ],
        [
         36,
         "Moderate",
         29.19
        ],
        [
         37,
         "Low",
         30.4
        ],
        [
         38,
         "Moderate",
         31.48
        ],
        [
         39,
         "High",
         33.02
        ],
        [
         40,
         "Low",
         28.82
        ],
        [
         41,
         "Low",
         31.82
        ],
        [
         42,
         "Moderate",
         29.95
        ],
        [
         43,
         "High",
         30.19
        ],
        [
         44,
         "High",
         29.32
        ],
        [
         45,
         "High",
         30.0
        ],
        [
         46,
         "Low",
         29.18
        ],
        [
         47,
         "Moderate",
         29.0
        ],
        [
         48,
         "High",
         29.05
        ],
        [
         49,
         "Low",
         29.99
        ],
        [
         50,
         "Moderate",
         27.42
        ],
        [
         51,
         "Moderate",
         30.53
        ],
        [
         52,
         "Moderate",
         30.86
        ],
        [
         53,
         "Moderate",
         29.25
        ],
        [
         54,
         "Moderate",
         30.97
        ],
        [
         55,
         "Low",
         32.95
        ],
        [
         56,
         "Moderate",
         27.32
        ],
        [
         57,
         "Moderate",
         29.23
        ],
        [
         58,
         "Moderate",
         28.19
        ],
        [
         59,
         "Moderate",
         27.54
        ],
        [
         60,
         "Low",
         28.25
        ],
        [
         61,
         "Moderate",
         29.88
        ],
        [
         62,
         "High",
         29.75
        ],
        [
         63,
         "Moderate",
         28.76
        ],
        [
         64,
         "Moderate",
         27.6
        ],
        [
         65,
         "Moderate",
         29.79
        ],
        [
         66,
         "Low",
         30.12
        ],
        [
         67,
         "Moderate",
         29.99
        ],
        [
         68,
         "High",
         32.14
        ],
        [
         69,
         "Low",
         28.87
        ]
       ],
       "datasetInfos": [],
       "dbfsResultPath": null,
       "isJsonSchema": true,
       "metadata": {
        "createTempViewForImplicitDf": true,
        "dataframeName": "_sqldf",
        "executionCount": 7
       },
       "overflow": false,
       "plotOptions": {
        "customPlotOptions": {},
        "displayType": "table",
        "pivotAggregation": null,
        "pivotColumns": null,
        "xColumns": null,
        "yColumns": null
       },
       "removedWidgets": [],
       "schema": [
        {
         "metadata": "{}",
         "name": "Age",
         "type": "\"integer\""
        },
        {
         "metadata": "{}",
         "name": "Fiber_Intake",
         "type": "\"string\""
        },
        {
         "metadata": "{}",
         "name": "gut_diversity",
         "type": "\"double\""
        }
       ],
       "type": "table"
      }
     },
     "output_type": "display_data"
    }
   ],
   "source": [
    "%sql\n",
    "WITH diversity_by_fiber AS (\n",
    "  SELECT \n",
    "    Age,\n",
    "    Fiber_Intake,\n",
    "    ROUND((Bacteroides + Firmicutes + Lactobacillus + Proteobacteria + Proteobacteria + Actinobacteria + Verrucomicrobia) / 4, 2) AS gut_diversity\n",
    "  FROM gut_health_data\n",
    "),\n",
    "ranked_diversity AS (\n",
    "  SELECT *,\n",
    "         RANK() OVER (PARTITION BY Age ORDER BY gut_diversity DESC) AS diversity_rank\n",
    "  FROM diversity_by_fiber\n",
    ")\n",
    "SELECT Age, Fiber_Intake, gut_diversity\n",
    "FROM ranked_diversity\n",
    "WHERE diversity_rank = 1\n",
    "ORDER BY Age;\n"
   ]
  },
  {
   "cell_type": "markdown",
   "metadata": {
    "application/vnd.databricks.v1+cell": {
     "cellMetadata": {
      "byteLimit": 2048000,
      "rowLimit": 10000
     },
     "inputWidgets": {},
     "nuid": "b9321037-20fa-48ce-aa8f-3400eb805beb",
     "showTitle": false,
     "tableResultSettingsMap": {},
     "title": ""
    }
   },
   "source": [
    "\n",
    "Certain age groups (for example, young adults or older adults) have higher microbiome diversity than others. This can help pinpoint if gut diversity is tied to age.\n",
    "\n",
    "Age 25 and Age 30 seem to have high gut diversity scores, with a corresponding fiber intake that may show a trend.\n",
    "\n",
    "Age 40 seems to have lower gut diversity, possibly signaling that gut diversity decreases slightly as age increases.\n",
    "\n",
    "The fiber intake numbers are relatively consistent, which may suggest the importance of other factors (besides fiber) in determining gut microbiome diversity.  \n",
    "\n"
   ]
  },
  {
   "cell_type": "markdown",
   "metadata": {
    "application/vnd.databricks.v1+cell": {
     "cellMetadata": {
      "byteLimit": 2048000,
      "rowLimit": 10000
     },
     "inputWidgets": {},
     "nuid": "3f199d73-2a3e-4692-baff-a4affd641f87",
     "showTitle": false,
     "tableResultSettingsMap": {},
     "title": ""
    }
   },
   "source": [
    "Gut Diversity Distribution by Meal Plan"
   ]
  },
  {
   "cell_type": "code",
   "execution_count": 0,
   "metadata": {
    "application/vnd.databricks.v1+cell": {
     "cellMetadata": {
      "byteLimit": 2048000,
      "implicitDf": true,
      "rowLimit": 10000
     },
     "inputWidgets": {},
     "nuid": "6c5efa34-d034-444e-b769-a33bd1b066f9",
     "showTitle": false,
     "tableResultSettingsMap": {},
     "title": ""
    }
   },
   "outputs": [
    {
     "output_type": "display_data",
     "data": {
      "text/html": [
       "<style scoped>\n",
       "  .table-result-container {\n",
       "    max-height: 300px;\n",
       "    overflow: auto;\n",
       "  }\n",
       "  table, th, td {\n",
       "    border: 1px solid black;\n",
       "    border-collapse: collapse;\n",
       "  }\n",
       "  th, td {\n",
       "    padding: 5px;\n",
       "  }\n",
       "  th {\n",
       "    text-align: left;\n",
       "  }\n",
       "</style><div class='table-result-container'><table class='table-result'><thead style='background-color: white'><tr><th>Suggested_Meal_Plan</th><th>avg_gut_diversity</th><th>count</th></tr></thead><tbody><tr><td>Mediterranean Gut Balance</td><td>17.57</td><td>64</td></tr><tr><td>Heart Health Plus</td><td>15.83</td><td>2</td></tr><tr><td>Keto-Friendly Low-Sugar Plan</td><td>15.67</td><td>441</td></tr><tr><td>Gut-Health Fiber Boost</td><td>15.61</td><td>285</td></tr><tr><td>Dairy-Free Anti-Inflammation Plan</td><td>15.38</td><td>6</td></tr><tr><td>Metabolic Maintenance Diet</td><td>14.92</td><td>198</td></tr><tr><td>Digestive Relief (Low-FODMAP)</td><td>14.48</td><td>4</td></tr></tbody></table></div>"
      ]
     },
     "metadata": {
      "application/vnd.databricks.v1+output": {
       "addedWidgets": {},
       "aggData": [],
       "aggError": "",
       "aggOverflow": false,
       "aggSchema": [],
       "aggSeriesLimitReached": false,
       "aggType": "",
       "arguments": {},
       "columnCustomDisplayInfos": {},
       "data": [
        [
         "Mediterranean Gut Balance",
         17.57,
         64
        ],
        [
         "Heart Health Plus",
         15.83,
         2
        ],
        [
         "Keto-Friendly Low-Sugar Plan",
         15.67,
         441
        ],
        [
         "Gut-Health Fiber Boost",
         15.61,
         285
        ],
        [
         "Dairy-Free Anti-Inflammation Plan",
         15.38,
         6
        ],
        [
         "Metabolic Maintenance Diet",
         14.92,
         198
        ],
        [
         "Digestive Relief (Low-FODMAP)",
         14.48,
         4
        ]
       ],
       "datasetInfos": [],
       "dbfsResultPath": null,
       "isJsonSchema": true,
       "metadata": {
        "createTempViewForImplicitDf": true,
        "dataframeName": "_sqldf",
        "executionCount": 8
       },
       "overflow": false,
       "plotOptions": {
        "customPlotOptions": {},
        "displayType": "table",
        "pivotAggregation": null,
        "pivotColumns": null,
        "xColumns": null,
        "yColumns": null
       },
       "removedWidgets": [],
       "schema": [
        {
         "metadata": "{}",
         "name": "Suggested_Meal_Plan",
         "type": "\"string\""
        },
        {
         "metadata": "{}",
         "name": "avg_gut_diversity",
         "type": "\"double\""
        },
        {
         "metadata": "{}",
         "name": "count",
         "type": "\"long\""
        }
       ],
       "type": "table"
      }
     },
     "output_type": "display_data"
    }
   ],
   "source": [
    "%sql \n",
    "\n",
    "WITH diversity_by_meal_plan AS (\n",
    "  SELECT \n",
    "    Suggested_Meal_Plan,\n",
    "    ROUND((Bacteroides + Firmicutes + Lactobacillus + Proteobacteria + Actinobacteria + Verrucomicrobia) / 6, 2) AS gut_diversity\n",
    "  FROM gut_health_data\n",
    ")\n",
    "SELECT \n",
    "  Suggested_Meal_Plan,\n",
    "  ROUND(AVG(gut_diversity), 2) AS avg_gut_diversity,\n",
    "  COUNT(*) AS count\n",
    "FROM diversity_by_meal_plan\n",
    "GROUP BY Suggested_Meal_Plan\n",
    "ORDER BY avg_gut_diversity DESC;\n"
   ]
  },
  {
   "cell_type": "markdown",
   "metadata": {
    "application/vnd.databricks.v1+cell": {
     "cellMetadata": {
      "byteLimit": 2048000,
      "rowLimit": 10000
     },
     "inputWidgets": {},
     "nuid": "701ca1b5-73c3-4fc2-94d0-3f847f1c1d5b",
     "showTitle": false,
     "tableResultSettingsMap": {},
     "title": ""
    }
   },
   "source": [
    "Mediterranean Gut Balance plan shows the highest gut diversity, indicating broad-spectrum microbiome benefits.\n",
    "\n",
    "Keto-Friendly Low-Sugar Plan is the most used but ranks mid-level in gut diversity.\n",
    "\n",
    "Low-FODMAP and Metabolic Maintenance diets show the lowest diversity, likely due to dietary restrictions."
   ]
  },
  {
   "cell_type": "markdown",
   "metadata": {
    "application/vnd.databricks.v1+cell": {
     "cellMetadata": {
      "byteLimit": 2048000,
      "rowLimit": 10000
     },
     "inputWidgets": {},
     "nuid": "1649d568-fa94-4564-9da6-208480f6c857",
     "showTitle": false,
     "tableResultSettingsMap": {},
     "title": ""
    }
   },
   "source": [
    "Meal Plan Prediction Based on Gut Diversity and Fiber Intake"
   ]
  },
  {
   "cell_type": "code",
   "execution_count": 0,
   "metadata": {
    "application/vnd.databricks.v1+cell": {
     "cellMetadata": {
      "byteLimit": 2048000,
      "implicitDf": true,
      "rowLimit": 10000
     },
     "inputWidgets": {},
     "nuid": "d5db3902-0d63-46eb-bba0-d44a8e857708",
     "showTitle": false,
     "tableResultSettingsMap": {},
     "title": ""
    }
   },
   "outputs": [
    {
     "output_type": "display_data",
     "data": {
      "text/html": [
       "<style scoped>\n",
       "  .table-result-container {\n",
       "    max-height: 300px;\n",
       "    overflow: auto;\n",
       "  }\n",
       "  table, th, td {\n",
       "    border: 1px solid black;\n",
       "    border-collapse: collapse;\n",
       "  }\n",
       "  th, td {\n",
       "    padding: 5px;\n",
       "  }\n",
       "  th {\n",
       "    text-align: left;\n",
       "  }\n",
       "</style><div class='table-result-container'><table class='table-result'><thead style='background-color: white'><tr><th>Fiber_Intake</th><th>avg_bacteria_count</th></tr></thead><tbody><tr><td>High</td><td>94.9</td></tr><tr><td>Moderate</td><td>93.45</td></tr><tr><td>Low</td><td>93.43</td></tr></tbody></table></div>"
      ]
     },
     "metadata": {
      "application/vnd.databricks.v1+output": {
       "addedWidgets": {},
       "aggData": [],
       "aggError": "",
       "aggOverflow": false,
       "aggSchema": [],
       "aggSeriesLimitReached": false,
       "aggType": "",
       "arguments": {},
       "columnCustomDisplayInfos": {},
       "data": [
        [
         "High",
         94.9
        ],
        [
         "Moderate",
         93.45
        ],
        [
         "Low",
         93.43
        ]
       ],
       "datasetInfos": [],
       "dbfsResultPath": null,
       "isJsonSchema": true,
       "metadata": {
        "createTempViewForImplicitDf": true,
        "dataframeName": "_sqldf",
        "executionCount": 9
       },
       "overflow": false,
       "plotOptions": {
        "customPlotOptions": {},
        "displayType": "table",
        "pivotAggregation": null,
        "pivotColumns": null,
        "xColumns": null,
        "yColumns": null
       },
       "removedWidgets": [],
       "schema": [
        {
         "metadata": "{}",
         "name": "Fiber_Intake",
         "type": "\"string\""
        },
        {
         "metadata": "{}",
         "name": "avg_bacteria_count",
         "type": "\"double\""
        }
       ],
       "type": "table"
      }
     },
     "output_type": "display_data"
    }
   ],
   "source": [
    "%sql \n",
    "WITH bacteria_count AS (\n",
    "  SELECT \n",
    "    Fiber_Intake,\n",
    "    Bacteroides,\n",
    "    Firmicutes,\n",
    "    Lactobacillus,\n",
    "    Proteobacteria,\n",
    "    Actinobacteria,\n",
    "    Verrucomicrobia\n",
    "  FROM gut_health_data\n",
    "),\n",
    "bacteria_fiber AS (\n",
    "  SELECT \n",
    "    Fiber_Intake,\n",
    "    (Bacteroides + Firmicutes + Lactobacillus + Proteobacteria + Actinobacteria + Verrucomicrobia) AS total_bacteria_count\n",
    "  FROM bacteria_count\n",
    ")\n",
    "SELECT \n",
    "  Fiber_Intake,\n",
    "  ROUND(AVG(total_bacteria_count), 2) AS avg_bacteria_count\n",
    "FROM bacteria_fiber\n",
    "GROUP BY Fiber_Intake\n",
    "ORDER BY avg_bacteria_count DESC\n",
    "LIMIT 3;\n"
   ]
  },
  {
   "cell_type": "markdown",
   "metadata": {
    "application/vnd.databricks.v1+cell": {
     "cellMetadata": {
      "byteLimit": 2048000,
      "rowLimit": 10000
     },
     "inputWidgets": {},
     "nuid": "50a3c23c-7906-40e6-b38f-bf900f0d354e",
     "showTitle": false,
     "tableResultSettingsMap": {},
     "title": ""
    }
   },
   "source": [
    "Individuals with High Fiber Intake have the highest average bacterial count (94.9), suggesting fiber supports microbial growth.\n",
    "\n",
    "As fiber intake decreases (from High → Moderate → Low), the average bacterial count drops (94.9 → 94.16 → 93.34), reinforcing the positive impact of fiber on microbiota.\n",
    "\n",
    "Gut diversity in low-fiber Western diets.\n"
   ]
  },
  {
   "cell_type": "markdown",
   "metadata": {
    "application/vnd.databricks.v1+cell": {
     "cellMetadata": {
      "byteLimit": 2048000,
      "rowLimit": 10000
     },
     "inputWidgets": {},
     "nuid": "f044a48b-c39c-461a-94a2-eca4c645e302",
     "showTitle": false,
     "tableResultSettingsMap": {},
     "title": ""
    }
   },
   "source": [
    "\n",
    "## 4. Data Processing"
   ]
  },
  {
   "cell_type": "markdown",
   "metadata": {
    "application/vnd.databricks.v1+cell": {
     "cellMetadata": {
      "byteLimit": 2048000,
      "rowLimit": 10000
     },
     "inputWidgets": {},
     "nuid": "5170c389-651b-4de7-b160-47d2b5a509e2",
     "showTitle": false,
     "tableResultSettingsMap": {},
     "title": ""
    }
   },
   "source": [
    "Balancing data\n",
    "\n",
    "Grouping the data by the Suggested_Meal_Plan column and counts the occurrences of each class. This helps in understanding class distribution.\n",
    "\n",
    "Identifying classes (meal plans) with fewer than 100 instances.\n",
    "\n",
    "Handling imbalanced classes: Some meal plans are underrepresented (less than 100 records). By oversampling these minority classes, we balance the dataset, ensuring that the model does not favor the majority class.\n",
    "\n",
    "This step shows the number of records for each meal plan class. If some classes are underrepresented, the model might be biased towards the more frequent classes."
   ]
  },
  {
   "cell_type": "code",
   "execution_count": 0,
   "metadata": {
    "application/vnd.databricks.v1+cell": {
     "cellMetadata": {
      "byteLimit": 2048000,
      "rowLimit": 10000
     },
     "inputWidgets": {},
     "nuid": "70006290-60cb-464e-91d5-27c8d949f4d2",
     "showTitle": false,
     "tableResultSettingsMap": {},
     "title": ""
    }
   },
   "outputs": [
    {
     "output_type": "stream",
     "name": "stdout",
     "output_type": "stream",
     "text": [
      "+--------------------+-----+\n| Suggested_Meal_Plan|count|\n+--------------------+-----+\n|Digestive Relief ...|    4|\n|Metabolic Mainten...|  198|\n|Keto-Friendly Low...|  441|\n|Mediterranean Gut...|   64|\n|   Heart Health Plus|    2|\n|Dairy-Free Anti-I...|    6|\n|Gut-Health Fiber ...|  285|\n+--------------------+-----+\n\n+--------------------+-----+\n| Suggested_Meal_Plan|count|\n+--------------------+-----+\n|Digestive Relief ...|  104|\n|Metabolic Mainten...|  198|\n|Keto-Friendly Low...|  441|\n|Mediterranean Gut...|  164|\n|   Heart Health Plus|   92|\n|Dairy-Free Anti-I...|  106|\n|Gut-Health Fiber ...|  285|\n+--------------------+-----+\n\n"
     ]
    }
   ],
   "source": [
    "# Balance Target Classes by Upsampling\n",
    "\n",
    "# Count instances per class\n",
    "meal_counts = df.groupBy(\"Suggested_Meal_Plan\").count()\n",
    "meal_counts.show()\n",
    "\n",
    "# Upsample minor classes\n",
    "minor_classes = [row[\"Suggested_Meal_Plan\"] for row in meal_counts.collect() if row[\"count\"] < 100]\n",
    "\n",
    "for meal in minor_classes:\n",
    "    small_df = df.filter(col(\"Suggested_Meal_Plan\") == meal)\n",
    "    factor = int(100 / small_df.count()) + 1\n",
    "    augmented = small_df.withColumn(\"rand\", rand()).sample(withReplacement=True, fraction=float(factor)).drop(\"rand\")\n",
    "    df = df.union(augmented.limit(100))\n",
    "\n",
    "meal_counts_upsampled = df.groupBy(\"Suggested_Meal_Plan\").count()\n",
    "meal_counts_upsampled.show()"
   ]
  },
  {
   "cell_type": "markdown",
   "metadata": {
    "application/vnd.databricks.v1+cell": {
     "cellMetadata": {
      "byteLimit": 2048000,
      "rowLimit": 10000
     },
     "inputWidgets": {},
     "nuid": "aad59b0b-80cd-4496-a245-75bda2c51f2c",
     "showTitle": false,
     "tableResultSettingsMap": {},
     "title": ""
    }
   },
   "source": [
    "Minority classes (Digestive Relief, Heart Health Plus, Dairy-Free, Mediterranean) were upsampled to around 100 samples.\n",
    "\n",
    "Majority classes (Keto, Metabolic Maintenance, Fiber Boost) remained unchanged.\n",
    "\n",
    "Now, all classes have a more balanced representation, reducing bias during training."
   ]
  },
  {
   "cell_type": "markdown",
   "metadata": {
    "application/vnd.databricks.v1+cell": {
     "cellMetadata": {
      "byteLimit": 2048000,
      "rowLimit": 10000
     },
     "inputWidgets": {},
     "nuid": "c29f0f1b-5b28-42a7-acf0-5f756aae2857",
     "showTitle": false,
     "tableResultSettingsMap": {},
     "title": ""
    }
   },
   "source": [
    "Handle Missing Values\n",
    "\n",
    "Ensures no missing values disrupt model training.\n",
    "\n",
    "Fills missing values for the BMI column with 0.\n",
    "\n",
    "Discretization of continuous variables (like BMI) into discrete categories (buckets) can help improve model performance. Here, QuantileDiscretizer divides the BMI into 4 equal-sized bins. This transformation can make the feature easier for the model to interpret and often helps improve generalization."
   ]
  },
  {
   "cell_type": "code",
   "execution_count": 0,
   "metadata": {
    "application/vnd.databricks.v1+cell": {
     "cellMetadata": {
      "byteLimit": 2048000,
      "rowLimit": 10000
     },
     "inputWidgets": {},
     "nuid": "3900f0ea-ea20-4d07-8518-e31de21957da",
     "showTitle": false,
     "tableResultSettingsMap": {},
     "title": ""
    }
   },
   "outputs": [],
   "source": [
    "# Fill missing BMI values (simple imputation)\n",
    "df = df.fillna({\"BMI\": 0})  # Replace with mean/median instead of 0 if needed\n",
    "\n",
    "# Discretize BMI into quantile buckets\n",
    "bmi_discretizer = QuantileDiscretizer(\n",
    "    numBuckets=4, \n",
    "    inputCol=\"BMI\", \n",
    "    outputCol=\"BMI_Bucket\",\n",
    "    handleInvalid=\"keep\"\n",
    ")\n"
   ]
  },
  {
   "cell_type": "markdown",
   "metadata": {
    "application/vnd.databricks.v1+cell": {
     "cellMetadata": {
      "byteLimit": 2048000,
      "rowLimit": 10000
     },
     "inputWidgets": {},
     "nuid": "89780f11-dcaf-473e-b347-31ae33a2ae7f",
     "showTitle": false,
     "tableResultSettingsMap": {},
     "title": ""
    }
   },
   "source": [
    "Indexing Categorical Columns and Feature Columns for the Model\n",
    "\n",
    "StringIndexer is used to convert categorical features (like Protein_Intake, Fiber_Intake, Gender, etc.) into numeric indices.\n",
    "After indexing, the model requires both numerical and indexed categorical columns as features.\n",
    "The feature_cols list specifies which columns will be used for prediction.\n",
    "This list is then passed to a VectorAssembler to combine all features into a single feature vector."
   ]
  },
  {
   "cell_type": "code",
   "execution_count": 0,
   "metadata": {
    "application/vnd.databricks.v1+cell": {
     "cellMetadata": {
      "byteLimit": 2048000,
      "rowLimit": 10000
     },
     "inputWidgets": {},
     "nuid": "cd7467e0-df4c-4d2f-8ad5-d2f8a38b6b71",
     "showTitle": false,
     "tableResultSettingsMap": {},
     "title": ""
    }
   },
   "outputs": [],
   "source": [
    "\n",
    "# Index categorical columns inside pipeline only\n",
    "indexers = [\n",
    "    StringIndexer(inputCol=col, outputCol=col + \"_Idx\", handleInvalid='skip') \n",
    "    for col in [\"Protein_Intake\", \"Fiber_Intake\", \"Carbohydrate_Intake\", \"Fat_Intake\", \"Gender\", \"Suggested_Meal_Plan\"]\n",
    "]\n",
    "\n",
    "# Feature columns to use (only the _Idx versions)\n",
    "feature_cols = [\n",
    "    \"Age\", \"BMI\", \"Bacteroides\", \"Firmicutes\", \"Lactobacillus\", \"Proteobacteria\", \n",
    "    \"Actinobacteria\", \"Verrucomicrobia\", \"Dairy_Allergy\", \"Gluten_Allergy\", \"Nut_Allergy\",\n",
    "    \"Protein_Intake_Idx\", \"Fiber_Intake_Idx\", \"Carbohydrate_Intake_Idx\", \"Fat_Intake_Idx\", \"Gender_Idx\"\n",
    "]"
   ]
  },
  {
   "cell_type": "markdown",
   "metadata": {
    "application/vnd.databricks.v1+cell": {
     "cellMetadata": {
      "byteLimit": 2048000,
      "rowLimit": 10000
     },
     "inputWidgets": {},
     "nuid": "1d8ccb0f-1b1b-4cb5-a3fd-95083514a17c",
     "showTitle": false,
     "tableResultSettingsMap": {},
     "title": ""
    }
   },
   "source": [
    "This code will generate and display a table showing the count, minimum, maximum, mean, and standard deviation for each numeric column"
   ]
  },
  {
   "cell_type": "code",
   "execution_count": 0,
   "metadata": {
    "application/vnd.databricks.v1+cell": {
     "cellMetadata": {
      "byteLimit": 2048000,
      "rowLimit": 10000
     },
     "inputWidgets": {},
     "nuid": "e0715411-6ea7-404b-bb46-0ad3bfa337c3",
     "showTitle": false,
     "tableResultSettingsMap": {},
     "title": ""
    }
   },
   "outputs": [
    {
     "output_type": "display_data",
     "data": {
      "text/html": [
       "<style scoped>\n",
       "  .table-result-container {\n",
       "    max-height: 300px;\n",
       "    overflow: auto;\n",
       "  }\n",
       "  table, th, td {\n",
       "    border: 1px solid black;\n",
       "    border-collapse: collapse;\n",
       "  }\n",
       "  th, td {\n",
       "    padding: 5px;\n",
       "  }\n",
       "  th {\n",
       "    text-align: left;\n",
       "  }\n",
       "</style><div class='table-result-container'><table class='table-result'><thead style='background-color: white'><tr><th>summary</th><th>Bacteroides</th><th>Firmicutes</th><th>Lactobacillus</th><th>Proteobacteria</th><th>Actinobacteria</th><th>Verrucomicrobia</th><th>Others</th><th>Age</th><th>Gender</th><th>BMI</th><th>Protein_Intake</th><th>Fiber_Intake</th><th>Carbohydrate_Intake</th><th>Fat_Intake</th><th>Dairy_Allergy</th><th>Gluten_Allergy</th><th>Nut_Allergy</th><th>Suggested_Meal_Plan</th></tr></thead><tbody><tr><td>count</td><td>1390</td><td>1390</td><td>1390</td><td>1390</td><td>1390</td><td>1390</td><td>1390</td><td>1390</td><td>1390</td><td>1390</td><td>1390</td><td>1390</td><td>1390</td><td>1390</td><td>1390</td><td>1390</td><td>1390</td><td>1390</td></tr><tr><td>min</td><td>13.793663299654636</td><td>10.596113653357197</td><td>3.9609756883583493</td><td>2.070551309997732</td><td>1.8232961868039994</td><td>1.550243060065759</td><td>-32.54484913788821</td><td>20</td><td>Female</td><td>16.2</td><td>High</td><td>High</td><td>High</td><td>High</td><td>0</td><td>0</td><td>0</td><td>Dairy-Free Anti-Inflammation Plan</td></tr><tr><td>max</td><td>49.26365745327361</td><td>71.93107567844861</td><td>17.852475412872653</td><td>8.243092969594734</td><td>8.11291020104384</td><td>4.549149717035629</td><td>46.91413041994946</td><td>69</td><td>Male</td><td>34.6</td><td>Moderate</td><td>Moderate</td><td>Moderate</td><td>Moderate</td><td>1</td><td>1</td><td>1</td><td>Metabolic Maintenance Diet</td></tr><tr><td>mean</td><td>30.112355215063065</td><td>41.01810398462851</td><td>10.077456919393597</td><td>5.008061395986565</td><td>5.042309472496359</td><td>2.9816975234571172</td><td>7.347134438187601</td><td>41.62014388489209</td><td>null</td><td>25.27568345323742</td><td>null</td><td>null</td><td>null</td><td>null</td><td>0.20647482014388488</td><td>0.15899280575539568</td><td>0.07913669064748201</td><td>null</td></tr><tr><td>stddev</td><td>4.693575920849417</td><td>9.406523422036889</td><td>1.9079769715982804</td><td>1.1023642273374217</td><td>0.9956593204995068</td><td>0.4765756961413843</td><td>11.758792572201891</td><td>14.177407167368838</td><td>null</td><td>2.80023886936453</td><td>null</td><td>null</td><td>null</td><td>null</td><td>0.4049208889293863</td><td>0.3658009840328588</td><td>0.2700491436341192</td><td>null</td></tr></tbody></table></div>"
      ]
     },
     "metadata": {
      "application/vnd.databricks.v1+output": {
       "addedWidgets": {},
       "aggData": [],
       "aggError": "",
       "aggOverflow": false,
       "aggSchema": [],
       "aggSeriesLimitReached": false,
       "aggType": "",
       "arguments": {},
       "columnCustomDisplayInfos": {},
       "data": [
        [
         "count",
         "1390",
         "1390",
         "1390",
         "1390",
         "1390",
         "1390",
         "1390",
         "1390",
         "1390",
         "1390",
         "1390",
         "1390",
         "1390",
         "1390",
         "1390",
         "1390",
         "1390",
         "1390"
        ],
        [
         "min",
         "13.793663299654636",
         "10.596113653357197",
         "3.9609756883583493",
         "2.070551309997732",
         "1.8232961868039994",
         "1.550243060065759",
         "-32.54484913788821",
         "20",
         "Female",
         "16.2",
         "High",
         "High",
         "High",
         "High",
         "0",
         "0",
         "0",
         "Dairy-Free Anti-Inflammation Plan"
        ],
        [
         "max",
         "49.26365745327361",
         "71.93107567844861",
         "17.852475412872653",
         "8.243092969594734",
         "8.11291020104384",
         "4.549149717035629",
         "46.91413041994946",
         "69",
         "Male",
         "34.6",
         "Moderate",
         "Moderate",
         "Moderate",
         "Moderate",
         "1",
         "1",
         "1",
         "Metabolic Maintenance Diet"
        ],
        [
         "mean",
         "30.112355215063065",
         "41.01810398462851",
         "10.077456919393597",
         "5.008061395986565",
         "5.042309472496359",
         "2.9816975234571172",
         "7.347134438187601",
         "41.62014388489209",
         null,
         "25.27568345323742",
         null,
         null,
         null,
         null,
         "0.20647482014388488",
         "0.15899280575539568",
         "0.07913669064748201",
         null
        ],
        [
         "stddev",
         "4.693575920849417",
         "9.406523422036889",
         "1.9079769715982804",
         "1.1023642273374217",
         "0.9956593204995068",
         "0.4765756961413843",
         "11.758792572201891",
         "14.177407167368838",
         null,
         "2.80023886936453",
         null,
         null,
         null,
         null,
         "0.4049208889293863",
         "0.3658009840328588",
         "0.2700491436341192",
         null
        ]
       ],
       "datasetInfos": [],
       "dbfsResultPath": null,
       "isJsonSchema": true,
       "metadata": {},
       "overflow": false,
       "plotOptions": {
        "customPlotOptions": {},
        "displayType": "table",
        "pivotAggregation": null,
        "pivotColumns": null,
        "xColumns": null,
        "yColumns": null
       },
       "removedWidgets": [],
       "schema": [
        {
         "metadata": "{}",
         "name": "summary",
         "type": "\"string\""
        },
        {
         "metadata": "{}",
         "name": "Bacteroides",
         "type": "\"string\""
        },
        {
         "metadata": "{}",
         "name": "Firmicutes",
         "type": "\"string\""
        },
        {
         "metadata": "{}",
         "name": "Lactobacillus",
         "type": "\"string\""
        },
        {
         "metadata": "{}",
         "name": "Proteobacteria",
         "type": "\"string\""
        },
        {
         "metadata": "{}",
         "name": "Actinobacteria",
         "type": "\"string\""
        },
        {
         "metadata": "{}",
         "name": "Verrucomicrobia",
         "type": "\"string\""
        },
        {
         "metadata": "{}",
         "name": "Others",
         "type": "\"string\""
        },
        {
         "metadata": "{}",
         "name": "Age",
         "type": "\"string\""
        },
        {
         "metadata": "{}",
         "name": "Gender",
         "type": "\"string\""
        },
        {
         "metadata": "{}",
         "name": "BMI",
         "type": "\"string\""
        },
        {
         "metadata": "{}",
         "name": "Protein_Intake",
         "type": "\"string\""
        },
        {
         "metadata": "{}",
         "name": "Fiber_Intake",
         "type": "\"string\""
        },
        {
         "metadata": "{}",
         "name": "Carbohydrate_Intake",
         "type": "\"string\""
        },
        {
         "metadata": "{}",
         "name": "Fat_Intake",
         "type": "\"string\""
        },
        {
         "metadata": "{}",
         "name": "Dairy_Allergy",
         "type": "\"string\""
        },
        {
         "metadata": "{}",
         "name": "Gluten_Allergy",
         "type": "\"string\""
        },
        {
         "metadata": "{}",
         "name": "Nut_Allergy",
         "type": "\"string\""
        },
        {
         "metadata": "{}",
         "name": "Suggested_Meal_Plan",
         "type": "\"string\""
        }
       ],
       "type": "table"
      }
     },
     "output_type": "display_data"
    }
   ],
   "source": [
    "df.summary(\"count\", \"min\", \"max\", \"mean\", \"stddev\").display()"
   ]
  },
  {
   "cell_type": "markdown",
   "metadata": {
    "application/vnd.databricks.v1+cell": {
     "cellMetadata": {
      "byteLimit": 2048000,
      "rowLimit": 10000
     },
     "inputWidgets": {},
     "nuid": "ec6d97bf-714c-42bc-aa6b-94f96674ef02",
     "showTitle": false,
     "tableResultSettingsMap": {},
     "title": ""
    }
   },
   "source": [
    "## 5. Feature Selection"
   ]
  },
  {
   "cell_type": "markdown",
   "metadata": {
    "application/vnd.databricks.v1+cell": {
     "cellMetadata": {
      "byteLimit": 2048000,
      "rowLimit": 10000
     },
     "inputWidgets": {},
     "nuid": "164bdf7d-c35f-42da-871c-4e0ceecc4c3e",
     "showTitle": false,
     "tableResultSettingsMap": {},
     "title": ""
    }
   },
   "source": [
    "\n",
    "Correlation helps in identifying relationships between features. High correlation between features (multicollinearity) can degrade model performance as the model may learn redundant patterns.\n",
    "\n",
    "Creating a correlation matrix allows for an easy visualization of how features relate to each other. This matrix can help determine if any features are too highly correlated and need to be removed or transformed."
   ]
  },
  {
   "cell_type": "code",
   "execution_count": 0,
   "metadata": {
    "application/vnd.databricks.v1+cell": {
     "cellMetadata": {
      "byteLimit": 2048000,
      "rowLimit": 10000
     },
     "inputWidgets": {},
     "nuid": "f172ab07-341f-46c1-895f-c80a34ae12d5",
     "showTitle": false,
     "tableResultSettingsMap": {},
     "title": ""
    }
   },
   "outputs": [],
   "source": [
    "# Correlation Analysis of Numeric Features\n",
    "numeric_features = [\"Age\", \"BMI\", \"Bacteroides\", \"Firmicutes\", \"Lactobacillus\", \"Proteobacteria\",\"Actinobacteria\",\"Verrucomicrobia\"]\n",
    "corr_values = []\n",
    "\n",
    "for f1 in numeric_features:\n",
    "    for f2 in numeric_features:\n",
    "        try:\n",
    "            val = df.stat.corr(f1, f2)\n",
    "            corr_values.append((f1, f2, round(val, 2) if val is not None else 0.0))\n",
    "        except:\n",
    "            corr_values.append((f1, f2, 0.0))\n",
    "\n",
    "corr_matrix = pd.DataFrame(index=numeric_features, columns=numeric_features, data=0.0)\n",
    "for f1, f2, val in corr_values:\n",
    "    corr_matrix.loc[f1, f2] = val\n",
    "    corr_matrix.loc[f2, f1] = val\n",
    "corr_matrix = corr_matrix.astype(float)\n"
   ]
  },
  {
   "cell_type": "code",
   "execution_count": 0,
   "metadata": {
    "application/vnd.databricks.v1+cell": {
     "cellMetadata": {
      "byteLimit": 2048000,
      "rowLimit": 10000
     },
     "inputWidgets": {},
     "nuid": "79d04674-2ec6-4af5-afa5-595488c0bd93",
     "showTitle": false,
     "tableResultSettingsMap": {},
     "title": ""
    }
   },
   "outputs": [
    {
     "output_type": "display_data",
     "data": {
      "image/png": "[encoded data removed]",
      "text/plain": [
       "<Figure size 800x600 with 2 Axes>"
      ]
     },
     "metadata": {},
     "output_type": "display_data"
    }
   ],
   "source": [
    "\n",
    "# Plot correlation heatmap\n",
    "plt.figure(figsize=(8, 6))\n",
    "sns.heatmap(\n",
    "    corr_matrix,\n",
    "    annot=True,\n",
    "    cmap=sns.diverging_palette(10, 250, as_cmap=True),\n",
    "    center=0,\n",
    "    fmt=\".2f\",\n",
    "    cbar_kws={'label': 'Correlation Coefficient'}\n",
    ")\n",
    "plt.title(\"Feature Correlation Heatmap\")\n",
    "plt.tight_layout()\n",
    "plt.show()"
   ]
  },
  {
   "cell_type": "markdown",
   "metadata": {
    "application/vnd.databricks.v1+cell": {
     "cellMetadata": {
      "byteLimit": 2048000,
      "rowLimit": 10000
     },
     "inputWidgets": {},
     "nuid": "9d82fca6-8a7c-4faf-a0ad-073c6712071b",
     "showTitle": false,
     "tableResultSettingsMap": {},
     "title": ""
    }
   },
   "source": [
    "Red shades: Represent positive correlations (closer to +1).\n",
    "\n",
    "Blue shades: Represent negative correlations (closer to -1).\n",
    "\n",
    "White/pale colors: Near 0, indicating no linear relationship.\n",
    "\n",
    "The heatmap showed mostly weak correlations, both positive and negative, with the strongest being around 0.10 and -0.11. Features like Age, BMI, and various bacteria genera (Bacteroides, Firmicutes, etc.) have minimal linear relationships.\n",
    "\n",
    "Almost all features (Age, BMI, gut bacteria) have tiny correlations (between -0.11 and +0.10). This means there’s no strong linear relationship between them.\n",
    "\n",
    "Since no features are strongly linked, your Random Forest model won’t get confused by repeating information."
   ]
  },
  {
   "cell_type": "markdown",
   "metadata": {
    "application/vnd.databricks.v1+cell": {
     "cellMetadata": {
      "byteLimit": 2048000,
      "rowLimit": 10000
     },
     "inputWidgets": {},
     "nuid": "0e305dbf-ed4d-42cc-989a-f3e3bc96b29b",
     "showTitle": false,
     "tableResultSettingsMap": {},
     "title": ""
    }
   },
   "source": [
    "In the next steps \n",
    "\n",
    "VectorAssembler takes all the individual feature columns (like age, BMI, and the indexed columns), combines them into a single column (features_raw) as a dense vector.\n",
    "\n",
    "StandardScaler normalizes the features in the vector, ensuring they are on the same scale, typically with unit variance (but no mean subtraction in this case)."
   ]
  },
  {
   "cell_type": "code",
   "execution_count": 0,
   "metadata": {
    "application/vnd.databricks.v1+cell": {
     "cellMetadata": {
      "byteLimit": 2048000,
      "rowLimit": 10000
     },
     "inputWidgets": {},
     "nuid": "f6f5bcc3-0a70-40ee-a93c-32c395033d9c",
     "showTitle": false,
     "tableResultSettingsMap": {},
     "title": ""
    }
   },
   "outputs": [],
   "source": [
    "assembler = VectorAssembler(inputCols=feature_cols, outputCol=\"features_raw\")\n",
    "scaler = StandardScaler(inputCol=\"features_raw\", outputCol=\"features\", withStd=True, withMean=False)"
   ]
  },
  {
   "cell_type": "markdown",
   "metadata": {
    "application/vnd.databricks.v1+cell": {
     "cellMetadata": {
      "byteLimit": 2048000,
      "rowLimit": 10000
     },
     "inputWidgets": {},
     "nuid": "f9431adc-bcec-4e3d-89cf-541058274983",
     "showTitle": false,
     "tableResultSettingsMap": {},
     "title": ""
    }
   },
   "source": [
    "## 6. Random Forest classifier "
   ]
  },
  {
   "cell_type": "markdown",
   "metadata": {
    "application/vnd.databricks.v1+cell": {
     "cellMetadata": {
      "byteLimit": 2048000,
      "rowLimit": 10000
     },
     "inputWidgets": {},
     "nuid": "c4c14572-aa26-4f5b-9e38-6e4e380ad21a",
     "showTitle": false,
     "tableResultSettingsMap": {},
     "title": ""
    },
    "jupyter": {
     "outputs_hidden": true
    }
   },
   "source": [
    "Defining the model"
   ]
  },
  {
   "cell_type": "code",
   "execution_count": 0,
   "metadata": {
    "application/vnd.databricks.v1+cell": {
     "cellMetadata": {
      "byteLimit": 2048000,
      "rowLimit": 10000
     },
     "inputWidgets": {},
     "nuid": "ff0c6dc9-abf5-48c7-90f5-1175fdeb6ef3",
     "showTitle": false,
     "tableResultSettingsMap": {},
     "title": ""
    }
   },
   "outputs": [],
   "source": [
    "# Define the model\n",
    "rf = RandomForestClassifier(labelCol=\"Suggested_Meal_Plan_Idx\", featuresCol=\"features\", numTrees=100)"
   ]
  },
  {
   "cell_type": "markdown",
   "metadata": {
    "application/vnd.databricks.v1+cell": {
     "cellMetadata": {
      "byteLimit": 2048000,
      "rowLimit": 10000
     },
     "inputWidgets": {},
     "nuid": "ffbf2f15-b2ee-42ec-a857-ed22ca20893a",
     "showTitle": false,
     "tableResultSettingsMap": {},
     "title": ""
    }
   },
   "source": [
    "Build pipeline"
   ]
  },
  {
   "cell_type": "code",
   "execution_count": 0,
   "metadata": {
    "application/vnd.databricks.v1+cell": {
     "cellMetadata": {
      "byteLimit": 2048000,
      "rowLimit": 10000
     },
     "inputWidgets": {},
     "nuid": "4f7dcc6d-cdaf-4b18-8555-08002d0b1ff0",
     "showTitle": false,
     "tableResultSettingsMap": {},
     "title": ""
    }
   },
   "outputs": [],
   "source": [
    "pipeline = Pipeline(stages=indexers + [assembler, scaler, rf])"
   ]
  },
  {
   "cell_type": "markdown",
   "metadata": {
    "application/vnd.databricks.v1+cell": {
     "cellMetadata": {
      "byteLimit": 2048000,
      "rowLimit": 10000
     },
     "inputWidgets": {},
     "nuid": "018c8240-6d60-4f67-9bec-f45c46fcfa2f",
     "showTitle": false,
     "tableResultSettingsMap": {},
     "title": ""
    }
   },
   "source": [
    "Splitting the dataset into training and test sets\n",
    "\n",
    "The result of randomSplit() is a list with two DataFrames (the training and test sets), which is unpacked into train_df and test_df.\n",
    "\n",
    "train_df contains 80% of the data, and test_df contains 20% of the data.\n",
    "\n",
    "Training Set (train_df): Used to train the machine learning model.\n",
    "\n",
    "Test Set (test_df): Used to evaluate the performance of the trained model on unseen data."
   ]
  },
  {
   "cell_type": "code",
   "execution_count": 0,
   "metadata": {
    "application/vnd.databricks.v1+cell": {
     "cellMetadata": {
      "byteLimit": 2048000,
      "rowLimit": 10000
     },
     "inputWidgets": {},
     "nuid": "0a98630d-baa0-448c-b367-73d53e8f4d8b",
     "showTitle": false,
     "tableResultSettingsMap": {},
     "title": ""
    }
   },
   "outputs": [],
   "source": [
    "train_df, test_df = df.randomSplit([0.8, 0.2], seed=42)\n"
   ]
  },
  {
   "cell_type": "markdown",
   "metadata": {
    "application/vnd.databricks.v1+cell": {
     "cellMetadata": {
      "byteLimit": 2048000,
      "rowLimit": 10000
     },
     "inputWidgets": {},
     "nuid": "f1b80576-5c8d-4bf2-81ca-b84e70a584ac",
     "showTitle": false,
     "tableResultSettingsMap": {},
     "title": ""
    }
   },
   "source": [
    "Training and prediction \n",
    "\n",
    "pipeline.fit(train_df) trains the model using the training data (train_df) based on the transformations and model defined within the pipeline.\n",
    "\n",
    "model.transform(test_df) applies the trained model to the test data (test_df)"
   ]
  },
  {
   "cell_type": "code",
   "execution_count": 0,
   "metadata": {
    "application/vnd.databricks.v1+cell": {
     "cellMetadata": {
      "byteLimit": 2048000,
      "rowLimit": 10000
     },
     "inputWidgets": {},
     "nuid": "01400235-1d68-4b83-86ac-ddac73dd28d9",
     "showTitle": false,
     "tableResultSettingsMap": {},
     "title": ""
    }
   },
   "outputs": [],
   "source": [
    "model = pipeline.fit(train_df)\n",
    "predictions = model.transform(test_df)"
   ]
  },
  {
   "cell_type": "markdown",
   "metadata": {
    "application/vnd.databricks.v1+cell": {
     "cellMetadata": {
      "byteLimit": 2048000,
      "rowLimit": 10000
     },
     "inputWidgets": {},
     "nuid": "77a8b665-c3b3-4d89-9265-907ab61bc6a1",
     "showTitle": false,
     "tableResultSettingsMap": {},
     "title": ""
    }
   },
   "source": [
    "Evaluating the performance of the Random Forest model on the test data - Accuracy, F1 Score, Precision, and Recall"
   ]
  },
  {
   "cell_type": "code",
   "execution_count": 0,
   "metadata": {
    "application/vnd.databricks.v1+cell": {
     "cellMetadata": {
      "byteLimit": 2048000,
      "rowLimit": 10000
     },
     "inputWidgets": {},
     "nuid": "97747481-5787-4c29-b748-6e36791c542a",
     "showTitle": false,
     "tableResultSettingsMap": {},
     "title": ""
    }
   },
   "outputs": [
    {
     "output_type": "stream",
     "name": "stdout",
     "output_type": "stream",
     "text": [
      "Accuracy: 93.42%\nF1 Score: 93.46%\nPrecision: 93.87%\nRecall: 93.42%\n"
     ]
    }
   ],
   "source": [
    "from pyspark.ml.evaluation import MulticlassClassificationEvaluator\n",
    "\n",
    "evaluator = MulticlassClassificationEvaluator(\n",
    "    labelCol=\"Suggested_Meal_Plan_Idx\", predictionCol=\"prediction\"\n",
    ")\n",
    "\n",
    "accuracy = evaluator.evaluate(predictions, {evaluator.metricName: \"accuracy\"}) * 100\n",
    "f1 = evaluator.evaluate(predictions, {evaluator.metricName: \"f1\"}) * 100\n",
    "precision = evaluator.evaluate(predictions, {evaluator.metricName: \"weightedPrecision\"}) * 100\n",
    "recall = evaluator.evaluate(predictions, {evaluator.metricName: \"weightedRecall\"}) * 100\n",
    "\n",
    "print(f\"Accuracy: {accuracy:.2f}%\")\n",
    "print(f\"F1 Score: {f1:.2f}%\")\n",
    "print(f\"Precision: {precision:.2f}%\")\n",
    "print(f\"Recall: {recall:.2f}%\")\n"
   ]
  },
  {
   "cell_type": "markdown",
   "metadata": {
    "application/vnd.databricks.v1+cell": {
     "cellMetadata": {
      "byteLimit": 2048000,
      "rowLimit": 10000
     },
     "inputWidgets": {},
     "nuid": "5587bc65-7dee-4f9e-9ff5-f9d915708fa3",
     "showTitle": false,
     "tableResultSettingsMap": {},
     "title": ""
    }
   },
   "source": [
    "The model generalizes well to unseen data and performs consistently across all classes.\n",
    "\n",
    "There is minimal class imbalance impact, likely due to your earlier upsampling strategy for underrepresented classes.\n",
    "\n",
    "These results are a strong indication that your features and preprocessing pipeline (e.g., indexing, scaling, balancing) are highly effective."
   ]
  },
  {
   "cell_type": "markdown",
   "metadata": {
    "application/vnd.databricks.v1+cell": {
     "cellMetadata": {
      "byteLimit": 2048000,
      "rowLimit": 10000
     },
     "inputWidgets": {},
     "nuid": "93ef6f9e-cefb-48ed-a136-b46eb7cb59a6",
     "showTitle": false,
     "tableResultSettingsMap": {},
     "title": ""
    }
   },
   "source": [
    "Confusion Matrix"
   ]
  },
  {
   "cell_type": "code",
   "execution_count": 0,
   "metadata": {
    "application/vnd.databricks.v1+cell": {
     "cellMetadata": {
      "byteLimit": 2048000,
      "rowLimit": 10000
     },
     "inputWidgets": {},
     "nuid": "d10fb2d3-a698-45de-82a5-0ee2e4d74a55",
     "showTitle": false,
     "tableResultSettingsMap": {},
     "title": ""
    }
   },
   "outputs": [
    {
     "output_type": "display_data",
     "data": {
      "image/png": "[encoded data removed]",
      "text/plain": [
       "<Figure size 1000x700 with 2 Axes>"
      ]
     },
     "metadata": {},
     "output_type": "display_data"
    }
   ],
   "source": [
    "# Step 1: Convert predictions to Pandas\n",
    "confusion_matrix = predictions.groupBy(\"Suggested_Meal_Plan_Idx\", \"prediction\").count()\n",
    "confusion_pd = confusion_matrix.toPandas()\n",
    "\n",
    "# Step 2: Create a pivot table\n",
    "pivot_table = confusion_pd.pivot(index=\"Suggested_Meal_Plan_Idx\", columns=\"prediction\", values=\"count\").fillna(0)\n",
    "\n",
    "# Step 3: Plot confusion matrix\n",
    "plt.figure(figsize=(10, 7))\n",
    "sns.heatmap(pivot_table, annot=True, fmt='g', cmap='Blues', cbar=True)\n",
    "plt.title(\"Confusion Matrix\")\n",
    "plt.xlabel(\"Predicted Label\")\n",
    "plt.ylabel(\"True Label\")\n",
    "plt.tight_layout()\n",
    "plt.show()"
   ]
  },
  {
   "cell_type": "markdown",
   "metadata": {
    "application/vnd.databricks.v1+cell": {
     "cellMetadata": {
      "byteLimit": 2048000,
      "rowLimit": 10000
     },
     "inputWidgets": {},
     "nuid": "6039f30b-41e8-4299-a15a-ca14b709d68c",
     "showTitle": false,
     "tableResultSettingsMap": {},
     "title": ""
    }
   },
   "source": [
    "From the confusion matrix:\n",
    "\n",
    "Perfect classification for several meal plans (Classes 1, 3, 5, and 6).\n",
    "\n",
    "The model can differentiate between meal plans based on features like age, BMI, gut bacteria levels, allergies, and nutrient intake.\n",
    "\n",
    "Misclassifications (e.g., class 0 predicted as 1 or 2) suggest some overlap or similarity in patterns for certain meal plans—possibly users with borderline or shared dietary features."
   ]
  },
  {
   "cell_type": "markdown",
   "metadata": {
    "application/vnd.databricks.v1+cell": {
     "cellMetadata": {
      "byteLimit": 2048000,
      "rowLimit": 10000
     },
     "inputWidgets": {},
     "nuid": "394747af-a0e6-4070-8f18-e461707d86a1",
     "showTitle": false,
     "tableResultSettingsMap": {},
     "title": ""
    }
   },
   "source": [
    "Post-processing on model’s predictions to convert numeric prediction indices back to human-readable meal plan names, which is crucial for interpretation, validation, and presentation.\n",
    "\n",
    "The StringIndexer was originally used to convert string labels like \"Keto-Friendly Low Carb\" into numeric indices (e.g., 0.0, 1.0, etc.) so the model could work with them.\n",
    "\n",
    "Here, we refit the indexer on the full dataset to retrieve the exact same label-to-index mapping.\n",
    "\n",
    "This lets us visually compare:\n",
    "\n",
    "The actual meal plan assigned to the customer.\n",
    "\n",
    "The model’s predicted meal plan based on features."
   ]
  },
  {
   "cell_type": "code",
   "execution_count": 0,
   "metadata": {
    "application/vnd.databricks.v1+cell": {
     "cellMetadata": {
      "byteLimit": 2048000,
      "rowLimit": 10000
     },
     "inputWidgets": {},
     "nuid": "59dd5811-2cf2-4a5f-9bdf-d165a1f6b1ed",
     "showTitle": false,
     "tableResultSettingsMap": {},
     "title": ""
    }
   },
   "outputs": [
    {
     "output_type": "stream",
     "name": "stdout",
     "output_type": "stream",
     "text": [
      "+--------------------+--------------------+\n| Suggested_Meal_Plan| Predicted_Meal_Plan|\n+--------------------+--------------------+\n|Metabolic Mainten...|Metabolic Mainten...|\n|Metabolic Mainten...|Metabolic Mainten...|\n|Keto-Friendly Low...|Keto-Friendly Low...|\n|Gut-Health Fiber ...|Gut-Health Fiber ...|\n|Keto-Friendly Low...|Keto-Friendly Low...|\n|Keto-Friendly Low...|Keto-Friendly Low...|\n|Keto-Friendly Low...|Keto-Friendly Low...|\n|Metabolic Mainten...|Metabolic Mainten...|\n|Metabolic Mainten...|Metabolic Mainten...|\n|Metabolic Mainten...|Metabolic Mainten...|\n+--------------------+--------------------+\nonly showing top 10 rows\n\n"
     ]
    }
   ],
   "source": [
    "# Reuse the indexer used during training to ensure label consistency\n",
    "meal_indexer_model = StringIndexer(inputCol=\"Suggested_Meal_Plan\", outputCol=\"Suggested_Meal_Plan_Idx\", handleInvalid='skip').fit(df)\n",
    "\n",
    "# Convert prediction indices back to original string labels using the fitted indexer\n",
    "label_converter = IndexToString(\n",
    "    inputCol=\"prediction\",\n",
    "    outputCol=\"Predicted_Meal_Plan\",\n",
    "    labels=meal_indexer_model.labels  # Reuse the labels from the original indexer\n",
    ")\n",
    "\n",
    "# Apply the label converter to the predictions\n",
    "preds_named = label_converter.transform(predictions)\n",
    "\n",
    "# Show a sample of actual and predicted meal plans for comparison\n",
    "preds_named.select(\"Suggested_Meal_Plan\", \"Predicted_Meal_Plan\").show(10)\n"
   ]
  },
  {
   "cell_type": "markdown",
   "metadata": {
    "application/vnd.databricks.v1+cell": {
     "cellMetadata": {
      "byteLimit": 2048000,
      "rowLimit": 10000
     },
     "inputWidgets": {},
     "nuid": "177e14cc-6fe4-48f5-8cd4-0fd1e60fb870",
     "showTitle": false,
     "tableResultSettingsMap": {},
     "title": ""
    }
   },
   "source": [
    "This shows the model correctly predicted the meal plan for all shown examples.\n",
    "\n",
    "It confirms your label mappings are accurate, and results are interpretable for stakeholders."
   ]
  },
  {
   "cell_type": "code",
   "execution_count": 0,
   "metadata": {
    "application/vnd.databricks.v1+cell": {
     "cellMetadata": {
      "byteLimit": 2048000,
      "rowLimit": 10000
     },
     "inputWidgets": {},
     "nuid": "843908b3-9f3a-4706-9bea-e9bf0db86cfc",
     "showTitle": false,
     "tableResultSettingsMap": {},
     "title": ""
    }
   },
   "outputs": [
    {
     "output_type": "stream",
     "name": "stdout",
     "output_type": "stream",
     "text": [
      "+----------------------------+----------+\n|Suggested_Meal_Plan         |prediction|\n+----------------------------+----------+\n|Metabolic Maintenance Diet  |2.0       |\n|Metabolic Maintenance Diet  |2.0       |\n|Keto-Friendly Low-Sugar Plan|0.0       |\n|Gut-Health Fiber Boost      |1.0       |\n|Keto-Friendly Low-Sugar Plan|0.0       |\n|Keto-Friendly Low-Sugar Plan|0.0       |\n|Keto-Friendly Low-Sugar Plan|0.0       |\n|Metabolic Maintenance Diet  |2.0       |\n|Metabolic Maintenance Diet  |2.0       |\n|Metabolic Maintenance Diet  |2.0       |\n+----------------------------+----------+\nonly showing top 10 rows\n\n"
     ]
    }
   ],
   "source": [
    "# Select actual meal plans and predicted meal plans for comparison\n",
    "result_df = predictions.select(\"Suggested_Meal_Plan\", \"prediction\")\n",
    "\n",
    "# Display the first 10 rows of the selected columns\n",
    "result_df.show(10, truncate=False)\n"
   ]
  },
  {
   "cell_type": "markdown",
   "metadata": {
    "application/vnd.databricks.v1+cell": {
     "cellMetadata": {
      "byteLimit": 2048000,
      "rowLimit": 10000
     },
     "inputWidgets": {},
     "nuid": "550a1497-6eb3-43f9-ba39-3aa152e1de13",
     "showTitle": false,
     "tableResultSettingsMap": {},
     "title": ""
    }
   },
   "source": [
    "\n",
    "Comparing the number of predicted meal plans with the actual meal plans for different categories\n",
    "\n",
    "This code compares the distribution of predicted meal plans with the actual meal plans to evaluate how well a machine learning model performed. It first groups the predicted meal plans and actual meal plans separately, counting how many times each meal plan appears in both the predictions and the true labels. Then, it joins these two datasets on the meal plan names using an outer join, so that all meal plans are included even if they appear in only one of the datasets. After selecting the relevant columns, the combined data is converted into a Pandas DataFrame for easier visualization. "
   ]
  },
  {
   "cell_type": "code",
   "execution_count": 0,
   "metadata": {
    "application/vnd.databricks.v1+cell": {
     "cellMetadata": {
      "byteLimit": 2048000,
      "rowLimit": 10000
     },
     "inputWidgets": {},
     "nuid": "b58c166f-3b98-4ff6-9b79-87552004c057",
     "showTitle": false,
     "tableResultSettingsMap": {},
     "title": ""
    }
   },
   "outputs": [
    {
     "output_type": "display_data",
     "data": {
      "text/plain": [
       "\u001B[0;36m  File \u001B[0;32m<command-3741770050916610>, line 1\u001B[0;36m\u001B[0m\n",
       "\u001B[0;31m    Comparing the number of predicted meal plans with the actual meal plans for different categories\u001B[0m\n",
       "\u001B[0m              ^\u001B[0m\n",
       "\u001B[0;31mSyntaxError\u001B[0m\u001B[0;31m:\u001B[0m invalid syntax\n"
      ]
     },
     "metadata": {
      "application/vnd.databricks.v1+output": {
       "addedWidgets": {},
       "arguments": {},
       "datasetInfos": [],
       "jupyterProps": {
        "ename": "SyntaxError",
        "evalue": "invalid syntax (command-3741770050916610-238256122, line 1)"
       },
       "metadata": {
        "errorSummary": "Command skipped"
       },
       "removedWidgets": [],
       "sqlProps": null,
       "stackFrames": [
        "\u001B[0;36m  File \u001B[0;32m<command-3741770050916610>, line 1\u001B[0;36m\u001B[0m\n\u001B[0;31m    Comparing the number of predicted meal plans with the actual meal plans for different categories\u001B[0m\n\u001B[0m              ^\u001B[0m\n\u001B[0;31mSyntaxError\u001B[0m\u001B[0;31m:\u001B[0m invalid syntax\n"
       ],
       "type": "baseError"
      }
     },
     "output_type": "display_data"
    }
   ],
   "source": [
    "# Aggregate predicted meal plan distribution (count occurrences)\n",
    "pred_dist_df = preds_named.groupBy(\"Predicted_Meal_Plan\").count().withColumnRenamed(\"count\", \"Predicted_Count\")\n",
    "\n",
    "# Aggregate actual meal plan distribution (count occurrences)\n",
    "actual_dist_df = test_df.groupBy(\"Suggested_Meal_Plan\").count().withColumnRenamed(\"count\", \"Actual_Count\")\n",
    "\n",
    "# Join predicted and actual distributions on meal plan\n",
    "dist_combined = pred_dist_df.join(actual_dist_df, \n",
    "                                  pred_dist_df.Predicted_Meal_Plan == actual_dist_df.Suggested_Meal_Plan, \n",
    "                                  \"outer\")\n",
    "\n",
    "# Select relevant columns for analysis\n",
    "dist_combined = dist_combined.select(\"Predicted_Meal_Plan\", \"Predicted_Count\", \"Suggested_Meal_Plan\", \"Actual_Count\")\n",
    "\n",
    "# Convert to Pandas DataFrame for easy visualization\n",
    "dist_pd = dist_combined.toPandas()\n",
    "\n",
    "\n",
    "# Set \"Predicted_Meal_Plan\" as the index for better visualization\n",
    "dist_pd.set_index(\"Predicted_Meal_Plan\", inplace=True)\n",
    "\n",
    "# Plot the predicted vs actual meal plan distribution (bar chart)\n",
    "dist_pd[['Predicted_Count', 'Actual_Count']].plot(kind='bar', stacked=False, figsize=(10, 6))\n",
    "\n",
    "# Customize the chart\n",
    "plt.title('Distribution of Predicted vs Actual Meal Plans')\n",
    "plt.xlabel('Meal Plan')\n",
    "plt.ylabel('Count')\n",
    "plt.xticks(rotation=45)\n",
    "plt.tight_layout()  # Ensure the layout is tight and no overlap occurs\n",
    "\n",
    "# Show the plot\n",
    "plt.show()\n"
   ]
  },
  {
   "cell_type": "markdown",
   "metadata": {
    "application/vnd.databricks.v1+cell": {
     "cellMetadata": {
      "byteLimit": 2048000,
      "rowLimit": 10000
     },
     "inputWidgets": {},
     "nuid": "504cac16-9702-461f-a672-de663874b3a8",
     "showTitle": false,
     "tableResultSettingsMap": {},
     "title": ""
    }
   },
   "source": [
    "\n",
    "For most meal plans, predicted and actual counts are very close, showing that the model performed well.\n",
    "\n",
    "Digestive Relief was slightly overpredicted.\n",
    "\n",
    "Keto-Friendly Low-Sugar Plan was underpredicted (actual > predicted).\n",
    "\n",
    "These differences help identify where your model is accurate or biased."
   ]
  },
  {
   "cell_type": "markdown",
   "metadata": {
    "application/vnd.databricks.v1+cell": {
     "cellMetadata": {
      "byteLimit": 2048000,
      "rowLimit": 10000
     },
     "inputWidgets": {},
     "nuid": "26379553-87be-4cc0-b417-1b4d45f5d57c",
     "showTitle": false,
     "tableResultSettingsMap": {},
     "title": ""
    }
   },
   "source": [
    "Distribution of class probabilities for each predicted category"
   ]
  },
  {
   "cell_type": "code",
   "execution_count": 0,
   "metadata": {
    "application/vnd.databricks.v1+cell": {
     "cellMetadata": {
      "byteLimit": 2048000,
      "rowLimit": 10000
     },
     "inputWidgets": {},
     "nuid": "16887d3b-cd9d-4b2a-8231-2ec23adfe3c6",
     "showTitle": false,
     "tableResultSettingsMap": {},
     "title": ""
    }
   },
   "outputs": [
    {
     "output_type": "display_data",
     "data": {
      "text/plain": [
       "\u001B[0;36m  File \u001B[0;32m<command-3741770050916610>, line 1\u001B[0;36m\u001B[0m\n",
       "\u001B[0;31m    Comparing the number of predicted meal plans with the actual meal plans for different categories\u001B[0m\n",
       "\u001B[0m              ^\u001B[0m\n",
       "\u001B[0;31mSyntaxError\u001B[0m\u001B[0;31m:\u001B[0m invalid syntax\n"
      ]
     },
     "metadata": {
      "application/vnd.databricks.v1+output": {
       "addedWidgets": {},
       "arguments": {},
       "datasetInfos": [],
       "jupyterProps": {
        "ename": "SyntaxError",
        "evalue": "invalid syntax (command-3741770050916610-238256122, line 1)"
       },
       "metadata": {
        "errorSummary": "Command skipped"
       },
       "removedWidgets": [],
       "sqlProps": null,
       "stackFrames": [
        "\u001B[0;36m  File \u001B[0;32m<command-3741770050916610>, line 1\u001B[0;36m\u001B[0m\n\u001B[0;31m    Comparing the number of predicted meal plans with the actual meal plans for different categories\u001B[0m\n\u001B[0m              ^\u001B[0m\n\u001B[0;31mSyntaxError\u001B[0m\u001B[0;31m:\u001B[0m invalid syntax\n"
       ],
       "type": "baseError"
      }
     },
     "output_type": "display_data"
    }
   ],
   "source": [
    "\n",
    "# Index the target variable ('Suggested_Meal_Plan') into numerical labels\n",
    "indexer = StringIndexer(inputCol=\"Suggested_Meal_Plan\", outputCol=\"label\")\n",
    "indexer_model = indexer.fit(df)\n",
    "labels = indexer_model.labels  # Retrieve the labels for inverse transformation\n",
    "\n",
    "# Select the probability and predicted meal plan columns and convert to Pandas\n",
    "probs_df = preds_named.select(\"probability\", \"Predicted_Meal_Plan\").toPandas()\n",
    "\n",
    "# Extract probabilities from the 'probability' column and reshape them into a matrix\n",
    "prob_matrix = np.array([list(row) for row in probs_df[\"probability\"]])\n",
    "\n",
    "# Create a DataFrame with columns for each class probability (Predicted Meal Plan)\n",
    "prob_df = pd.DataFrame(prob_matrix, columns=[f\"Prob_{label}\" for label in labels])\n",
    "\n",
    "# Add the predicted meal plan to the DataFrame\n",
    "prob_df[\"Predicted\"] = probs_df[\"Predicted_Meal_Plan\"]\n",
    "\n",
    "# Plot the distribution of prediction probabilities for each meal plan\n",
    "plt.figure(figsize=(12, 6))\n",
    "sns.boxplot(data=prob_df.drop(columns=\"Predicted\"), palette=\"coolwarm\")\n",
    "\n",
    "# Title and labels for clarity\n",
    "plt.title(\"Distribution of Prediction Probabilities for Each Meal Plan\")\n",
    "plt.xlabel(\"Meal Plan Type\")\n",
    "plt.ylabel(\"Prediction Probability\")\n",
    "plt.xticks(rotation=45)\n",
    "plt.tight_layout()\n",
    "plt.show()\n"
   ]
  },
  {
   "cell_type": "markdown",
   "metadata": {
    "application/vnd.databricks.v1+cell": {
     "cellMetadata": {
      "byteLimit": 2048000,
      "rowLimit": 10000
     },
     "inputWidgets": {},
     "nuid": "00ec5038-5cae-4367-a704-73e2d71f4167",
     "showTitle": false,
     "tableResultSettingsMap": {},
     "title": ""
    }
   },
   "source": [
    "Each box shows the distribution of probabilities assigned to a particular meal plan class across all predictions.\n",
    "\n",
    "The Keto-Friendly Low-Sugar Plan has the highest median and largest spread, suggesting:\n",
    "\n",
    "It is frequently predicted.\n",
    "\n",
    "The model is very confident when assigning this label.\n",
    "\n",
    "Other plans like Digestive Relief or Heart Health Plus have low and tightly packed probabilities, suggesting:\n",
    "\n",
    "The model is less confident about those.\n",
    "\n",
    "\n"
   ]
  },
  {
   "cell_type": "code",
   "execution_count": 0,
   "metadata": {
    "application/vnd.databricks.v1+cell": {
     "cellMetadata": {
      "byteLimit": 2048000,
      "rowLimit": 10000
     },
     "inputWidgets": {},
     "nuid": "edf9f30a-6724-4d2e-b902-19aa2bb5c76d",
     "showTitle": false,
     "tableResultSettingsMap": {},
     "title": ""
    }
   },
   "outputs": [
    {
     "output_type": "display_data",
     "data": {
      "text/plain": [
       "\u001B[0;36m  File \u001B[0;32m<command-3741770050916610>, line 1\u001B[0;36m\u001B[0m\n",
       "\u001B[0;31m    Comparing the number of predicted meal plans with the actual meal plans for different categories\u001B[0m\n",
       "\u001B[0m              ^\u001B[0m\n",
       "\u001B[0;31mSyntaxError\u001B[0m\u001B[0;31m:\u001B[0m invalid syntax\n"
      ]
     },
     "metadata": {
      "application/vnd.databricks.v1+output": {
       "addedWidgets": {},
       "arguments": {},
       "datasetInfos": [],
       "jupyterProps": {
        "ename": "SyntaxError",
        "evalue": "invalid syntax (command-3741770050916610-238256122, line 1)"
       },
       "metadata": {
        "errorSummary": "Command skipped"
       },
       "removedWidgets": [],
       "sqlProps": null,
       "stackFrames": [
        "\u001B[0;36m  File \u001B[0;32m<command-3741770050916610>, line 1\u001B[0;36m\u001B[0m\n\u001B[0;31m    Comparing the number of predicted meal plans with the actual meal plans for different categories\u001B[0m\n\u001B[0m              ^\u001B[0m\n\u001B[0;31mSyntaxError\u001B[0m\u001B[0;31m:\u001B[0m invalid syntax\n"
       ],
       "type": "baseError"
      }
     },
     "output_type": "display_data"
    }
   ],
   "source": [
    "Feature Importance"
   ]
  },
  {
   "cell_type": "code",
   "execution_count": 0,
   "metadata": {
    "application/vnd.databricks.v1+cell": {
     "cellMetadata": {
      "byteLimit": 2048000,
      "rowLimit": 10000
     },
     "inputWidgets": {},
     "nuid": "b6c449e9-9573-43b9-bb14-43661727a416",
     "showTitle": false,
     "tableResultSettingsMap": {},
     "title": ""
    }
   },
   "outputs": [
    {
     "output_type": "display_data",
     "data": {
      "image/png": "[encoded data removed]",
      "text/plain": [
       "<Figure size 1200x600 with 1 Axes>"
      ]
     },
     "metadata": {},
     "output_type": "display_data"
    }
   ],
   "source": [
    "# Extract the trained RandomForest model from the pipeline\n",
    "rf_model = model.stages[-1]\n",
    "\n",
    "# Get importances from RandomForest model (it's a SparseVector)\n",
    "importances = rf_model.featureImportances.toArray()\n",
    "\n",
    "# Create a DataFrame mapping feature names to importance scores\n",
    "feature_importance_df = pd.DataFrame({\n",
    "    \"Feature\": feature_cols,\n",
    "    \"Importance\": importances\n",
    "}).sort_values(by=\"Importance\", ascending=False)\n",
    "\n",
    "# Plot feature importance\n",
    "plt.figure(figsize=(12, 6))\n",
    "sns.barplot(x=\"Importance\", y=\"Feature\", data=feature_importance_df, palette=\"viridis\")\n",
    "plt.title(\"Feature Importance in Random Forest (from Pipeline)\")\n",
    "plt.tight_layout()\n",
    "plt.show()\n"
   ]
  },
  {
   "cell_type": "markdown",
   "metadata": {
    "application/vnd.databricks.v1+cell": {
     "cellMetadata": {
      "byteLimit": 2048000,
      "rowLimit": 10000
     },
     "inputWidgets": {},
     "nuid": "2a76c31b-1751-4e16-a83e-62c40ecc944b",
     "showTitle": false,
     "tableResultSettingsMap": {},
     "title": ""
    }
   },
   "source": [
    "Top Features:\n",
    "\n",
    "Carbohydrate_Intake_idx (importance ~0.40) is the strongest predictor, suggesting dietary carbohydrates play a critical role in the model's predictions.\n",
    "\n",
    "Age and Gluten_Allergy are next, indicating demographic and allergy-related factors are significant.\n",
    "\n",
    "Biological Features:\n",
    "\n",
    "Gut microbiota taxa like Bacteroides, Actinobacteria, and Firmicutes have moderate importance, implying microbiome composition may influence the predicted outcome (e.g., a health condition).\n",
    "\n",
    "Lower-Impact Features:\n",
    "\n",
    "BMI, Dairy_Allergy, and Protein_Intake_idx have smaller but non-negligible contributions.\n",
    "\n",
    "Gender_idx and Nut_Allergy are near the bottom, indicating minimal predictive power in this model."
   ]
  },
  {
   "cell_type": "markdown",
   "metadata": {
    "application/vnd.databricks.v1+cell": {
     "cellMetadata": {
      "byteLimit": 2048000,
      "rowLimit": 10000
     },
     "inputWidgets": {},
     "nuid": "334c8859-8422-4f21-96db-c89422cd4aea",
     "showTitle": false,
     "tableResultSettingsMap": {},
     "title": ""
    }
   },
   "source": [
    "## Project Overview\n",
    "For the project, I constructed a classification model with Random Forest to tailor meal planning according to people's dietary input, allergies, and demographic information. This showcases the promise of support for the new precision nutrition area to deliver customized diet advice through personal data. The model proved to have good correlation with real nutritional reasoning and was discovered to be of commercial interest for inclusion in digital health and wellness platforms.\n",
    "\n",
    "## Key Insights\n",
    "\n",
    "High Accuracy in Popular Meal Plans\n",
    "The model achieved ~95% classification accuracy, and high performance was demonstrated in predicting popular diets like Keto-Friendly Low-Sugar and Mediterranean Gut Boost. These diets can be suggested for patients with high BMI, insulin sensitivity problems, or low-carb needs.\n",
    "\n",
    "Clinical Relevance of \"Keto-Friendly Low-Sugar\"\n",
    "Keto-Friendly Low-Sugar plan was consistently predicted for low-carb and high-fat consumption, consistent with pre-diabetes or metabolic syndrome, or weight-reduction clinical practice guidelines. This supports the relevance of the model to clinical nutrition and nutritional need.\n",
    "\n",
    "Nutrient & Allergy-Aware Forecasts\n",
    "Key-ranked elements such as Carbohydrate Intake, Fat Intake, and Gluten/Dairy/Nut Allergies dominated forecasting. The model consistently avoided predicting allergen-incompatible plans for the purposes of clinical safety and personalization.\n",
    "\n",
    "Infrequent Diet Restriction\n",
    "Personalized meal plans (e.g., Low-FODMAP, Anti-Inflammatory) were less often predicted because of class imbalance, a natural constraint in training data. These would be better represented in future versions to benefit patients with specific dietary needs.\n",
    "\n",
    "## Business Implications\n",
    "\n",
    "Readiness of Health-Tech Platform\n",
    "The model's excellent performance on standard diet types—like Keto and Mediterranean diets—makes it ideal for integration into mobile wellness apps, tele-nutrition services, and personalized meal delivery systems.\n",
    "\n",
    "Personalized, Data-Driven Differentiation\n",
    "With inputs specific to the user (nutrient intake + allergy profiles), the system provides highly personalized recommendations—giving a competitive edge over standard one-size-fits-all suggestion systems.\n",
    "\n",
    "Expansion into Niche Markets\n",
    "While unusual plans were underrepresented, there is high potential for targeting clinical premium nutrition services (e.g., autoimmune, IBS, or anti-inflammatory coaching) with longer data.\n",
    "\n",
    "Strategic Takeaways\n",
    "\n",
    "- Projections align with diet advice, especially for low-carb/high-fat trends like Keto.\n",
    "\n",
    "- Significance of features analysis provides interpretability, critical to establishing trust in clinical settings.\n",
    " \n",
    "- Class balancing would be necessary in order to boost prediction for underrepresented diet classes.\n",
    " \n",
    "- Built on PySpark, the model is highly scalable and production-quality for mass deployment.\n",
    "\n",
    "## Conclusion\n",
    "\n",
    "Random Forest Model provides a robust, interpretable, and scalable solution for personalized meal plan recommendations. Its consistent prediction of Keto-Friendly Low-Sugar and other top diets demonstrates its clinical and commercial value. Equipped with robust predictive reasoning and practical applicability, this model is a solid foundation for developing personalized nutrition solutions that close the loop between individual health data and actionable dietary advice.\n"
   ]
  }
 ],
 "metadata": {
  "application/vnd.databricks.v1+notebook": {
   "computePreferences": null,
   "dashboards": [],
   "environmentMetadata": null,
   "inputWidgetPreferences": null,
   "language": "python",
   "notebookMetadata": {
    "mostRecentlyExecutedCommandWithImplicitDF": {
     "commandId": 2137309087285340,
     "dataframes": [
      "_sqldf"
     ]
    },
    "pythonIndentUnit": 4
   },
   "notebookName": "random_forest_mealplan",
   "widgets": {}
  }
 },
 "nbformat": 4,
 "nbformat_minor": 0
}