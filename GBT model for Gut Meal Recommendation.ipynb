{
 "cells": [
  {
   "cell_type": "markdown",
   "metadata": {
    "application/vnd.databricks.v1+cell": {
     "cellMetadata": {},
     "inputWidgets": {},
     "nuid": "302c3bd7-f69b-444b-bea5-b6a43f77ac57",
     "showTitle": false,
     "tableResultSettingsMap": {},
     "title": ""
    }
   },
   "source": [
    "# Gut Meal Suggestion by using Gradient Bossted Trees"
   ]
  },
  {
   "cell_type": "markdown",
   "metadata": {
    "application/vnd.databricks.v1+cell": {
     "cellMetadata": {
      "byteLimit": 2048000,
      "rowLimit": 10000
     },
     "inputWidgets": {},
     "nuid": "63c8de32-795e-4031-92c6-9ebbb66bdf3d",
     "showTitle": false,
     "tableResultSettingsMap": {},
     "title": ""
    }
   },
   "source": [
    "In this project, we aim to generate personalized meal plan recommendations using a dataset that combines gut microbiome profiles, dietary intake patterns, demographic information, and allergy indicators. The goal is to provide nutrition guidance tailored to individual health profiles."
   ]
  },
  {
   "cell_type": "markdown",
   "metadata": {
    "application/vnd.databricks.v1+cell": {
     "cellMetadata": {
      "byteLimit": 2048000,
      "rowLimit": 10000
     },
     "inputWidgets": {},
     "nuid": "7a26c1bd-4788-4b87-b46e-de58d6a12358",
     "showTitle": false,
     "tableResultSettingsMap": {},
     "title": ""
    }
   },
   "source": [
    "Having already built and evaluated a Decision Tree classifier, we now extend our modeling to **Gradient-Boosted Trees** — a more advanced ensemble method that builds a series of decision trees, where each new tree focuses on correcting the errors of the previous one.\n",
    "\n",
    "We expect the GBT model to outperform the standalone Decision Tree in terms of prediction accuracy and generalization, especially because:\n",
    "\n",
    "GBT reduces overfitting by aggregating many weak learners.\n",
    "It captures complex patterns and interactions in the data more effectively.\n",
    "GBT is well-suited for imbalanced or noisy datasets, which we’ve addressed through preprocessing."
   ]
  },
  {
   "cell_type": "markdown",
   "metadata": {
    "application/vnd.databricks.v1+cell": {
     "cellMetadata": {
      "byteLimit": 2048000,
      "rowLimit": 10000
     },
     "inputWidgets": {},
     "nuid": "042fd5e9-d526-4e4a-a6c8-46ffefd013e3",
     "showTitle": false,
     "tableResultSettingsMap": {},
     "title": ""
    }
   },
   "source": [
    "## Initial Set-up"
   ]
  },
  {
   "cell_type": "code",
   "execution_count": 0,
   "metadata": {
    "application/vnd.databricks.v1+cell": {
     "cellMetadata": {
      "byteLimit": 2048000,
      "rowLimit": 10000
     },
     "inputWidgets": {},
     "nuid": "b80aa566-bf4e-432b-9968-ef8ef0844792",
     "showTitle": false,
     "tableResultSettingsMap": {},
     "title": ""
    }
   },
   "outputs": [],
   "source": [
    "from pyspark.sql import SparkSession, Row\n",
    "from pyspark.sql.functions import col, expr, count\n",
    "from pyspark.ml.feature import StringIndexer, VectorAssembler, QuantileDiscretizer, IndexToString\n",
    "from pyspark.ml.classification import GBTClassifier, OneVsRest \n",
    "from pyspark.ml.evaluation import MulticlassClassificationEvaluator\n",
    "from pyspark.sql.types import DoubleType\n"
   ]
  },
  {
   "cell_type": "code",
   "execution_count": 0,
   "metadata": {
    "application/vnd.databricks.v1+cell": {
     "cellMetadata": {
      "byteLimit": 2048000,
      "rowLimit": 10000
     },
     "inputWidgets": {},
     "nuid": "a39e7de7-fad0-4057-879f-b640804554bb",
     "showTitle": false,
     "tableResultSettingsMap": {},
     "title": ""
    }
   },
   "outputs": [],
   "source": [
    "import matplotlib.pyplot as plt\n",
    "import seaborn as sns\n",
    "import pandas as pd\n",
    "import numpy as np"
   ]
  },
  {
   "cell_type": "code",
   "execution_count": 0,
   "metadata": {
    "application/vnd.databricks.v1+cell": {
     "cellMetadata": {
      "byteLimit": 2048000,
      "rowLimit": 10000
     },
     "inputWidgets": {},
     "nuid": "68995579-1c98-4225-b28c-f2d5cf1bc803",
     "showTitle": false,
     "tableResultSettingsMap": {},
     "title": ""
    }
   },
   "outputs": [],
   "source": [
    "#Initializing a session for gradient boosting\n",
    "spark = SparkSession.builder.appName(\"GradientBoostingMealPlan\").getOrCreate()"
   ]
  },
  {
   "cell_type": "code",
   "execution_count": 0,
   "metadata": {
    "application/vnd.databricks.v1+cell": {
     "cellMetadata": {
      "byteLimit": 2048000,
      "rowLimit": 10000
     },
     "inputWidgets": {},
     "nuid": "2655be9f-2ab8-4198-b5b6-807c8d71711b",
     "showTitle": false,
     "tableResultSettingsMap": {},
     "title": ""
    }
   },
   "outputs": [],
   "source": [
    "#import data\n",
    "df = spark.read.csv(\"/FileStore/tables/microbe_gut_health_data_2.csv\", header=True, inferSchema=True)"
   ]
  },
  {
   "cell_type": "code",
   "execution_count": 0,
   "metadata": {
    "application/vnd.databricks.v1+cell": {
     "cellMetadata": {
      "byteLimit": 2048000,
      "rowLimit": 10000
     },
     "inputWidgets": {},
     "nuid": "502c253a-8749-4288-b87f-2810c747bf30",
     "showTitle": false,
     "tableResultSettingsMap": {},
     "title": ""
    }
   },
   "outputs": [],
   "source": [
    "#saving the dataframe as a table\n",
    "df.write.mode(\"overwrite\").saveAsTable(\"gut_data\")"
   ]
  },
  {
   "cell_type": "markdown",
   "metadata": {
    "application/vnd.databricks.v1+cell": {
     "cellMetadata": {
      "byteLimit": 2048000,
      "rowLimit": 10000
     },
     "inputWidgets": {},
     "nuid": "02af439e-6955-4a21-a7dc-4631baac6c14",
     "showTitle": false,
     "tableResultSettingsMap": {},
     "title": ""
    }
   },
   "source": [
    "## **EDA**"
   ]
  },
  {
   "cell_type": "markdown",
   "metadata": {
    "application/vnd.databricks.v1+cell": {
     "cellMetadata": {
      "byteLimit": 2048000,
      "rowLimit": 10000
     },
     "inputWidgets": {},
     "nuid": "8b8cf784-2d9f-4c37-b6b0-1efe7db06389",
     "showTitle": false,
     "tableResultSettingsMap": {},
     "title": ""
    }
   },
   "source": [
    "What is the minimum, and maximum age of the participants"
   ]
  },
  {
   "cell_type": "code",
   "execution_count": 0,
   "metadata": {
    "application/vnd.databricks.v1+cell": {
     "cellMetadata": {
      "byteLimit": 2048000,
      "implicitDf": true,
      "rowLimit": 10000
     },
     "inputWidgets": {},
     "nuid": "2da6550e-3e60-4089-8e90-f9ee8c344f71",
     "showTitle": false,
     "tableResultSettingsMap": {},
     "title": ""
    }
   },
   "outputs": [
    {
     "output_type": "display_data",
     "data": {
      "text/html": [
       "<style scoped>\n",
       "  .table-result-container {\n",
       "    max-height: 300px;\n",
       "    overflow: auto;\n",
       "  }\n",
       "  table, th, td {\n",
       "    border: 1px solid black;\n",
       "    border-collapse: collapse;\n",
       "  }\n",
       "  th, td {\n",
       "    padding: 5px;\n",
       "  }\n",
       "  th {\n",
       "    text-align: left;\n",
       "  }\n",
       "</style><div class='table-result-container'><table class='table-result'><thead style='background-color: white'><tr><th>min_age</th><th>max_age</th><th>avg_age</th><th>median_age</th></tr></thead><tbody><tr><td>20</td><td>69</td><td>44.243</td><td>44.0</td></tr></tbody></table></div>"
      ]
     },
     "metadata": {
      "application/vnd.databricks.v1+output": {
       "addedWidgets": {},
       "aggData": [],
       "aggError": "",
       "aggOverflow": false,
       "aggSchema": [],
       "aggSeriesLimitReached": false,
       "aggType": "",
       "arguments": {},
       "columnCustomDisplayInfos": {},
       "data": [
        [
         20,
         69,
         44.243,
         44.0
        ]
       ],
       "datasetInfos": [],
       "dbfsResultPath": null,
       "isJsonSchema": true,
       "metadata": {
        "createTempViewForImplicitDf": true,
        "dataframeName": "_sqldf",
        "executionCount": 6
       },
       "overflow": false,
       "plotOptions": {
        "customPlotOptions": {},
        "displayType": "table",
        "pivotAggregation": null,
        "pivotColumns": null,
        "xColumns": null,
        "yColumns": null
       },
       "removedWidgets": [],
       "schema": [
        {
         "metadata": "{}",
         "name": "min_age",
         "type": "\"integer\""
        },
        {
         "metadata": "{}",
         "name": "max_age",
         "type": "\"integer\""
        },
        {
         "metadata": "{}",
         "name": "avg_age",
         "type": "\"double\""
        },
        {
         "metadata": "{}",
         "name": "median_age",
         "type": "\"double\""
        }
       ],
       "type": "table"
      }
     },
     "output_type": "display_data"
    }
   ],
   "source": [
    "%sql\n",
    "SELECT \n",
    "  MIN(Age) AS min_age,\n",
    "  MAX(Age) AS max_age,\n",
    "  AVG(Age) AS avg_age,\n",
    "  PERCENTILE(Age, 0.5) AS median_age\n",
    "FROM gut_data;"
   ]
  },
  {
   "cell_type": "markdown",
   "metadata": {
    "application/vnd.databricks.v1+cell": {
     "cellMetadata": {
      "byteLimit": 2048000,
      "rowLimit": 10000
     },
     "inputWidgets": {},
     "nuid": "69cd3f57-d0d6-4c16-9d06-5b08894bcdf4",
     "showTitle": false,
     "tableResultSettingsMap": {},
     "title": ""
    }
   },
   "source": [
    "Participants are aged between 20 and 69."
   ]
  },
  {
   "cell_type": "code",
   "execution_count": 0,
   "metadata": {
    "application/vnd.databricks.v1+cell": {
     "cellMetadata": {
      "byteLimit": 2048000,
      "implicitDf": true,
      "rowLimit": 10000
     },
     "inputWidgets": {},
     "nuid": "b3df7f3a-c799-4fbd-a70a-d4365319ab21",
     "showTitle": false,
     "tableResultSettingsMap": {},
     "title": ""
    }
   },
   "outputs": [
    {
     "output_type": "display_data",
     "data": {
      "text/html": [
       "<style scoped>\n",
       "  .table-result-container {\n",
       "    max-height: 300px;\n",
       "    overflow: auto;\n",
       "  }\n",
       "  table, th, td {\n",
       "    border: 1px solid black;\n",
       "    border-collapse: collapse;\n",
       "  }\n",
       "  th, td {\n",
       "    padding: 5px;\n",
       "  }\n",
       "  th {\n",
       "    text-align: left;\n",
       "  }\n",
       "</style><div class='table-result-container'><table class='table-result'><thead style='background-color: white'><tr><th>age_group</th><th>count</th></tr></thead><tbody><tr><td>50+</td><td>395</td></tr><tr><td>20–29</td><td>225</td></tr><tr><td>30–39</td><td>200</td></tr><tr><td>40–49</td><td>180</td></tr></tbody></table></div>"
      ]
     },
     "metadata": {
      "application/vnd.databricks.v1+output": {
       "addedWidgets": {},
       "aggData": [],
       "aggError": "",
       "aggOverflow": false,
       "aggSchema": [],
       "aggSeriesLimitReached": false,
       "aggType": "",
       "arguments": {},
       "columnCustomDisplayInfos": {},
       "data": [
        [
         "50+",
         395
        ],
        [
         "20–29",
         225
        ],
        [
         "30–39",
         200
        ],
        [
         "40–49",
         180
        ]
       ],
       "datasetInfos": [],
       "dbfsResultPath": null,
       "isJsonSchema": true,
       "metadata": {
        "createTempViewForImplicitDf": true,
        "dataframeName": "_sqldf",
        "executionCount": 7
       },
       "overflow": false,
       "plotOptions": {
        "customPlotOptions": {},
        "displayType": "table",
        "pivotAggregation": null,
        "pivotColumns": null,
        "xColumns": null,
        "yColumns": null
       },
       "removedWidgets": [],
       "schema": [
        {
         "metadata": "{}",
         "name": "age_group",
         "type": "\"string\""
        },
        {
         "metadata": "{}",
         "name": "count",
         "type": "\"long\""
        }
       ],
       "type": "table"
      }
     },
     "output_type": "display_data"
    },
    {
     "output_type": "display_data",
     "data": {
      "text/plain": [
       "Databricks visualization. Run in Databricks to view."
      ]
     },
     "metadata": {
      "application/vnd.databricks.v1.subcommand+json": {
       "baseErrorDetails": null,
       "bindings": {},
       "collapsed": false,
       "command": "%sql WITH q AS (SELECT \n  CASE \n    WHEN Age < 20 THEN 'Under 20'\n    WHEN Age BETWEEN 20 AND 29 THEN '20–29'\n    WHEN Age BETWEEN 30 AND 39 THEN '30–39'\n    WHEN Age BETWEEN 40 AND 49 THEN '40–49'\n    WHEN Age >= 50 THEN '50+'\n  END AS age_group,\n  COUNT(*) AS count\nFROM gut_data\nGROUP BY age_group\nORDER BY count DESC) SELECT `age_group`,SUM(`count`) `column_c7ffd4bc100` FROM q GROUP BY `age_group`",
       "commandTitle": "Distribtuion of Age",
       "commandType": "auto",
       "commandVersion": 0,
       "commentThread": [],
       "commentsVisible": false,
       "contentSha256Hex": null,
       "customPlotOptions": {
        "redashChart": [
         {
          "key": "type",
          "value": "CHART"
         },
         {
          "key": "options",
          "value": {
           "alignYAxesAtZero": true,
           "coefficient": 1,
           "columnConfigurationMap": {
            "x": {
             "column": "age_group",
             "id": "column_c7ffd4bc99"
            },
            "y": [
             {
              "column": "count",
              "id": "column_c7ffd4bc100",
              "transform": "SUM"
             }
            ]
           },
           "dateTimeFormat": "DD/MM/YYYY HH:mm",
           "direction": {
            "type": "counterclockwise"
           },
           "error_y": {
            "type": "data",
            "visible": true
           },
           "globalSeriesType": "pie",
           "legend": {
            "traceorder": "normal"
           },
           "missingValuesAsZero": true,
           "numberFormat": "0,0.[00000]",
           "percentFormat": "0[.]00%",
           "series": {
            "error_y": {
             "type": "data",
             "visible": true
            },
            "stacking": null
           },
           "seriesOptions": {
            "column_c7ffd4bc100": {
             "name": "count",
             "type": "pie",
             "yAxis": 0
            }
           },
           "showDataLabels": true,
           "sizemode": "diameter",
           "sortX": true,
           "sortY": true,
           "swappedAxes": false,
           "textFormat": "",
           "useAggregationsUi": true,
           "valuesOptions": {},
           "version": 2,
           "xAxis": {
            "labels": {
             "enabled": true
            },
            "type": "-"
           },
           "yAxis": [
            {
             "type": "-"
            },
            {
             "opposite": true,
             "type": "-"
            }
           ]
          }
         }
        ]
       },
       "datasetPreviewNameToCmdIdMap": {},
       "diffDeletes": [],
       "diffInserts": [],
       "displayType": "redashChart",
       "error": null,
       "errorDetails": null,
       "errorSummary": null,
       "errorTraceType": null,
       "finishTime": 0,
       "globalVars": {},
       "guid": "",
       "height": "auto",
       "hideCommandCode": false,
       "hideCommandResult": false,
       "iPythonMetadata": null,
       "inputWidgets": {},
       "isLockedInExamMode": false,
       "latestUser": "a user",
       "latestUserId": null,
       "listResultMetadata": null,
       "metadata": {
        "byteLimit": 2048000,
        "implicitDf": true,
        "rowLimit": 10000
       },
       "nuid": "f5d8646f-dc15-47b6-aed3-bf27072ec417",
       "origId": 0,
       "parentHierarchy": [],
       "pivotAggregation": null,
       "pivotColumns": null,
       "position": 5.4765625,
       "resultDbfsErrorMessage": null,
       "resultDbfsStatus": "INLINED_IN_TREE",
       "results": null,
       "showCommandTitle": false,
       "startTime": 0,
       "state": "finished",
       "streamStates": {},
       "subcommandOptions": {
        "queryPlan": {
         "groups": [
          {
           "column": "age_group",
           "type": "column"
          }
         ],
         "selects": [
          {
           "column": "age_group",
           "type": "column"
          },
          {
           "alias": "column_c7ffd4bc100",
           "args": [
            {
             "column": "count",
             "type": "column"
            }
           ],
           "function": "SUM",
           "type": "function"
          }
         ]
        }
       },
       "submitTime": 0,
       "subtype": "tableResultSubCmd.visualization",
       "tableResultIndex": 0,
       "tableResultSettingsMap": {},
       "useConsistentColors": false,
       "version": "CommandV1",
       "width": "auto",
       "workflows": [],
       "xColumns": null,
       "yColumns": null
      }
     },
     "output_type": "display_data"
    }
   ],
   "source": [
    "%sql\n",
    "SELECT \n",
    "  CASE \n",
    "    WHEN Age < 20 THEN 'Under 20'\n",
    "    WHEN Age BETWEEN 20 AND 29 THEN '20–29'\n",
    "    WHEN Age BETWEEN 30 AND 39 THEN '30–39'\n",
    "    WHEN Age BETWEEN 40 AND 49 THEN '40–49'\n",
    "    WHEN Age >= 50 THEN '50+'\n",
    "  END AS age_group,\n",
    "  COUNT(*) AS count\n",
    "FROM gut_data\n",
    "GROUP BY age_group\n",
    "ORDER BY count DESC;\n"
   ]
  },
  {
   "cell_type": "markdown",
   "metadata": {
    "application/vnd.databricks.v1+cell": {
     "cellMetadata": {
      "byteLimit": 2048000,
      "rowLimit": 10000
     },
     "inputWidgets": {},
     "nuid": "b732ff93-7e10-4211-a6af-7c5b94a097d0",
     "showTitle": false,
     "tableResultSettingsMap": {},
     "title": ""
    }
   },
   "source": [
    "There is an almost balanced distribution among the age groups in the data."
   ]
  },
  {
   "cell_type": "markdown",
   "metadata": {
    "application/vnd.databricks.v1+cell": {
     "cellMetadata": {
      "byteLimit": 2048000,
      "rowLimit": 10000
     },
     "inputWidgets": {},
     "nuid": "b7095290-f482-4952-8c8b-e3399a6cfa67",
     "showTitle": false,
     "tableResultSettingsMap": {},
     "title": ""
    }
   },
   "source": [
    "Are there any nulls in the data?"
   ]
  },
  {
   "cell_type": "code",
   "execution_count": 0,
   "metadata": {
    "application/vnd.databricks.v1+cell": {
     "cellMetadata": {
      "byteLimit": 2048000,
      "implicitDf": true,
      "rowLimit": 10000
     },
     "inputWidgets": {},
     "nuid": "fe51637b-be82-4576-96a8-5958efc347d6",
     "showTitle": false,
     "tableResultSettingsMap": {},
     "title": ""
    }
   },
   "outputs": [
    {
     "output_type": "display_data",
     "data": {
      "text/html": [
       "<style scoped>\n",
       "  .table-result-container {\n",
       "    max-height: 300px;\n",
       "    overflow: auto;\n",
       "  }\n",
       "  table, th, td {\n",
       "    border: 1px solid black;\n",
       "    border-collapse: collapse;\n",
       "  }\n",
       "  th, td {\n",
       "    padding: 5px;\n",
       "  }\n",
       "  th {\n",
       "    text-align: left;\n",
       "  }\n",
       "</style><div class='table-result-container'><table class='table-result'><thead style='background-color: white'><tr><th>null_age</th><th>null_bmi</th><th>null_gender</th><th>null_bacteroides</th><th>null_meal_plan</th></tr></thead><tbody><tr><td>0</td><td>0</td><td>0</td><td>0</td><td>0</td></tr></tbody></table></div>"
      ]
     },
     "metadata": {
      "application/vnd.databricks.v1+output": {
       "addedWidgets": {},
       "aggData": [],
       "aggError": "",
       "aggOverflow": false,
       "aggSchema": [],
       "aggSeriesLimitReached": false,
       "aggType": "",
       "arguments": {},
       "columnCustomDisplayInfos": {},
       "data": [
        [
         0,
         0,
         0,
         0,
         0
        ]
       ],
       "datasetInfos": [],
       "dbfsResultPath": null,
       "isJsonSchema": true,
       "metadata": {
        "createTempViewForImplicitDf": true,
        "dataframeName": "_sqldf",
        "executionCount": 8
       },
       "overflow": false,
       "plotOptions": {
        "customPlotOptions": {},
        "displayType": "table",
        "pivotAggregation": null,
        "pivotColumns": null,
        "xColumns": null,
        "yColumns": null
       },
       "removedWidgets": [],
       "schema": [
        {
         "metadata": "{}",
         "name": "null_age",
         "type": "\"long\""
        },
        {
         "metadata": "{}",
         "name": "null_bmi",
         "type": "\"long\""
        },
        {
         "metadata": "{}",
         "name": "null_gender",
         "type": "\"long\""
        },
        {
         "metadata": "{}",
         "name": "null_bacteroides",
         "type": "\"long\""
        },
        {
         "metadata": "{}",
         "name": "null_meal_plan",
         "type": "\"long\""
        }
       ],
       "type": "table"
      }
     },
     "output_type": "display_data"
    }
   ],
   "source": [
    "%sql\n",
    "SELECT\n",
    "  SUM(CASE WHEN Age IS NULL THEN 1 ELSE 0 END) AS null_age,\n",
    "  SUM(CASE WHEN BMI IS NULL THEN 1 ELSE 0 END) AS null_bmi,\n",
    "  SUM(CASE WHEN Gender IS NULL THEN 1 ELSE 0 END) AS null_gender,\n",
    "  SUM(CASE WHEN Bacteroides IS NULL THEN 1 ELSE 0 END) AS null_bacteroides,\n",
    "  SUM(CASE WHEN Suggested_Meal_Plan IS NULL THEN 1 ELSE 0 END) AS null_meal_plan\n",
    "FROM gut_data;\n"
   ]
  },
  {
   "cell_type": "markdown",
   "metadata": {
    "application/vnd.databricks.v1+cell": {
     "cellMetadata": {
      "byteLimit": 2048000,
      "rowLimit": 10000
     },
     "inputWidgets": {},
     "nuid": "59012cd7-2ed5-47e9-86f3-0c3cb8fec7e9",
     "showTitle": false,
     "tableResultSettingsMap": {},
     "title": ""
    }
   },
   "source": [
    "The data seems to have no nulls, but we can fill na for good measure, and to ensure we have an unhindered model execution."
   ]
  },
  {
   "cell_type": "markdown",
   "metadata": {
    "application/vnd.databricks.v1+cell": {
     "cellMetadata": {
      "byteLimit": 2048000,
      "rowLimit": 10000
     },
     "inputWidgets": {},
     "nuid": "4d696b11-7dc2-4db3-a4bd-3a693f490f7d",
     "showTitle": false,
     "tableResultSettingsMap": {},
     "title": ""
    }
   },
   "source": [
    "What is the distribution of data among the target classes?"
   ]
  },
  {
   "cell_type": "code",
   "execution_count": 0,
   "metadata": {
    "application/vnd.databricks.v1+cell": {
     "cellMetadata": {
      "byteLimit": 2048000,
      "implicitDf": true,
      "rowLimit": 10000
     },
     "inputWidgets": {},
     "nuid": "b3058f90-c312-41ad-b1be-1674f6181b39",
     "showTitle": false,
     "tableResultSettingsMap": {},
     "title": ""
    }
   },
   "outputs": [
    {
     "output_type": "display_data",
     "data": {
      "text/html": [
       "<style scoped>\n",
       "  .table-result-container {\n",
       "    max-height: 300px;\n",
       "    overflow: auto;\n",
       "  }\n",
       "  table, th, td {\n",
       "    border: 1px solid black;\n",
       "    border-collapse: collapse;\n",
       "  }\n",
       "  th, td {\n",
       "    padding: 5px;\n",
       "  }\n",
       "  th {\n",
       "    text-align: left;\n",
       "  }\n",
       "</style><div class='table-result-container'><table class='table-result'><thead style='background-color: white'><tr><th>Suggested_Meal_Plan</th><th>count</th></tr></thead><tbody><tr><td>Keto-Friendly Low-Sugar Plan</td><td>441</td></tr><tr><td>Gut-Health Fiber Boost</td><td>285</td></tr><tr><td>Metabolic Maintenance Diet</td><td>198</td></tr><tr><td>Mediterranean Gut Balance</td><td>64</td></tr><tr><td>Dairy-Free Anti-Inflammation Plan</td><td>6</td></tr><tr><td>Digestive Relief (Low-FODMAP)</td><td>4</td></tr><tr><td>Heart Health Plus</td><td>2</td></tr></tbody></table></div>"
      ]
     },
     "metadata": {
      "application/vnd.databricks.v1+output": {
       "addedWidgets": {},
       "aggData": [],
       "aggError": "",
       "aggOverflow": false,
       "aggSchema": [],
       "aggSeriesLimitReached": false,
       "aggType": "",
       "arguments": {},
       "columnCustomDisplayInfos": {},
       "data": [
        [
         "Keto-Friendly Low-Sugar Plan",
         441
        ],
        [
         "Gut-Health Fiber Boost",
         285
        ],
        [
         "Metabolic Maintenance Diet",
         198
        ],
        [
         "Mediterranean Gut Balance",
         64
        ],
        [
         "Dairy-Free Anti-Inflammation Plan",
         6
        ],
        [
         "Digestive Relief (Low-FODMAP)",
         4
        ],
        [
         "Heart Health Plus",
         2
        ]
       ],
       "datasetInfos": [],
       "dbfsResultPath": null,
       "isJsonSchema": true,
       "metadata": {
        "createTempViewForImplicitDf": true,
        "dataframeName": "_sqldf",
        "executionCount": 9
       },
       "overflow": false,
       "plotOptions": {
        "customPlotOptions": {},
        "displayType": "table",
        "pivotAggregation": null,
        "pivotColumns": null,
        "xColumns": null,
        "yColumns": null
       },
       "removedWidgets": [],
       "schema": [
        {
         "metadata": "{}",
         "name": "Suggested_Meal_Plan",
         "type": "\"string\""
        },
        {
         "metadata": "{}",
         "name": "count",
         "type": "\"long\""
        }
       ],
       "type": "table"
      }
     },
     "output_type": "display_data"
    },
    {
     "output_type": "display_data",
     "data": {
      "text/plain": [
       "Databricks visualization. Run in Databricks to view."
      ]
     },
     "metadata": {
      "application/vnd.databricks.v1.subcommand+json": {
       "baseErrorDetails": null,
       "bindings": {},
       "collapsed": false,
       "command": "%sql WITH q AS (SELECT Suggested_Meal_Plan, COUNT(*) AS count\nFROM gut_data\nGROUP BY Suggested_Meal_Plan\nORDER BY count DESC) SELECT `Suggested_Meal_Plan`,SUM(`count`) `column_c7ffd4bc87` FROM q GROUP BY `Suggested_Meal_Plan`",
       "commandTitle": "Suggested Meal Plan Distribution",
       "commandType": "auto",
       "commandVersion": 0,
       "commentThread": [],
       "commentsVisible": false,
       "contentSha256Hex": null,
       "customPlotOptions": {
        "redashChart": [
         {
          "key": "type",
          "value": "CHART"
         },
         {
          "key": "options",
          "value": {
           "alignYAxesAtZero": true,
           "coefficient": 1,
           "columnConfigurationMap": {
            "x": {
             "column": "Suggested_Meal_Plan",
             "id": "column_c7ffd4bc86"
            },
            "y": [
             {
              "column": "count",
              "id": "column_c7ffd4bc87",
              "transform": "SUM"
             }
            ]
           },
           "dateTimeFormat": "DD/MM/YYYY HH:mm",
           "direction": {
            "type": "counterclockwise"
           },
           "error_y": {
            "type": "data",
            "visible": true
           },
           "globalSeriesType": "column",
           "legend": {
            "traceorder": "normal"
           },
           "missingValuesAsZero": true,
           "numberFormat": "0,0.[00000]",
           "percentFormat": "0[.]00%",
           "series": {
            "error_y": {
             "type": "data",
             "visible": true
            },
            "stacking": null
           },
           "seriesOptions": {
            "column_c7ffd4bc87": {
             "name": "count",
             "yAxis": 0
            }
           },
           "showDataLabels": false,
           "sizemode": "diameter",
           "sortX": true,
           "sortY": true,
           "swappedAxes": true,
           "textFormat": "",
           "useAggregationsUi": true,
           "valuesOptions": {},
           "version": 2,
           "xAxis": {
            "labels": {
             "enabled": true
            },
            "type": "-"
           },
           "yAxis": [
            {
             "type": "-"
            },
            {
             "opposite": true,
             "type": "-"
            }
           ]
          }
         }
        ]
       },
       "datasetPreviewNameToCmdIdMap": {},
       "diffDeletes": [],
       "diffInserts": [],
       "displayType": "redashChart",
       "error": null,
       "errorDetails": null,
       "errorSummary": null,
       "errorTraceType": null,
       "finishTime": 0,
       "globalVars": {},
       "guid": "",
       "height": "auto",
       "hideCommandCode": false,
       "hideCommandResult": false,
       "iPythonMetadata": null,
       "inputWidgets": {},
       "isLockedInExamMode": false,
       "latestUser": "a user",
       "latestUserId": null,
       "listResultMetadata": null,
       "metadata": {
        "byteLimit": 2048000,
        "implicitDf": true,
        "rowLimit": 10000
       },
       "nuid": "25b47886-33df-4f13-9c22-58ba55e0d450",
       "origId": 0,
       "parentHierarchy": [],
       "pivotAggregation": null,
       "pivotColumns": null,
       "position": 5.375,
       "resultDbfsErrorMessage": null,
       "resultDbfsStatus": "INLINED_IN_TREE",
       "results": null,
       "showCommandTitle": false,
       "startTime": 0,
       "state": "finished",
       "streamStates": {},
       "subcommandOptions": {
        "queryPlan": {
         "groups": [
          {
           "column": "Suggested_Meal_Plan",
           "type": "column"
          }
         ],
         "selects": [
          {
           "column": "Suggested_Meal_Plan",
           "type": "column"
          },
          {
           "alias": "column_c7ffd4bc87",
           "args": [
            {
             "column": "count",
             "type": "column"
            }
           ],
           "function": "SUM",
           "type": "function"
          }
         ]
        }
       },
       "submitTime": 0,
       "subtype": "tableResultSubCmd.visualization",
       "tableResultIndex": 0,
       "tableResultSettingsMap": {},
       "useConsistentColors": false,
       "version": "CommandV1",
       "width": "auto",
       "workflows": [],
       "xColumns": null,
       "yColumns": null
      }
     },
     "output_type": "display_data"
    }
   ],
   "source": [
    "%sql\n",
    "SELECT Suggested_Meal_Plan, COUNT(*) AS count\n",
    "FROM gut_data\n",
    "GROUP BY Suggested_Meal_Plan\n",
    "ORDER BY count DESC;"
   ]
  },
  {
   "cell_type": "markdown",
   "metadata": {
    "application/vnd.databricks.v1+cell": {
     "cellMetadata": {
      "byteLimit": 2048000,
      "rowLimit": 10000
     },
     "inputWidgets": {},
     "nuid": "735abcdb-e3a1-4ba7-b723-08c9a33499e6",
     "showTitle": false,
     "tableResultSettingsMap": {},
     "title": ""
    }
   },
   "source": [
    "The data seems to highly unbalanced, skewed towards Keto Friendly Low-Sugar Plan.\n",
    "\n",
    "**This will cause a bias towards the majority classes**"
   ]
  },
  {
   "cell_type": "markdown",
   "metadata": {
    "application/vnd.databricks.v1+cell": {
     "cellMetadata": {
      "byteLimit": 2048000,
      "rowLimit": 10000
     },
     "inputWidgets": {},
     "nuid": "2339a772-f3e9-4dd4-a576-1756c0c432aa",
     "showTitle": false,
     "tableResultSettingsMap": {},
     "title": ""
    }
   },
   "source": [
    "### Data Preparation"
   ]
  },
  {
   "cell_type": "markdown",
   "metadata": {
    "application/vnd.databricks.v1+cell": {
     "cellMetadata": {
      "byteLimit": 2048000,
      "rowLimit": 10000
     },
     "inputWidgets": {},
     "nuid": "edcbcf23-1287-45ee-85e4-bfb27dc62528",
     "showTitle": false,
     "tableResultSettingsMap": {},
     "title": ""
    }
   },
   "source": [
    "**The data is imbalanced on the suggested meal plans.** As this is the distribution:\n",
    "\n",
    "Keto-Friendly Low-Sugar Plan\t441\n",
    "\n",
    "Gut-Health Fiber Boost\t285\n",
    "\n",
    "Metabolic Maintenance Diet\t198\n",
    "\n",
    "Mediterranean Gut Balance\t64\n",
    "\n",
    "Dairy-Free Anti-Inflammation Plan\t6\n",
    "\n",
    "Digestive Relief (Low-FODMAP)\t4\n",
    "\n",
    "Heart Health Plus\t2\n",
    "\n",
    "To effectively support our analysis, the data needs to be balanced on the target label, which in out case is Suggested Meal Plan"
   ]
  },
  {
   "cell_type": "markdown",
   "metadata": {
    "application/vnd.databricks.v1+cell": {
     "cellMetadata": {
      "byteLimit": 2048000,
      "rowLimit": 10000
     },
     "inputWidgets": {},
     "nuid": "0c8426b2-e86c-48f9-ba66-26316e655e6e",
     "showTitle": false,
     "tableResultSettingsMap": {},
     "title": ""
    }
   },
   "source": [
    "**One of the effective methods to balance our data would be to upscale the data i.e add similar data synthetically.However, a drawback of this method is that we induce duplcate data that could overfit over model.**\n",
    "\n",
    "A possible workaround, would be to merge these classes in to a broader class, that could balance the data."
   ]
  },
  {
   "cell_type": "code",
   "execution_count": 0,
   "metadata": {
    "application/vnd.databricks.v1+cell": {
     "cellMetadata": {
      "byteLimit": 2048000,
      "rowLimit": 10000
     },
     "inputWidgets": {},
     "nuid": "fb4ac7cc-f25e-4272-ba54-29d13894546d",
     "showTitle": false,
     "tableResultSettingsMap": {},
     "title": ""
    }
   },
   "outputs": [],
   "source": [
    "from pyspark.sql.functions import when, col\n",
    "\n",
    "# Define the classes to merge\n",
    "classes_to_merge = [\n",
    "    \"Mediterranean Gut Balance\",\n",
    "    \"Heart Health Plus\",\n",
    "    \"Dairy-Free Anti-Inflammation Plan\",\n",
    "    \"Digestive Relief (Low-FODMAP)\"\n",
    "]\n",
    "\n",
    "# Create a new column with merged class name\n",
    "df = df.withColumn(\n",
    "    \"Meal_Plan_Combined\",\n",
    "    when(col(\"Suggested_Meal_Plan\").isin(classes_to_merge), \"Balanced Wellness Plan\")\n",
    "    .otherwise(col(\"Suggested_Meal_Plan\"))\n",
    ")\n"
   ]
  },
  {
   "cell_type": "code",
   "execution_count": 0,
   "metadata": {
    "application/vnd.databricks.v1+cell": {
     "cellMetadata": {
      "byteLimit": 2048000,
      "rowLimit": 10000
     },
     "inputWidgets": {},
     "nuid": "41a012d2-f8cb-449a-afd2-35d3d8d93b54",
     "showTitle": false,
     "tableResultSettingsMap": {},
     "title": ""
    }
   },
   "outputs": [],
   "source": [
    "#creating a new table for the data with the new merged class\n",
    "df.write.mode(\"overwrite\").saveAsTable(\"new_gut_data\")"
   ]
  },
  {
   "cell_type": "code",
   "execution_count": 0,
   "metadata": {
    "application/vnd.databricks.v1+cell": {
     "cellMetadata": {
      "byteLimit": 2048000,
      "implicitDf": true,
      "rowLimit": 10000
     },
     "inputWidgets": {},
     "nuid": "941598df-32cc-44f6-9c9e-e54f3f56b561",
     "showTitle": false,
     "tableResultSettingsMap": {},
     "title": ""
    }
   },
   "outputs": [
    {
     "output_type": "display_data",
     "data": {
      "text/html": [
       "<style scoped>\n",
       "  .table-result-container {\n",
       "    max-height: 300px;\n",
       "    overflow: auto;\n",
       "  }\n",
       "  table, th, td {\n",
       "    border: 1px solid black;\n",
       "    border-collapse: collapse;\n",
       "  }\n",
       "  th, td {\n",
       "    padding: 5px;\n",
       "  }\n",
       "  th {\n",
       "    text-align: left;\n",
       "  }\n",
       "</style><div class='table-result-container'><table class='table-result'><thead style='background-color: white'><tr><th>Meal_Plan_Combined</th><th>Count</th></tr></thead><tbody><tr><td>Keto-Friendly Low-Sugar Plan</td><td>441</td></tr><tr><td>Gut-Health Fiber Boost</td><td>285</td></tr><tr><td>Metabolic Maintenance Diet</td><td>198</td></tr><tr><td>Balanced Wellness Plan</td><td>76</td></tr></tbody></table></div>"
      ]
     },
     "metadata": {
      "application/vnd.databricks.v1+output": {
       "addedWidgets": {},
       "aggData": [],
       "aggError": "",
       "aggOverflow": false,
       "aggSchema": [],
       "aggSeriesLimitReached": false,
       "aggType": "",
       "arguments": {},
       "columnCustomDisplayInfos": {},
       "data": [
        [
         "Keto-Friendly Low-Sugar Plan",
         441
        ],
        [
         "Gut-Health Fiber Boost",
         285
        ],
        [
         "Metabolic Maintenance Diet",
         198
        ],
        [
         "Balanced Wellness Plan",
         76
        ]
       ],
       "datasetInfos": [],
       "dbfsResultPath": null,
       "isJsonSchema": true,
       "metadata": {
        "createTempViewForImplicitDf": true,
        "dataframeName": "_sqldf",
        "executionCount": 12
       },
       "overflow": false,
       "plotOptions": {
        "customPlotOptions": {},
        "displayType": "table",
        "pivotAggregation": null,
        "pivotColumns": null,
        "xColumns": null,
        "yColumns": null
       },
       "removedWidgets": [],
       "schema": [
        {
         "metadata": "{}",
         "name": "Meal_Plan_Combined",
         "type": "\"string\""
        },
        {
         "metadata": "{}",
         "name": "Count",
         "type": "\"long\""
        }
       ],
       "type": "table"
      }
     },
     "output_type": "display_data"
    },
    {
     "output_type": "display_data",
     "data": {
      "text/plain": [
       "Databricks visualization. Run in Databricks to view."
      ]
     },
     "metadata": {
      "application/vnd.databricks.v1.subcommand+json": {
       "baseErrorDetails": null,
       "bindings": {},
       "collapsed": false,
       "command": "%sql WITH q AS (select Meal_Plan_Combined, count(*) as Count\nfrom new_gut_data\ngroup by Meal_Plan_Combined\norder by Count desc) SELECT `Meal_Plan_Combined`,SUM(`Count`) `column_1ea864d5195` FROM q GROUP BY `Meal_Plan_Combined`",
       "commandTitle": "Visualization 1",
       "commandType": "auto",
       "commandVersion": 0,
       "commentThread": [],
       "commentsVisible": false,
       "contentSha256Hex": null,
       "customPlotOptions": {
        "redashChart": [
         {
          "key": "type",
          "value": "CHART"
         },
         {
          "key": "options",
          "value": {
           "alignYAxesAtZero": true,
           "coefficient": 1,
           "columnConfigurationMap": {
            "x": {
             "column": "Meal_Plan_Combined",
             "id": "column_1ea864d5194"
            },
            "y": [
             {
              "column": "Count",
              "id": "column_1ea864d5195",
              "transform": "SUM"
             }
            ]
           },
           "dateTimeFormat": "DD/MM/YYYY HH:mm",
           "direction": {
            "type": "counterclockwise"
           },
           "error_y": {
            "type": "data",
            "visible": true
           },
           "globalSeriesType": "column",
           "legend": {
            "traceorder": "normal"
           },
           "missingValuesAsZero": true,
           "numberFormat": "0,0.[00000]",
           "percentFormat": "0[.]00%",
           "series": {
            "error_y": {
             "type": "data",
             "visible": true
            },
            "stacking": null
           },
           "seriesOptions": {
            "column_1ea864d5195": {
             "name": "Count",
             "yAxis": 0
            }
           },
           "showDataLabels": false,
           "sizemode": "diameter",
           "sortX": true,
           "sortY": true,
           "swappedAxes": true,
           "textFormat": "",
           "useAggregationsUi": true,
           "valuesOptions": {},
           "version": 2,
           "xAxis": {
            "labels": {
             "enabled": true
            },
            "type": "-"
           },
           "yAxis": [
            {
             "type": "-"
            },
            {
             "opposite": true,
             "type": "-"
            }
           ]
          }
         }
        ]
       },
       "datasetPreviewNameToCmdIdMap": {},
       "diffDeletes": [],
       "diffInserts": [],
       "displayType": "redashChart",
       "error": null,
       "errorDetails": null,
       "errorSummary": null,
       "errorTraceType": null,
       "finishTime": 0,
       "globalVars": {},
       "guid": "",
       "height": "auto",
       "hideCommandCode": false,
       "hideCommandResult": false,
       "iPythonMetadata": null,
       "inputWidgets": {},
       "isLockedInExamMode": false,
       "latestUser": "a user",
       "latestUserId": null,
       "listResultMetadata": null,
       "metadata": {
        "byteLimit": 2048000,
        "implicitDf": true,
        "rowLimit": 10000
       },
       "nuid": "c8e6b527-ba8d-4433-b686-adea0ed2aba3",
       "origId": 0,
       "parentHierarchy": [],
       "pivotAggregation": null,
       "pivotColumns": null,
       "position": 5.982421875,
       "resultDbfsErrorMessage": null,
       "resultDbfsStatus": "INLINED_IN_TREE",
       "results": null,
       "showCommandTitle": false,
       "startTime": 0,
       "state": "finished",
       "streamStates": {},
       "subcommandOptions": {
        "queryPlan": {
         "groups": [
          {
           "column": "Meal_Plan_Combined",
           "type": "column"
          }
         ],
         "selects": [
          {
           "column": "Meal_Plan_Combined",
           "type": "column"
          },
          {
           "alias": "column_1ea864d5195",
           "args": [
            {
             "column": "Count",
             "type": "column"
            }
           ],
           "function": "SUM",
           "type": "function"
          }
         ]
        }
       },
       "submitTime": 0,
       "subtype": "tableResultSubCmd.visualization",
       "tableResultIndex": 0,
       "tableResultSettingsMap": {},
       "useConsistentColors": false,
       "version": "CommandV1",
       "width": "auto",
       "workflows": [],
       "xColumns": null,
       "yColumns": null
      }
     },
     "output_type": "display_data"
    }
   ],
   "source": [
    "%sql\n",
    "select Meal_Plan_Combined, count(*) as Count\n",
    "from new_gut_data\n",
    "group by Meal_Plan_Combined\n",
    "order by Count desc"
   ]
  },
  {
   "cell_type": "markdown",
   "metadata": {
    "application/vnd.databricks.v1+cell": {
     "cellMetadata": {
      "byteLimit": 2048000,
      "rowLimit": 10000
     },
     "inputWidgets": {},
     "nuid": "6a2b8d17-4554-4c69-a839-d0df871381c3",
     "showTitle": false,
     "tableResultSettingsMap": {},
     "title": ""
    }
   },
   "source": [
    "**Even after the merging the classes with low records into a new class called _Balanced Wellness Plan_, we can still obeserve a disparity among the classes. However, we can still upscale the new class, to balance the data.**\n",
    "\n",
    "This might lead our model to overfit, but choosing the right upscale limit for the class might avoid overfitting and bias at the same time."
   ]
  },
  {
   "cell_type": "code",
   "execution_count": 0,
   "metadata": {
    "application/vnd.databricks.v1+cell": {
     "cellMetadata": {
      "byteLimit": 2048000,
      "rowLimit": 10000
     },
     "inputWidgets": {},
     "nuid": "71b5c299-4972-49bf-8dc1-0e12665ebea4",
     "showTitle": false,
     "tableResultSettingsMap": {},
     "title": ""
    }
   },
   "outputs": [
    {
     "output_type": "display_data",
     "data": {
      "text/html": [
       "<style scoped>\n",
       "  .table-result-container {\n",
       "    max-height: 300px;\n",
       "    overflow: auto;\n",
       "  }\n",
       "  table, th, td {\n",
       "    border: 1px solid black;\n",
       "    border-collapse: collapse;\n",
       "  }\n",
       "  th, td {\n",
       "    padding: 5px;\n",
       "  }\n",
       "  th {\n",
       "    text-align: left;\n",
       "  }\n",
       "</style><div class='table-result-container'><table class='table-result'><thead style='background-color: white'><tr><th>Meal_Plan_Combined</th><th>count</th></tr></thead><tbody><tr><td>Keto-Friendly Low-Sugar Plan</td><td>441</td></tr><tr><td>Gut-Health Fiber Boost</td><td>285</td></tr><tr><td>Balanced Wellness Plan</td><td>200</td></tr><tr><td>Metabolic Maintenance Diet</td><td>198</td></tr></tbody></table></div>"
      ]
     },
     "metadata": {
      "application/vnd.databricks.v1+output": {
       "addedWidgets": {},
       "aggData": [],
       "aggError": "",
       "aggOverflow": false,
       "aggSchema": [],
       "aggSeriesLimitReached": false,
       "aggType": "",
       "arguments": {},
       "columnCustomDisplayInfos": {},
       "data": [
        [
         "Keto-Friendly Low-Sugar Plan",
         441
        ],
        [
         "Gut-Health Fiber Boost",
         285
        ],
        [
         "Balanced Wellness Plan",
         200
        ],
        [
         "Metabolic Maintenance Diet",
         198
        ]
       ],
       "datasetInfos": [],
       "dbfsResultPath": null,
       "isJsonSchema": true,
       "metadata": {},
       "overflow": false,
       "plotOptions": {
        "customPlotOptions": {},
        "displayType": "table",
        "pivotAggregation": null,
        "pivotColumns": null,
        "xColumns": null,
        "yColumns": null
       },
       "removedWidgets": [],
       "schema": [
        {
         "metadata": "{}",
         "name": "Meal_Plan_Combined",
         "type": "\"string\""
        },
        {
         "metadata": "{}",
         "name": "count",
         "type": "\"long\""
        }
       ],
       "type": "table"
      }
     },
     "output_type": "display_data"
    },
    {
     "output_type": "display_data",
     "data": {
      "text/plain": [
       "Databricks visualization. Run in Databricks to view."
      ]
     },
     "metadata": {
      "application/vnd.databricks.v1.subcommand+json": {
       "baseErrorDetails": null,
       "bindings": {},
       "collapsed": false,
       "command": "%python\n__backend_agg_display_orig = display\n__backend_agg_dfs = []\ndef __backend_agg_display_new(df):\n    __backend_agg_df_modules = [\"pandas.core.frame\", \"databricks.koalas.frame\", \"pyspark.sql.dataframe\", \"pyspark.pandas.frame\", \"pyspark.sql.connect.dataframe\"]\n    if (type(df).__module__ in __backend_agg_df_modules and type(df).__name__ == 'DataFrame') or isinstance(df, list):\n        __backend_agg_dfs.append(df)\n\ndisplay = __backend_agg_display_new\n\ndef __backend_agg_user_code_fn():\n    import base64\n    exec(base64.standard_b64decode(\"IyBUYXJnZXQgY291bnQgZm9yIGJhbGFuY2VkIHJlcHJlc2VudGF0aW9uCiN0YXJnZXRfY291bnQgPSAxNTAKdGFyZ2V0X2NvdW50ID0gMjAwCiN0YXJnZXRfY291bnQgPSAyNTAKCmZyb20gcHlzcGFyay5zcWwuZnVuY3Rpb25zIGltcG9ydCBjb2wsIHJhbmQKCiMgRmlsdGVyIGFuZCB1cHNhbXBsZSB0aGUgQmFsYW5jZWQgV2VsbG5lc3MgUGxhbgpid3BfZGYgPSBkZi5maWx0ZXIoY29sKCJNZWFsX1BsYW5fQ29tYmluZWQiKSA9PSAiQmFsYW5jZWQgV2VsbG5lc3MgUGxhbiIpCmZhY3RvciA9IGludCh0YXJnZXRfY291bnQgLyBid3BfZGYuY291bnQoKSkgKyAxCgpid3BfdXBzYW1wbGVkID0gKAogICAgYndwX2RmLndpdGhDb2x1bW4oInJhbmQiLCByYW5kKCkpCiAgICAuc2FtcGxlKHdpdGhSZXBsYWNlbWVudD1UcnVlLCBmcmFjdGlvbj1mbG9hdChmYWN0b3IpLCBzZWVkPTQyKQogICAgLmRyb3AoInJhbmQiKQogICAgLmxpbWl0KHRhcmdldF9jb3VudCkKKQoKIyBLZWVwIGFsbCBvdGhlciBjbGFzc2VzIGFzLWlzCm90aGVyc19kZiA9IGRmLmZpbHRlcihjb2woIk1lYWxfUGxhbl9Db21iaW5lZCIpICE9ICJCYWxhbmNlZCBXZWxsbmVzcyBQbGFuIikKCiMgQ29tYmluZSB0aGUgZmluYWwgYmFsYW5jZWQgZGF0YXNldApkZl9iYWxhbmNlZCA9IG90aGVyc19kZi51bmlvbihid3BfdXBzYW1wbGVkKQoKIyBDaGVjayBuZXcgZGlzdHJpYnV0aW9uCmRmX2JhbGFuY2VkLmdyb3VwQnkoIk1lYWxfUGxhbl9Db21iaW5lZCIpLmNvdW50KCkub3JkZXJCeSgiY291bnQiLCBhc2NlbmRpbmc9RmFsc2UpLmRpc3BsYXkoKQo=\").decode())\n\ntry:\n    # run user code\n    __backend_agg_user_code_fn()\n\n    #reset display function\n    display = __backend_agg_display_orig\n\n    if len(__backend_agg_dfs) > 0:\n        # create a temp view\n        if type(__backend_agg_dfs[0]).__module__ == \"databricks.koalas.frame\":\n            # koalas dataframe\n            __backend_agg_dfs[0].to_spark().createOrReplaceTempView(\"DatabricksViewf6bb624\")\n        elif type(__backend_agg_dfs[0]).__module__ == \"pandas.core.frame\" or isinstance(__backend_agg_dfs[0], list):\n            # pandas dataframe\n            spark.createDataFrame(__backend_agg_dfs[0]).createOrReplaceTempView(\"DatabricksViewf6bb624\")\n        else:\n            __backend_agg_dfs[0].createOrReplaceTempView(\"DatabricksViewf6bb624\")\n        #run backend agg\n        display(spark.sql(\"\"\"WITH q AS (select * from DatabricksViewf6bb624) SELECT `Meal_Plan_Combined`,SUM(`count`) `column_42ab9cda351` FROM q GROUP BY `Meal_Plan_Combined`\"\"\"))\n    else:\n        displayHTML(\"dataframe no longer exists. If you're using dataframe.display(), use display(dataframe) instead.\")\n\n\nfinally:\n    spark.sql(\"drop view if exists DatabricksViewf6bb624\")\n    display = __backend_agg_display_orig\n    del __backend_agg_display_new\n    del __backend_agg_display_orig\n    del __backend_agg_dfs\n    del __backend_agg_user_code_fn\n\n",
       "commandTitle": "Distribution of classes after Upscaling 1",
       "commandType": "auto",
       "commandVersion": 0,
       "commentThread": [],
       "commentsVisible": false,
       "contentSha256Hex": null,
       "customPlotOptions": {
        "redashChart": [
         {
          "key": "type",
          "value": "CHART"
         },
         {
          "key": "options",
          "value": {
           "alignYAxesAtZero": true,
           "coefficient": 1,
           "columnConfigurationMap": {
            "x": {
             "column": "Meal_Plan_Combined",
             "id": "column_42ab9cda350"
            },
            "y": [
             {
              "column": "count",
              "id": "column_42ab9cda351",
              "transform": "SUM"
             }
            ]
           },
           "dateTimeFormat": "DD/MM/YYYY HH:mm",
           "direction": {
            "type": "counterclockwise"
           },
           "error_y": {
            "type": "data",
            "visible": true
           },
           "globalSeriesType": "column",
           "isAggregationOn": true,
           "legend": {
            "traceorder": "normal"
           },
           "missingValuesAsZero": true,
           "numberFormat": "0,0.[00000]",
           "percentFormat": "0[.]00%",
           "series": {
            "error_y": {
             "type": "data",
             "visible": true
            },
            "stacking": null
           },
           "seriesOptions": {
            "column_42ab9cda351": {
             "color": "#049235",
             "name": "count",
             "yAxis": 0
            }
           },
           "showDataLabels": false,
           "sizemode": "diameter",
           "sortX": true,
           "sortY": true,
           "swappedAxes": true,
           "textFormat": "",
           "useAggregationsUi": true,
           "valuesOptions": {},
           "version": 2,
           "xAxis": {
            "labels": {
             "enabled": true
            },
            "type": "-"
           },
           "yAxis": [
            {
             "type": "-"
            },
            {
             "opposite": true,
             "type": "-"
            }
           ]
          }
         }
        ]
       },
       "datasetPreviewNameToCmdIdMap": {},
       "diffDeletes": [],
       "diffInserts": [],
       "displayType": "redashChart",
       "error": null,
       "errorDetails": null,
       "errorSummary": null,
       "errorTraceType": null,
       "finishTime": 0,
       "globalVars": {},
       "guid": "",
       "height": "auto",
       "hideCommandCode": false,
       "hideCommandResult": false,
       "iPythonMetadata": null,
       "inputWidgets": {},
       "isLockedInExamMode": false,
       "latestUser": "a user",
       "latestUserId": null,
       "listResultMetadata": null,
       "metadata": {
        "byteLimit": 2048000,
        "rowLimit": 10000
       },
       "nuid": "fc6e8d21-99c7-426a-a381-590353d89457",
       "origId": 0,
       "parentHierarchy": [],
       "pivotAggregation": null,
       "pivotColumns": null,
       "position": 5.994140625,
       "resultDbfsErrorMessage": null,
       "resultDbfsStatus": "INLINED_IN_TREE",
       "results": null,
       "showCommandTitle": false,
       "startTime": 0,
       "state": "finished",
       "streamStates": {},
       "subcommandOptions": {
        "queryPlan": {
         "groups": [
          {
           "column": "Meal_Plan_Combined",
           "type": "column"
          }
         ],
         "selects": [
          {
           "column": "Meal_Plan_Combined",
           "type": "column"
          },
          {
           "alias": "column_42ab9cda351",
           "args": [
            {
             "column": "count",
             "type": "column"
            }
           ],
           "function": "SUM",
           "type": "function"
          }
         ]
        }
       },
       "submitTime": 0,
       "subtype": "tableResultSubCmd.visualization",
       "tableResultIndex": 0,
       "tableResultSettingsMap": {},
       "useConsistentColors": false,
       "version": "CommandV1",
       "width": "auto",
       "workflows": [],
       "xColumns": null,
       "yColumns": null
      }
     },
     "output_type": "display_data"
    }
   ],
   "source": [
    "# Target count for balanced representation\n",
    "#target_count = 150\n",
    "target_count = 200\n",
    "#target_count = 250\n",
    "\n",
    "from pyspark.sql.functions import col, rand\n",
    "\n",
    "# Filter and upsample the Balanced Wellness Plan\n",
    "bwp_df = df.filter(col(\"Meal_Plan_Combined\") == \"Balanced Wellness Plan\")\n",
    "factor = int(target_count / bwp_df.count()) + 1\n",
    "\n",
    "bwp_upsampled = (\n",
    "    bwp_df.withColumn(\"rand\", rand())\n",
    "    .sample(withReplacement=True, fraction=float(factor), seed=42)\n",
    "    .drop(\"rand\")\n",
    "    .limit(target_count)\n",
    ")\n",
    "\n",
    "# Keep all other classes as-is\n",
    "others_df = df.filter(col(\"Meal_Plan_Combined\") != \"Balanced Wellness Plan\")\n",
    "\n",
    "# Combine the final balanced dataset\n",
    "df_balanced = others_df.union(bwp_upsampled)\n",
    "\n",
    "# Check new distribution\n",
    "df_balanced.groupBy(\"Meal_Plan_Combined\").count().orderBy(\"count\", ascending=False).display()\n"
   ]
  },
  {
   "cell_type": "markdown",
   "metadata": {
    "application/vnd.databricks.v1+cell": {
     "cellMetadata": {
      "byteLimit": 2048000,
      "rowLimit": 10000
     },
     "inputWidgets": {},
     "nuid": "943f62f6-4ae4-47f5-96b6-84740e576137",
     "showTitle": false,
     "tableResultSettingsMap": {},
     "title": ""
    }
   },
   "source": [
    "Indexing the categorical features to support model training."
   ]
  },
  {
   "cell_type": "code",
   "execution_count": 0,
   "metadata": {
    "application/vnd.databricks.v1+cell": {
     "cellMetadata": {
      "byteLimit": 2048000,
      "rowLimit": 10000
     },
     "inputWidgets": {},
     "nuid": "700b2782-afe0-4cc2-b843-8909054a3928",
     "showTitle": false,
     "tableResultSettingsMap": {},
     "title": ""
    }
   },
   "outputs": [],
   "source": [
    "# String Indexing\n",
    "indexers = [\n",
    "    StringIndexer(inputCol=\"Gender\", outputCol=\"Gender_Idx\").fit(df_balanced),\n",
    "    StringIndexer(inputCol=\"Meal_Plan_Combined\", outputCol=\"Meal_Plan_Idx\").fit(df_balanced)\n",
    "]\n",
    "for idx in indexers:\n",
    "    df_balanced = idx.transform(df_balanced)\n"
   ]
  },
  {
   "cell_type": "code",
   "execution_count": 0,
   "metadata": {
    "application/vnd.databricks.v1+cell": {
     "cellMetadata": {
      "byteLimit": 2048000,
      "rowLimit": 10000
     },
     "inputWidgets": {},
     "nuid": "130e6b47-250e-43bc-87a5-b3764f68f820",
     "showTitle": false,
     "tableResultSettingsMap": {},
     "title": ""
    }
   },
   "outputs": [],
   "source": [
    "nutrients = [\"Protein_Intake\", \"Fiber_Intake\", \"Carbohydrate_Intake\", \"Fat_Intake\"]\n",
    "for col_name in nutrients:\n",
    "    indexer = StringIndexer(inputCol=col_name, outputCol=col_name + \"_Idx\").fit(df_balanced)\n",
    "    #The 'StringIndexer' converted the categories of High,Medium and Low in the fields to indexes 0,1 and 2\n",
    "    df_balanced = indexer.transform(df_balanced)\n"
   ]
  },
  {
   "cell_type": "markdown",
   "metadata": {
    "application/vnd.databricks.v1+cell": {
     "cellMetadata": {
      "byteLimit": 2048000,
      "rowLimit": 10000
     },
     "inputWidgets": {},
     "nuid": "08732171-61e1-47ac-9f4c-4df0739a5b11",
     "showTitle": false,
     "tableResultSettingsMap": {},
     "title": ""
    }
   },
   "source": [
    "## **Feature Selection**"
   ]
  },
  {
   "cell_type": "markdown",
   "metadata": {
    "application/vnd.databricks.v1+cell": {
     "cellMetadata": {
      "byteLimit": 2048000,
      "rowLimit": 10000
     },
     "inputWidgets": {},
     "nuid": "94e5390b-67df-4a34-9063-a804a039719a",
     "showTitle": false,
     "tableResultSettingsMap": {},
     "title": ""
    }
   },
   "source": [
    "For Categorical Data (Chi Square Test)"
   ]
  },
  {
   "cell_type": "code",
   "execution_count": 0,
   "metadata": {
    "application/vnd.databricks.v1+cell": {
     "cellMetadata": {
      "byteLimit": 2048000,
      "rowLimit": 10000
     },
     "inputWidgets": {},
     "nuid": "bd70fd75-00d6-4182-ac61-1c4d5d8c57c7",
     "showTitle": false,
     "tableResultSettingsMap": {},
     "title": ""
    }
   },
   "outputs": [],
   "source": [
    "from pyspark.ml.stat import ChiSquareTest\n",
    "\n",
    "# Categorical / Indexed / Binary features only\n",
    "cat_features = [\n",
    "    \"Protein_Intake_Idx\", \"Fiber_Intake_Idx\", \"Carbohydrate_Intake_Idx\", \"Fat_Intake_Idx\",\n",
    "    \"Gender_Idx\", \"Dairy_Allergy\", \"Gluten_Allergy\", \"Nut_Allergy\"\n",
    "]\n",
    "\n",
    "# Assemble features\n",
    "assembler = VectorAssembler(inputCols=cat_features, outputCol=\"categorical_features\")\n",
    "df_cat = assembler.transform(df_balanced)\n",
    "\n",
    "# Run Chi-Square test using indexed label\n",
    "chi_sq_result = ChiSquareTest.test(df_cat, featuresCol=\"categorical_features\", labelCol=\"Meal_Plan_Idx\")\n"
   ]
  },
  {
   "cell_type": "code",
   "execution_count": 0,
   "metadata": {
    "application/vnd.databricks.v1+cell": {
     "cellMetadata": {
      "byteLimit": 2048000,
      "rowLimit": 10000
     },
     "inputWidgets": {},
     "nuid": "aa8292ec-6e95-40e0-af02-471a9dee163d",
     "showTitle": false,
     "tableResultSettingsMap": {},
     "title": ""
    }
   },
   "outputs": [
    {
     "output_type": "display_data",
     "data": {
      "text/html": [
       "<style scoped>\n",
       "  .table-result-container {\n",
       "    max-height: 300px;\n",
       "    overflow: auto;\n",
       "  }\n",
       "  table, th, td {\n",
       "    border: 1px solid black;\n",
       "    border-collapse: collapse;\n",
       "  }\n",
       "  th, td {\n",
       "    padding: 5px;\n",
       "  }\n",
       "  th {\n",
       "    text-align: left;\n",
       "  }\n",
       "</style><div class='table-result-container'><table class='table-result'><thead style='background-color: white'><tr><th>Feature</th><th>ChiSq_Statistic</th><th>Degrees_of_Freedom</th><th>p-Value</th></tr></thead><tbody><tr><td>Fiber_Intake_Idx</td><td>155.01354499941561</td><td>6</td><td>0.0</td></tr><tr><td>Carbohydrate_Intake_Idx</td><td>998.0724372457623</td><td>6</td><td>0.0</td></tr><tr><td>Dairy_Allergy</td><td>21.891868008624915</td><td>3</td><td>6.869921113006328E-5</td></tr><tr><td>Gluten_Allergy</td><td>6.095941618788309</td><td>3</td><td>0.10703462028014188</td></tr><tr><td>Protein_Intake_Idx</td><td>7.091871171405126</td><td>6</td><td>0.31243456247136125</td></tr><tr><td>Nut_Allergy</td><td>2.67144418243587</td><td>3</td><td>0.44510188879794677</td></tr><tr><td>Gender_Idx</td><td>1.5880507291835628</td><td>3</td><td>0.6621022616781982</td></tr><tr><td>Fat_Intake_Idx</td><td>3.8099879880239644</td><td>6</td><td>0.7023719439982611</td></tr></tbody></table></div>"
      ]
     },
     "metadata": {
      "application/vnd.databricks.v1+output": {
       "addedWidgets": {},
       "aggData": [],
       "aggError": "",
       "aggOverflow": false,
       "aggSchema": [],
       "aggSeriesLimitReached": false,
       "aggType": "",
       "arguments": {},
       "columnCustomDisplayInfos": {},
       "data": [
        [
         "Fiber_Intake_Idx",
         155.01354499941561,
         6,
         0.0
        ],
        [
         "Carbohydrate_Intake_Idx",
         998.0724372457623,
         6,
         0.0
        ],
        [
         "Dairy_Allergy",
         21.891868008624915,
         3,
         6.869921113006328E-5
        ],
        [
         "Gluten_Allergy",
         6.095941618788309,
         3,
         0.10703462028014188
        ],
        [
         "Protein_Intake_Idx",
         7.091871171405126,
         6,
         0.31243456247136125
        ],
        [
         "Nut_Allergy",
         2.67144418243587,
         3,
         0.44510188879794677
        ],
        [
         "Gender_Idx",
         1.5880507291835628,
         3,
         0.6621022616781982
        ],
        [
         "Fat_Intake_Idx",
         3.8099879880239644,
         6,
         0.7023719439982611
        ]
       ],
       "datasetInfos": [],
       "dbfsResultPath": null,
       "isJsonSchema": true,
       "metadata": {},
       "overflow": false,
       "plotOptions": {
        "customPlotOptions": {},
        "displayType": "table",
        "pivotAggregation": null,
        "pivotColumns": null,
        "xColumns": null,
        "yColumns": null
       },
       "removedWidgets": [],
       "schema": [
        {
         "metadata": "{}",
         "name": "Feature",
         "type": "\"string\""
        },
        {
         "metadata": "{}",
         "name": "ChiSq_Statistic",
         "type": "\"double\""
        },
        {
         "metadata": "{}",
         "name": "Degrees_of_Freedom",
         "type": "\"long\""
        },
        {
         "metadata": "{}",
         "name": "p-Value",
         "type": "\"double\""
        }
       ],
       "type": "table"
      }
     },
     "output_type": "display_data"
    },
    {
     "output_type": "display_data",
     "data": {
      "text/plain": [
       "Databricks visualization. Run in Databricks to view."
      ]
     },
     "metadata": {
      "application/vnd.databricks.v1.subcommand+json": {
       "baseErrorDetails": null,
       "bindings": {},
       "collapsed": false,
       "command": "result = chi_sq_result.collect()[0]\n\np_values = result[\"pValues\"]\ndegrees_of_freedom = result[\"degreesOfFreedom\"]\nstatistics = result[\"statistics\"]\n\n# Match to feature names\nfeature_names = [\n    \"Protein_Intake_Idx\", \"Fiber_Intake_Idx\", \"Carbohydrate_Intake_Idx\", \"Fat_Intake_Idx\",\n    \"Gender_Idx\", \"Dairy_Allergy\", \"Gluten_Allergy\", \"Nut_Allergy\"\n]\n\n# Create a readable DataFrame\nimport pandas as pd\n\nchi_sq_table = pd.DataFrame({\n    \"Feature\": feature_names,\n    \"ChiSq_Statistic\": statistics,\n    \"Degrees_of_Freedom\": degrees_of_freedom,\n    \"p-Value\": p_values\n})\n\n# Sort by p-value if desired\nchi_sq_table = chi_sq_table.sort_values(by=\"p-Value\")\n\n# Display the table\nchi_sq_table.display()",
       "commandTitle": "Visualization 1",
       "commandType": "auto",
       "commandVersion": 0,
       "commentThread": [],
       "commentsVisible": false,
       "contentSha256Hex": null,
       "customPlotOptions": {
        "redashChart": [
         {
          "key": "type",
          "value": "TABLE"
         },
         {
          "key": "options",
          "value": {
           "columns": [
            {
             "alignContent": "left",
             "allowHTML": false,
             "allowSearch": false,
             "booleanValues": [
              "false",
              "true"
             ],
             "cellFormat": {
              "default": {
               "foregroundColor": null
              },
              "rules": [
               {
                "if": {
                 "column": "Feature",
                 "fn": "=",
                 "literal": ""
                },
                "value": {
                 "foregroundColor": null
                }
               }
              ]
             },
             "displayAs": "string",
             "highlightLinks": false,
             "imageHeight": "",
             "imageTitleTemplate": "{{ @ }}",
             "imageUrlTemplate": "{{ @ }}",
             "imageWidth": "",
             "linkOpenInNewTab": true,
             "linkTextTemplate": "{{ @ }}",
             "linkTitleTemplate": "{{ @ }}",
             "linkUrlTemplate": "{{ @ }}",
             "name": "Feature",
             "order": 100000,
             "preserveWhitespace": false,
             "title": "Feature",
             "type": "string",
             "useMonospaceFont": false,
             "visible": true
            },
            {
             "alignContent": "right",
             "allowHTML": false,
             "allowSearch": false,
             "booleanValues": [
              "false",
              "true"
             ],
             "displayAs": "number",
             "highlightLinks": false,
             "imageHeight": "",
             "imageTitleTemplate": "{{ @ }}",
             "imageUrlTemplate": "{{ @ }}",
             "imageWidth": "",
             "linkOpenInNewTab": true,
             "linkTextTemplate": "{{ @ }}",
             "linkTitleTemplate": "{{ @ }}",
             "linkUrlTemplate": "{{ @ }}",
             "name": "ChiSq_Statistic",
             "numberFormat": "0.00",
             "order": 100001,
             "preserveWhitespace": false,
             "title": "ChiSq_Statistic",
             "type": "float",
             "useMonospaceFont": false,
             "visible": true
            },
            {
             "alignContent": "right",
             "allowHTML": false,
             "allowSearch": false,
             "booleanValues": [
              "false",
              "true"
             ],
             "displayAs": "number",
             "highlightLinks": false,
             "imageHeight": "",
             "imageTitleTemplate": "{{ @ }}",
             "imageUrlTemplate": "{{ @ }}",
             "imageWidth": "",
             "linkOpenInNewTab": true,
             "linkTextTemplate": "{{ @ }}",
             "linkTitleTemplate": "{{ @ }}",
             "linkUrlTemplate": "{{ @ }}",
             "name": "Degrees_of_Freedom",
             "numberFormat": "0",
             "order": 100002,
             "preserveWhitespace": false,
             "title": "Degrees_of_Freedom",
             "type": "integer",
             "useMonospaceFont": false,
             "visible": true
            },
            {
             "alignContent": "right",
             "allowHTML": false,
             "allowSearch": false,
             "booleanValues": [
              "false",
              "true"
             ],
             "cellFormat": {
              "default": {
               "foregroundColor": null
              },
              "rules": [
               {
                "if": {
                 "column": "p-Value",
                 "fn": ">",
                 "literal": "0.05"
                },
                "value": {
                 "foregroundColor": "#981717"
                }
               },
               {
                "if": {
                 "column": "p-Value",
                 "fn": "<",
                 "literal": "0.05"
                },
                "value": {
                 "foregroundColor": "#3BD973"
                }
               }
              ]
             },
             "displayAs": "number",
             "highlightLinks": false,
             "imageHeight": "",
             "imageTitleTemplate": "{{ @ }}",
             "imageUrlTemplate": "{{ @ }}",
             "imageWidth": "",
             "linkOpenInNewTab": true,
             "linkTextTemplate": "{{ @ }}",
             "linkTitleTemplate": "{{ @ }}",
             "linkUrlTemplate": "{{ @ }}",
             "name": "p-Value",
             "numberFormat": "0.00",
             "order": 100003,
             "preserveWhitespace": false,
             "title": "p-Value",
             "type": "float",
             "useMonospaceFont": false,
             "visible": true
            }
           ],
           "condensed": true,
           "itemsPerPage": 25,
           "paginationSize": "default",
           "version": 2,
           "withRowNumber": false
          }
         }
        ]
       },
       "datasetPreviewNameToCmdIdMap": {},
       "diffDeletes": [],
       "diffInserts": [],
       "displayType": "redashChart",
       "error": null,
       "errorDetails": null,
       "errorSummary": null,
       "errorTraceType": null,
       "finishTime": 0,
       "globalVars": {},
       "guid": "",
       "height": "auto",
       "hideCommandCode": false,
       "hideCommandResult": false,
       "iPythonMetadata": null,
       "inputWidgets": {},
       "isLockedInExamMode": false,
       "latestUser": "a user",
       "latestUserId": null,
       "listResultMetadata": null,
       "metadata": {
        "byteLimit": 2048000,
        "rowLimit": 10000
       },
       "nuid": "40afe3b7-34dd-467d-842e-8d1a8b12eccd",
       "origId": 0,
       "parentHierarchy": [],
       "pivotAggregation": null,
       "pivotColumns": null,
       "position": 10.5546875,
       "resultDbfsErrorMessage": null,
       "resultDbfsStatus": "INLINED_IN_TREE",
       "results": null,
       "showCommandTitle": false,
       "startTime": 0,
       "state": "finished",
       "streamStates": {},
       "subcommandOptions": {},
       "submitTime": 0,
       "subtype": "tableResultSubCmd.visualization",
       "tableResultIndex": 0,
       "tableResultSettingsMap": {},
       "useConsistentColors": false,
       "version": "CommandV1",
       "width": "auto",
       "workflows": [],
       "xColumns": null,
       "yColumns": null
      }
     },
     "output_type": "display_data"
    }
   ],
   "source": [
    "result = chi_sq_result.collect()[0]\n",
    "\n",
    "p_values = result[\"pValues\"]\n",
    "degrees_of_freedom = result[\"degreesOfFreedom\"]\n",
    "statistics = result[\"statistics\"]\n",
    "\n",
    "# Match to feature names\n",
    "feature_names = [\n",
    "    \"Protein_Intake_Idx\", \"Fiber_Intake_Idx\", \"Carbohydrate_Intake_Idx\", \"Fat_Intake_Idx\",\n",
    "    \"Gender_Idx\", \"Dairy_Allergy\", \"Gluten_Allergy\", \"Nut_Allergy\"\n",
    "]\n",
    "\n",
    "# Create a readable DataFrame\n",
    "import pandas as pd\n",
    "\n",
    "chi_sq_table = pd.DataFrame({\n",
    "    \"Feature\": feature_names,\n",
    "    \"ChiSq_Statistic\": statistics,\n",
    "    \"Degrees_of_Freedom\": degrees_of_freedom,\n",
    "    \"p-Value\": p_values\n",
    "})\n",
    "\n",
    "# Sort by p-value if desired\n",
    "chi_sq_table = chi_sq_table.sort_values(by=\"p-Value\")\n",
    "\n",
    "# Display the table\n",
    "chi_sq_table.display()"
   ]
  },
  {
   "cell_type": "markdown",
   "metadata": {
    "application/vnd.databricks.v1+cell": {
     "cellMetadata": {
      "byteLimit": 2048000,
      "rowLimit": 10000
     },
     "inputWidgets": {},
     "nuid": "3c8a3b63-0a32-434d-84a4-7b2df1cb602c",
     "showTitle": false,
     "tableResultSettingsMap": {},
     "title": ""
    }
   },
   "source": [
    "Chi Square test is performed to understand the statistical relationship between categorical features and the target feature.\n",
    "\n",
    "According to the test Gluten allergy, Protein intake, nut allergy, gender, and fat intake are not a significant reason for determining a participants meal plan."
   ]
  },
  {
   "cell_type": "markdown",
   "metadata": {
    "application/vnd.databricks.v1+cell": {
     "cellMetadata": {
      "byteLimit": 2048000,
      "rowLimit": 10000
     },
     "inputWidgets": {},
     "nuid": "d4466600-9beb-4f47-a18b-ad0c70814157",
     "showTitle": false,
     "tableResultSettingsMap": {},
     "title": ""
    }
   },
   "source": [
    "For continous Features"
   ]
  },
  {
   "cell_type": "code",
   "execution_count": 0,
   "metadata": {
    "application/vnd.databricks.v1+cell": {
     "cellMetadata": {
      "byteLimit": 2048000,
      "rowLimit": 10000
     },
     "inputWidgets": {},
     "nuid": "150d4e21-b04f-4a43-99d8-93cca90cfd10",
     "showTitle": false,
     "tableResultSettingsMap": {},
     "title": ""
    }
   },
   "outputs": [],
   "source": [
    "# Define numeric features\n",
    "numeric_features = [\"Age\", \"BMI\", \"Bacteroides\", \"Firmicutes\", \"Lactobacillus\", \"Proteobacteria\",\"Actinobacteria\",\"Verrucomicrobia\"]\n",
    "\n",
    "\n"
   ]
  },
  {
   "cell_type": "code",
   "execution_count": 0,
   "metadata": {
    "application/vnd.databricks.v1+cell": {
     "cellMetadata": {
      "byteLimit": 2048000,
      "rowLimit": 10000
     },
     "inputWidgets": {},
     "nuid": "60be8fad-8990-4261-9ff1-95643fa4215e",
     "showTitle": false,
     "tableResultSettingsMap": {},
     "title": ""
    }
   },
   "outputs": [
    {
     "output_type": "display_data",
     "data": {
      "text/html": [
       "<style scoped>\n",
       "  .table-result-container {\n",
       "    max-height: 300px;\n",
       "    overflow: auto;\n",
       "  }\n",
       "  table, th, td {\n",
       "    border: 1px solid black;\n",
       "    border-collapse: collapse;\n",
       "  }\n",
       "  th, td {\n",
       "    padding: 5px;\n",
       "  }\n",
       "  th {\n",
       "    text-align: left;\n",
       "  }\n",
       "</style><div class='table-result-container'><table class='table-result'><thead style='background-color: white'><tr><th>Age</th><th>BMI</th><th>Bacteroides</th><th>Firmicutes</th><th>Lactobacillus</th><th>Proteobacteria</th><th>Actinobacteria</th><th>Verrucomicrobia</th></tr></thead><tbody><tr><td>1.0</td><td>-0.05</td><td>-0.07</td><td>-0.06</td><td>-0.02</td><td>-0.06</td><td>0.01</td><td>-0.04</td></tr><tr><td>-0.05</td><td>1.0</td><td>-0.03</td><td>-0.07</td><td>0.05</td><td>0.03</td><td>0.04</td><td>-0.01</td></tr><tr><td>-0.07</td><td>-0.03</td><td>1.0</td><td>0.0</td><td>0.02</td><td>-0.02</td><td>-0.04</td><td>0.03</td></tr><tr><td>-0.06</td><td>-0.07</td><td>0.0</td><td>1.0</td><td>-0.01</td><td>-0.01</td><td>-0.05</td><td>0.03</td></tr><tr><td>-0.02</td><td>0.05</td><td>0.02</td><td>-0.01</td><td>1.0</td><td>0.03</td><td>0.04</td><td>0.0</td></tr><tr><td>-0.06</td><td>0.03</td><td>-0.02</td><td>-0.01</td><td>0.03</td><td>1.0</td><td>0.03</td><td>0.04</td></tr><tr><td>0.01</td><td>0.04</td><td>-0.04</td><td>-0.05</td><td>0.04</td><td>0.03</td><td>1.0</td><td>-0.04</td></tr><tr><td>-0.04</td><td>-0.01</td><td>0.03</td><td>0.03</td><td>0.0</td><td>0.04</td><td>-0.04</td><td>1.0</td></tr></tbody></table></div>"
      ]
     },
     "metadata": {
      "application/vnd.databricks.v1+output": {
       "addedWidgets": {},
       "aggData": [],
       "aggError": "",
       "aggOverflow": false,
       "aggSchema": [],
       "aggSeriesLimitReached": false,
       "aggType": "",
       "arguments": {},
       "columnCustomDisplayInfos": {},
       "data": [
        [
         1.0,
         -0.05,
         -0.07,
         -0.06,
         -0.02,
         -0.06,
         0.01,
         -0.04
        ],
        [
         -0.05,
         1.0,
         -0.03,
         -0.07,
         0.05,
         0.03,
         0.04,
         -0.01
        ],
        [
         -0.07,
         -0.03,
         1.0,
         0.0,
         0.02,
         -0.02,
         -0.04,
         0.03
        ],
        [
         -0.06,
         -0.07,
         0.0,
         1.0,
         -0.01,
         -0.01,
         -0.05,
         0.03
        ],
        [
         -0.02,
         0.05,
         0.02,
         -0.01,
         1.0,
         0.03,
         0.04,
         0.0
        ],
        [
         -0.06,
         0.03,
         -0.02,
         -0.01,
         0.03,
         1.0,
         0.03,
         0.04
        ],
        [
         0.01,
         0.04,
         -0.04,
         -0.05,
         0.04,
         0.03,
         1.0,
         -0.04
        ],
        [
         -0.04,
         -0.01,
         0.03,
         0.03,
         0.0,
         0.04,
         -0.04,
         1.0
        ]
       ],
       "datasetInfos": [],
       "dbfsResultPath": null,
       "isJsonSchema": true,
       "metadata": {},
       "overflow": false,
       "plotOptions": {
        "customPlotOptions": {},
        "displayType": "table",
        "pivotAggregation": null,
        "pivotColumns": null,
        "xColumns": null,
        "yColumns": null
       },
       "removedWidgets": [],
       "schema": [
        {
         "metadata": "{}",
         "name": "Age",
         "type": "\"double\""
        },
        {
         "metadata": "{}",
         "name": "BMI",
         "type": "\"double\""
        },
        {
         "metadata": "{}",
         "name": "Bacteroides",
         "type": "\"double\""
        },
        {
         "metadata": "{}",
         "name": "Firmicutes",
         "type": "\"double\""
        },
        {
         "metadata": "{}",
         "name": "Lactobacillus",
         "type": "\"double\""
        },
        {
         "metadata": "{}",
         "name": "Proteobacteria",
         "type": "\"double\""
        },
        {
         "metadata": "{}",
         "name": "Actinobacteria",
         "type": "\"double\""
        },
        {
         "metadata": "{}",
         "name": "Verrucomicrobia",
         "type": "\"double\""
        }
       ],
       "type": "table"
      }
     },
     "output_type": "display_data"
    }
   ],
   "source": [
    "corr_matrix = pd.DataFrame(index=numeric_features, columns=numeric_features)\n",
    "\n",
    "# Loop through feature pairs and calculate Pearson correlation\n",
    "for f1 in numeric_features:\n",
    "    for f2 in numeric_features:\n",
    "        corr = df_balanced.stat.corr(f1, f2)\n",
    "        corr_matrix.loc[f1, f2] = round(corr, 2)\n",
    "\n",
    "# Convert all values to float for plotting\n",
    "corr_matrix = corr_matrix.astype(float)\n",
    "\n",
    "# Optional: display the matrix\n",
    "corr_matrix.display()"
   ]
  },
  {
   "cell_type": "code",
   "execution_count": 0,
   "metadata": {
    "application/vnd.databricks.v1+cell": {
     "cellMetadata": {
      "byteLimit": 2048000,
      "rowLimit": 10000
     },
     "inputWidgets": {},
     "nuid": "70dff364-aa76-4365-b464-32efee18a97b",
     "showTitle": false,
     "tableResultSettingsMap": {},
     "title": ""
    }
   },
   "outputs": [
    {
     "output_type": "display_data",
     "data": {
      "image/png": "[encoded data removed]",
      "text/plain": [
       "<Figure size 1000x800 with 2 Axes>"
      ]
     },
     "metadata": {},
     "output_type": "display_data"
    }
   ],
   "source": [
    "#Vizualizing the correlation matrix\n",
    "plt.figure(figsize=(10, 8))\n",
    "sns.heatmap(corr_matrix, \n",
    "            annot=True,             # shows correlation values\n",
    "            cmap=\"coolwarm\",        # diverging color map\n",
    "            center=0,               # center of the color map is 0\n",
    "            fmt=\".2f\",              # format for values\n",
    "            linewidths=0.5,         # spacing between cells\n",
    "            square=True             # keep cells square\n",
    "           )\n",
    "plt.title(\"Correlation Heatmap of Numeric Features\")\n",
    "plt.xticks(rotation=45)\n",
    "plt.yticks(rotation=0)\n",
    "plt.tight_layout()\n",
    "plt.show()"
   ]
  },
  {
   "cell_type": "markdown",
   "metadata": {
    "application/vnd.databricks.v1+cell": {
     "cellMetadata": {
      "byteLimit": 2048000,
      "rowLimit": 10000
     },
     "inputWidgets": {},
     "nuid": "71fc27ca-243b-4458-ac9f-b39c97f97798",
     "showTitle": false,
     "tableResultSettingsMap": {},
     "title": ""
    }
   },
   "source": [
    "Low correlation between the features we opted for the analysis, indicating that each feature we selected contributes individually in deciding the meal plan, and absence of any redundancy.\n",
    "\n",
    "However, there is an understandable correlationn between age and BMI, which can accredited to the general fact that as people grow older their BMIs may decrease."
   ]
  },
  {
   "cell_type": "markdown",
   "metadata": {
    "application/vnd.databricks.v1+cell": {
     "cellMetadata": {
      "byteLimit": 2048000,
      "rowLimit": 10000
     },
     "inputWidgets": {},
     "nuid": "1032e45f-62f0-4114-acdb-9354fe9ac6bc",
     "showTitle": false,
     "tableResultSettingsMap": {},
     "title": ""
    }
   },
   "source": [
    "## Features that could be ideal for gradient boosting:\n",
    "- Bacteroides\n",
    "- Firmicutes\n",
    "- Lactobacillus\n",
    "- Proteobacteria\n",
    "- Actinobacteria\n",
    "- Verrucomicrobia\n",
    "- Age\n",
    "- BMI\n",
    "- Fiber_Intake\n",
    "- Carbohydrate_Intake\n",
    "- Dairy Allergy\n",
    "\n"
   ]
  },
  {
   "cell_type": "markdown",
   "metadata": {
    "application/vnd.databricks.v1+cell": {
     "cellMetadata": {
      "byteLimit": 2048000,
      "rowLimit": 10000
     },
     "inputWidgets": {},
     "nuid": "52746645-a543-4fa0-a719-1bb499f3fefc",
     "showTitle": false,
     "tableResultSettingsMap": {},
     "title": ""
    }
   },
   "source": [
    "## Gradient Trees Classifier"
   ]
  },
  {
   "cell_type": "code",
   "execution_count": 0,
   "metadata": {
    "application/vnd.databricks.v1+cell": {
     "cellMetadata": {
      "byteLimit": 2048000,
      "rowLimit": 10000
     },
     "inputWidgets": {},
     "nuid": "fe068300-d2c3-41d6-a0bd-bab1434aafa3",
     "showTitle": false,
     "tableResultSettingsMap": {},
     "title": ""
    }
   },
   "outputs": [],
   "source": [
    "assembler = VectorAssembler(\n",
    "    inputCols=[\n",
    "        \"Age\", \"BMI\",\n",
    "        \"Fiber_Intake_Idx\", \"Carbohydrate_Intake_Idx\",\n",
    "        \"Bacteroides\", \"Firmicutes\", \"Lactobacillus\", \"Proteobacteria\", \"Actinobacteria\", \"Verrucomicrobia\",\n",
    "         \"Dairy_Allergy\",\n",
    "    ],\n",
    "    outputCol=\"features\"\n",
    ")\n",
    "df_balanced = assembler.transform(df_balanced)"
   ]
  },
  {
   "cell_type": "code",
   "execution_count": 0,
   "metadata": {
    "application/vnd.databricks.v1+cell": {
     "cellMetadata": {
      "byteLimit": 2048000,
      "rowLimit": 10000
     },
     "inputWidgets": {},
     "nuid": "d1211734-c44c-401f-b1e0-7d261ec45342",
     "showTitle": false,
     "tableResultSettingsMap": {},
     "title": ""
    }
   },
   "outputs": [],
   "source": [
    "# Train-Test Split\n",
    "train, test = df_balanced.randomSplit([0.75, 0.25], seed= 13)"
   ]
  },
  {
   "cell_type": "code",
   "execution_count": 0,
   "metadata": {
    "application/vnd.databricks.v1+cell": {
     "cellMetadata": {
      "byteLimit": 2048000,
      "rowLimit": 10000
     },
     "inputWidgets": {},
     "nuid": "647d625b-f8ff-458f-9008-cf013a22d4c4",
     "showTitle": false,
     "tableResultSettingsMap": {},
     "title": ""
    }
   },
   "outputs": [],
   "source": [
    "# Step 1: Initialize a Gradient-Boosted Trees (GBT) classifier.\n",
    "# Note: GBTClassifier in PySpark only supports binary classification by default.\n",
    "# We use 'features' as input features and 'Meal_Plan_Idx' as the target label.\n",
    "gbt = GBTClassifier(featuresCol=\"features\", labelCol=\"Meal_Plan_Idx\", maxIter=20)\n",
    "# Step 2: Wrap the GBT classifier in a OneVsRest strategy.\n",
    "# This allows GBT to be used for multi-class classification by training one binary classifier per class.\n",
    "ovr = OneVsRest(classifier=gbt, labelCol=\"Meal_Plan_Idx\", featuresCol=\"features\")\n",
    "# Step 3: Train the OneVsRest model using the training dataset.\n",
    "model = ovr.fit(train)\n",
    "# Step 4: Use the trained model to make predictions on the test dataset.\n",
    "preds = model.transform(test)"
   ]
  },
  {
   "cell_type": "markdown",
   "metadata": {
    "application/vnd.databricks.v1+cell": {
     "cellMetadata": {
      "byteLimit": 2048000,
      "rowLimit": 10000
     },
     "inputWidgets": {},
     "nuid": "9eaf8139-6121-4ad2-b7fd-0f433840d0e8",
     "showTitle": false,
     "tableResultSettingsMap": {},
     "title": ""
    }
   },
   "source": [
    "### Evaluating the model"
   ]
  },
  {
   "cell_type": "markdown",
   "metadata": {
    "application/vnd.databricks.v1+cell": {
     "cellMetadata": {
      "byteLimit": 2048000,
      "rowLimit": 10000
     },
     "inputWidgets": {},
     "nuid": "1a240372-8a51-40e5-9ef8-a258a4a4ebea",
     "showTitle": false,
     "tableResultSettingsMap": {},
     "title": ""
    }
   },
   "source": [
    "**Accuracy**"
   ]
  },
  {
   "cell_type": "code",
   "execution_count": 0,
   "metadata": {
    "application/vnd.databricks.v1+cell": {
     "cellMetadata": {
      "byteLimit": 2048000,
      "rowLimit": 10000
     },
     "inputWidgets": {},
     "nuid": "c98b951e-221d-4e19-ba15-bb8c6a653939",
     "showTitle": false,
     "tableResultSettingsMap": {},
     "title": ""
    }
   },
   "outputs": [
    {
     "output_type": "stream",
     "name": "stdout",
     "output_type": "stream",
     "text": [
      "GBT Accuracy: 0.9480\n"
     ]
    }
   ],
   "source": [
    "evaluator = MulticlassClassificationEvaluator(\n",
    "    labelCol=\"Meal_Plan_Idx\",\n",
    "    predictionCol=\"prediction\",\n",
    "    metricName=\"accuracy\"\n",
    ")\n",
    "\n",
    "acc = evaluator.evaluate(preds)\n",
    "print(f\"GBT Accuracy: {acc:.4f}\")"
   ]
  },
  {
   "cell_type": "markdown",
   "metadata": {
    "application/vnd.databricks.v1+cell": {
     "cellMetadata": {
      "byteLimit": 2048000,
      "rowLimit": 10000
     },
     "inputWidgets": {},
     "nuid": "919de857-13d9-4adb-a8cc-00e5746405d0",
     "showTitle": false,
     "tableResultSettingsMap": {},
     "title": ""
    }
   },
   "source": [
    "**F1 Score**"
   ]
  },
  {
   "cell_type": "code",
   "execution_count": 0,
   "metadata": {
    "application/vnd.databricks.v1+cell": {
     "cellMetadata": {
      "byteLimit": 2048000,
      "rowLimit": 10000
     },
     "inputWidgets": {},
     "nuid": "24da070b-e154-42eb-8b94-93ecbc7806ef",
     "showTitle": false,
     "tableResultSettingsMap": {},
     "title": ""
    }
   },
   "outputs": [
    {
     "output_type": "stream",
     "name": "stdout",
     "output_type": "stream",
     "text": [
      "F1 Score: 0.9483\n"
     ]
    }
   ],
   "source": [
    "f1_evaluator = MulticlassClassificationEvaluator(\n",
    "    labelCol=\"Meal_Plan_Idx\",\n",
    "    predictionCol=\"prediction\",\n",
    "    metricName=\"f1\"\n",
    ")\n",
    "\n",
    "f1_score = f1_evaluator.evaluate(preds)\n",
    "print(f\"F1 Score: {f1_score:.4f}\")"
   ]
  },
  {
   "cell_type": "markdown",
   "metadata": {
    "application/vnd.databricks.v1+cell": {
     "cellMetadata": {
      "byteLimit": 2048000,
      "rowLimit": 10000
     },
     "inputWidgets": {},
     "nuid": "c4da8a65-5dbc-41a9-8b57-28176c96fa40",
     "showTitle": false,
     "tableResultSettingsMap": {},
     "title": ""
    }
   },
   "source": [
    "**Precision and Recall**"
   ]
  },
  {
   "cell_type": "code",
   "execution_count": 0,
   "metadata": {
    "application/vnd.databricks.v1+cell": {
     "cellMetadata": {
      "byteLimit": 2048000,
      "rowLimit": 10000
     },
     "inputWidgets": {},
     "nuid": "fae22e75-d693-4cd0-808a-5cb793b29898",
     "showTitle": false,
     "tableResultSettingsMap": {},
     "title": ""
    }
   },
   "outputs": [
    {
     "output_type": "stream",
     "name": "stdout",
     "output_type": "stream",
     "text": [
      "Precision: 0.9523\nRecall: 0.9480\n"
     ]
    }
   ],
   "source": [
    "precision = MulticlassClassificationEvaluator(\n",
    "    labelCol=\"Meal_Plan_Idx\",\n",
    "    predictionCol=\"prediction\",\n",
    "    metricName=\"weightedPrecision\"\n",
    ").evaluate(preds)\n",
    "\n",
    "recall = MulticlassClassificationEvaluator(\n",
    "    labelCol=\"Meal_Plan_Idx\",\n",
    "    predictionCol=\"prediction\",\n",
    "    metricName=\"weightedRecall\"\n",
    ").evaluate(preds)\n",
    "\n",
    "print(f\"Precision: {precision:.4f}\")\n",
    "print(f\"Recall: {recall:.4f}\")\n"
   ]
  },
  {
   "cell_type": "markdown",
   "metadata": {
    "application/vnd.databricks.v1+cell": {
     "cellMetadata": {},
     "inputWidgets": {},
     "nuid": "a2d3392e-953c-485d-b51b-f585ce4e6d05",
     "showTitle": false,
     "tableResultSettingsMap": {},
     "title": ""
    }
   },
   "source": [
    "**Understanding the outcome of the model**"
   ]
  },
  {
   "cell_type": "code",
   "execution_count": 0,
   "metadata": {
    "application/vnd.databricks.v1+cell": {
     "cellMetadata": {
      "byteLimit": 2048000,
      "rowLimit": 10000
     },
     "inputWidgets": {},
     "nuid": "1ff526ed-c9fb-450d-af39-9af6bcee0100",
     "showTitle": false,
     "tableResultSettingsMap": {},
     "title": ""
    }
   },
   "outputs": [],
   "source": [
    "#save the prediciton data as a table for querying\n",
    "preds.write.mode(\"overwrite\").saveAsTable(\"GBT_predictions\")"
   ]
  },
  {
   "cell_type": "code",
   "execution_count": 0,
   "metadata": {
    "application/vnd.databricks.v1+cell": {
     "cellMetadata": {
      "byteLimit": 2048000,
      "rowLimit": 10000
     },
     "inputWidgets": {},
     "nuid": "94746998-f95c-423e-8d9d-3ee665088270",
     "showTitle": false,
     "tableResultSettingsMap": {},
     "title": ""
    }
   },
   "outputs": [
    {
     "output_type": "display_data",
     "data": {
      "text/html": [
       "<style scoped>\n",
       "  .table-result-container {\n",
       "    max-height: 300px;\n",
       "    overflow: auto;\n",
       "  }\n",
       "  table, th, td {\n",
       "    border: 1px solid black;\n",
       "    border-collapse: collapse;\n",
       "  }\n",
       "  th, td {\n",
       "    padding: 5px;\n",
       "  }\n",
       "  th {\n",
       "    text-align: left;\n",
       "  }\n",
       "</style><div class='table-result-container'><table class='table-result'><thead style='background-color: white'><tr><th>Meal_Plan_Idx</th><th>Actual_Meal_Plan</th><th>Predicted_Idx</th><th>Count</th><th>Classification_Result</th></tr></thead><tbody><tr><td>0.0</td><td>Keto-Friendly Low-Sugar Plan</td><td>0.0</td><td>102</td><td>True_Postive</td></tr><tr><td>1.0</td><td>Gut-Health Fiber Boost</td><td>1.0</td><td>70</td><td>True_Postive</td></tr><tr><td>2.0</td><td>Balanced Wellness Plan</td><td>2.0</td><td>46</td><td>True_Postive</td></tr><tr><td>3.0</td><td>Metabolic Maintenance Diet</td><td>3.0</td><td>37</td><td>True_Postive</td></tr><tr><td>2.0</td><td>Balanced Wellness Plan</td><td>3.0</td><td>9</td><td>Misclassification</td></tr><tr><td>1.0</td><td>Gut-Health Fiber Boost</td><td>2.0</td><td>3</td><td>Misclassification</td></tr><tr><td>1.0</td><td>Gut-Health Fiber Boost</td><td>0.0</td><td>1</td><td>Misclassification</td></tr><tr><td>3.0</td><td>Metabolic Maintenance Diet</td><td>1.0</td><td>1</td><td>Misclassification</td></tr></tbody></table></div>"
      ]
     },
     "metadata": {
      "application/vnd.databricks.v1+output": {
       "addedWidgets": {},
       "aggData": [],
       "aggError": "",
       "aggOverflow": false,
       "aggSchema": [],
       "aggSeriesLimitReached": false,
       "aggType": "",
       "arguments": {},
       "columnCustomDisplayInfos": {},
       "data": [
        [
         0.0,
         "Keto-Friendly Low-Sugar Plan",
         0.0,
         102,
         "True_Postive"
        ],
        [
         1.0,
         "Gut-Health Fiber Boost",
         1.0,
         70,
         "True_Postive"
        ],
        [
         2.0,
         "Balanced Wellness Plan",
         2.0,
         46,
         "True_Postive"
        ],
        [
         3.0,
         "Metabolic Maintenance Diet",
         3.0,
         37,
         "True_Postive"
        ],
        [
         2.0,
         "Balanced Wellness Plan",
         3.0,
         9,
         "Misclassification"
        ],
        [
         1.0,
         "Gut-Health Fiber Boost",
         2.0,
         3,
         "Misclassification"
        ],
        [
         1.0,
         "Gut-Health Fiber Boost",
         0.0,
         1,
         "Misclassification"
        ],
        [
         3.0,
         "Metabolic Maintenance Diet",
         1.0,
         1,
         "Misclassification"
        ]
       ],
       "datasetInfos": [],
       "dbfsResultPath": null,
       "isJsonSchema": true,
       "metadata": {},
       "overflow": false,
       "plotOptions": {
        "customPlotOptions": {},
        "displayType": "table",
        "pivotAggregation": null,
        "pivotColumns": null,
        "xColumns": null,
        "yColumns": null
       },
       "removedWidgets": [],
       "schema": [
        {
         "metadata": "{\"ml_attr\":{\"vals\":[\"Keto-Friendly Low-Sugar Plan\",\"Gut-Health Fiber Boost\",\"Balanced Wellness Plan\",\"Metabolic Maintenance Diet\"],\"type\":\"nominal\",\"name\":\"Meal_Plan_Idx\"}}",
         "name": "Meal_Plan_Idx",
         "type": "\"double\""
        },
        {
         "metadata": "{}",
         "name": "Actual_Meal_Plan",
         "type": "\"string\""
        },
        {
         "metadata": "{}",
         "name": "Predicted_Idx",
         "type": "\"double\""
        },
        {
         "metadata": "{}",
         "name": "Count",
         "type": "\"long\""
        },
        {
         "metadata": "{}",
         "name": "Classification_Result",
         "type": "\"string\""
        }
       ],
       "type": "table"
      }
     },
     "output_type": "display_data"
    },
    {
     "output_type": "display_data",
     "data": {
      "text/plain": [
       "Databricks visualization. Run in Databricks to view."
      ]
     },
     "metadata": {
      "application/vnd.databricks.v1.subcommand+json": {
       "baseErrorDetails": null,
       "bindings": {},
       "collapsed": false,
       "command": "%python\n__backend_agg_display_orig = display\n__backend_agg_dfs = []\ndef __backend_agg_display_new(df):\n    __backend_agg_df_modules = [\"pandas.core.frame\", \"databricks.koalas.frame\", \"pyspark.sql.dataframe\", \"pyspark.pandas.frame\", \"pyspark.sql.connect.dataframe\"]\n    if (type(df).__module__ in __backend_agg_df_modules and type(df).__name__ == 'DataFrame') or isinstance(df, list):\n        __backend_agg_dfs.append(df)\n\ndisplay = __backend_agg_display_new\n\ndef __backend_agg_user_code_fn():\n    import base64\n    exec(base64.standard_b64decode(\"I1F1ZXJ5IHRvIGNoZWNrIHRoZSBjb3VudCBvZiBUcnVlIHByZWRpY3Rpb25zCnNwYXJrLnNxbCgic2VsZWN0IE1lYWxfUGxhbl9JZHgsTWVhbF9QbGFuX0NvbWJpbmVkLHByZWRpY3Rpb24gYXMgUHJlZGljdGVkX0lkeCwgY291bnQoKikgYXMgQ291bnQsXAogICAgICAgIGNhc2Ugd2hlbiBNZWFsX1BsYW5fSWR4ID0gcHJlZGljdGlvbiB0aGVuICdUcnVlX1Bvc3RpdmUnXAogICAgICAgIGVsc2UgICdNaXNjbGFzc2lmaWNhdGlvbidcCiAgICAgICAgZW5kIGFzIENsYXNzaWZpY2F0aW9uX1Jlc3VsdFwKICAgICAgICBmcm9tIEdCVF9wcmVkaWN0aW9uc1wKICAgICAgICBncm91cCBieSBNZWFsX1BsYW5fQ29tYmluZWQsTWVhbF9QbGFuX0lkeCxwcmVkaWN0aW9uXAogICAgICAgIG9yZGVyIGJ5IENvdW50IGRlc2MiKS5kaXNwbGF5KCk=\").decode())\n\ntry:\n    # run user code\n    __backend_agg_user_code_fn()\n\n    #reset display function\n    display = __backend_agg_display_orig\n\n    if len(__backend_agg_dfs) > 0:\n        # create a temp view\n        if type(__backend_agg_dfs[0]).__module__ == \"databricks.koalas.frame\":\n            # koalas dataframe\n            __backend_agg_dfs[0].to_spark().createOrReplaceTempView(\"DatabricksView86e9b39\")\n        elif type(__backend_agg_dfs[0]).__module__ == \"pandas.core.frame\" or isinstance(__backend_agg_dfs[0], list):\n            # pandas dataframe\n            spark.createDataFrame(__backend_agg_dfs[0]).createOrReplaceTempView(\"DatabricksView86e9b39\")\n        else:\n            __backend_agg_dfs[0].createOrReplaceTempView(\"DatabricksView86e9b39\")\n        #run backend agg\n        display(spark.sql(\"\"\"WITH q AS (select * from DatabricksView86e9b39) SELECT `Classification_Result`,SUM(`Count`) `column_42ab9cda650` FROM q GROUP BY `Classification_Result`\"\"\"))\n    else:\n        displayHTML(\"dataframe no longer exists. If you're using dataframe.display(), use display(dataframe) instead.\")\n\n\nfinally:\n    spark.sql(\"drop view if exists DatabricksView86e9b39\")\n    display = __backend_agg_display_orig\n    del __backend_agg_display_new\n    del __backend_agg_display_orig\n    del __backend_agg_dfs\n    del __backend_agg_user_code_fn\n\n",
       "commandTitle": "Visualization 1",
       "commandType": "auto",
       "commandVersion": 0,
       "commentThread": [],
       "commentsVisible": false,
       "contentSha256Hex": null,
       "customPlotOptions": {
        "redashChart": [
         {
          "key": "type",
          "value": "CHART"
         },
         {
          "key": "options",
          "value": {
           "alignYAxesAtZero": true,
           "coefficient": 1,
           "columnConfigurationMap": {
            "x": {
             "column": "Classification_Result",
             "id": "column_42ab9cda652"
            },
            "y": [
             {
              "column": "Count",
              "id": "column_42ab9cda650",
              "transform": "SUM"
             }
            ]
           },
           "dateTimeFormat": "DD/MM/YYYY HH:mm",
           "direction": {
            "type": "counterclockwise"
           },
           "error_y": {
            "type": "data",
            "visible": true
           },
           "globalSeriesType": "pie",
           "isAggregationOn": true,
           "legend": {
            "traceorder": "normal"
           },
           "missingValuesAsZero": true,
           "numberFormat": "0,0.[00000]",
           "percentFormat": "0[.]00%",
           "series": {
            "error_y": {
             "type": "data",
             "visible": true
            },
            "stacking": null
           },
           "seriesOptions": {
            "column_42ab9cda650": {
             "type": "pie",
             "yAxis": 0
            }
           },
           "showDataLabels": true,
           "sizemode": "diameter",
           "sortX": true,
           "sortY": true,
           "swappedAxes": false,
           "textFormat": "",
           "useAggregationsUi": true,
           "valuesOptions": {},
           "version": 2,
           "xAxis": {
            "labels": {
             "enabled": true
            },
            "type": "-"
           },
           "yAxis": [
            {
             "type": "-"
            },
            {
             "opposite": true,
             "type": "-"
            }
           ]
          }
         }
        ]
       },
       "datasetPreviewNameToCmdIdMap": {},
       "diffDeletes": [],
       "diffInserts": [],
       "displayType": "redashChart",
       "error": null,
       "errorDetails": null,
       "errorSummary": null,
       "errorTraceType": null,
       "finishTime": 0,
       "globalVars": {},
       "guid": "",
       "height": "auto",
       "hideCommandCode": false,
       "hideCommandResult": false,
       "iPythonMetadata": null,
       "inputWidgets": {},
       "isLockedInExamMode": false,
       "latestUser": "a user",
       "latestUserId": null,
       "listResultMetadata": null,
       "metadata": {},
       "nuid": "d6a7bd56-99f7-4adc-af23-77dec215f168",
       "origId": 0,
       "parentHierarchy": [],
       "pivotAggregation": null,
       "pivotColumns": null,
       "position": 15.577972412109375,
       "resultDbfsErrorMessage": null,
       "resultDbfsStatus": "INLINED_IN_TREE",
       "results": null,
       "showCommandTitle": false,
       "startTime": 0,
       "state": "input",
       "streamStates": {},
       "subcommandOptions": {
        "queryPlan": {
         "groups": [
          {
           "column": "Classification_Result",
           "type": "column"
          }
         ],
         "selects": [
          {
           "column": "Classification_Result",
           "type": "column"
          },
          {
           "alias": "column_42ab9cda650",
           "args": [
            {
             "column": "Count",
             "type": "column"
            }
           ],
           "function": "SUM",
           "type": "function"
          }
         ]
        }
       },
       "submitTime": 0,
       "subtype": "tableResultSubCmd.visualization",
       "tableResultIndex": 0,
       "tableResultSettingsMap": {},
       "useConsistentColors": false,
       "version": "CommandV1",
       "width": "auto",
       "workflows": [],
       "xColumns": null,
       "yColumns": null
      }
     },
     "output_type": "display_data"
    }
   ],
   "source": [
    "#Query to check the count of True predictions\n",
    "spark.sql(\"select Meal_Plan_Idx,Meal_Plan_Combined As Actual_Meal_Plan,prediction as Predicted_Idx, count(*) as Count,\\\n",
    "        case when Meal_Plan_Idx = prediction then 'True_Postive'\\\n",
    "        else  'Misclassification'\\\n",
    "        end as Classification_Result\\\n",
    "        from GBT_predictions\\\n",
    "        group by Meal_Plan_Combined,Meal_Plan_Idx,prediction\\\n",
    "        order by Count desc\").display()"
   ]
  },
  {
   "cell_type": "markdown",
   "metadata": {
    "application/vnd.databricks.v1+cell": {
     "cellMetadata": {},
     "inputWidgets": {},
     "nuid": "4d822e0c-c240-4bf8-96a6-238336838360",
     "showTitle": false,
     "tableResultSettingsMap": {},
     "title": ""
    }
   },
   "source": [
    "**True Positives**"
   ]
  },
  {
   "cell_type": "code",
   "execution_count": 0,
   "metadata": {
    "application/vnd.databricks.v1+cell": {
     "cellMetadata": {
      "byteLimit": 2048000,
      "rowLimit": 10000
     },
     "inputWidgets": {},
     "nuid": "7814eddc-b95e-4d1a-960b-2a8ceb05c726",
     "showTitle": false,
     "tableResultSettingsMap": {},
     "title": ""
    }
   },
   "outputs": [
    {
     "output_type": "display_data",
     "data": {
      "text/html": [
       "<style scoped>\n",
       "  .table-result-container {\n",
       "    max-height: 300px;\n",
       "    overflow: auto;\n",
       "  }\n",
       "  table, th, td {\n",
       "    border: 1px solid black;\n",
       "    border-collapse: collapse;\n",
       "  }\n",
       "  th, td {\n",
       "    padding: 5px;\n",
       "  }\n",
       "  th {\n",
       "    text-align: left;\n",
       "  }\n",
       "</style><div class='table-result-container'><table class='table-result'><thead style='background-color: white'><tr><th>Actual_Idx</th><th>Meal_Plan_Combined</th><th>Predicted_Idx</th><th>Count</th></tr></thead><tbody><tr><td>0.0</td><td>Keto-Friendly Low-Sugar Plan</td><td>0.0</td><td>102</td></tr><tr><td>1.0</td><td>Gut-Health Fiber Boost</td><td>1.0</td><td>70</td></tr><tr><td>2.0</td><td>Balanced Wellness Plan</td><td>2.0</td><td>46</td></tr><tr><td>3.0</td><td>Metabolic Maintenance Diet</td><td>3.0</td><td>37</td></tr></tbody></table></div>"
      ]
     },
     "metadata": {
      "application/vnd.databricks.v1+output": {
       "addedWidgets": {},
       "aggData": [],
       "aggError": "",
       "aggOverflow": false,
       "aggSchema": [],
       "aggSeriesLimitReached": false,
       "aggType": "",
       "arguments": {},
       "columnCustomDisplayInfos": {},
       "data": [
        [
         0.0,
         "Keto-Friendly Low-Sugar Plan",
         0.0,
         102
        ],
        [
         1.0,
         "Gut-Health Fiber Boost",
         1.0,
         70
        ],
        [
         2.0,
         "Balanced Wellness Plan",
         2.0,
         46
        ],
        [
         3.0,
         "Metabolic Maintenance Diet",
         3.0,
         37
        ]
       ],
       "datasetInfos": [],
       "dbfsResultPath": null,
       "isJsonSchema": true,
       "metadata": {},
       "overflow": false,
       "plotOptions": {
        "customPlotOptions": {},
        "displayType": "table",
        "pivotAggregation": null,
        "pivotColumns": null,
        "xColumns": null,
        "yColumns": null
       },
       "removedWidgets": [],
       "schema": [
        {
         "metadata": "{\"ml_attr\":{\"vals\":[\"Keto-Friendly Low-Sugar Plan\",\"Gut-Health Fiber Boost\",\"Balanced Wellness Plan\",\"Metabolic Maintenance Diet\"],\"type\":\"nominal\",\"name\":\"Meal_Plan_Idx\"}}",
         "name": "Actual_Idx",
         "type": "\"double\""
        },
        {
         "metadata": "{}",
         "name": "Meal_Plan_Combined",
         "type": "\"string\""
        },
        {
         "metadata": "{}",
         "name": "Predicted_Idx",
         "type": "\"double\""
        },
        {
         "metadata": "{}",
         "name": "Count",
         "type": "\"long\""
        }
       ],
       "type": "table"
      }
     },
     "output_type": "display_data"
    },
    {
     "output_type": "display_data",
     "data": {
      "text/plain": [
       "Databricks visualization. Run in Databricks to view."
      ]
     },
     "metadata": {
      "application/vnd.databricks.v1.subcommand+json": {
       "baseErrorDetails": null,
       "bindings": {},
       "collapsed": false,
       "command": "%python\n__backend_agg_display_orig = display\n__backend_agg_dfs = []\ndef __backend_agg_display_new(df):\n    __backend_agg_df_modules = [\"pandas.core.frame\", \"databricks.koalas.frame\", \"pyspark.sql.dataframe\", \"pyspark.pandas.frame\", \"pyspark.sql.connect.dataframe\"]\n    if (type(df).__module__ in __backend_agg_df_modules and type(df).__name__ == 'DataFrame') or isinstance(df, list):\n        __backend_agg_dfs.append(df)\n\ndisplay = __backend_agg_display_new\n\ndef __backend_agg_user_code_fn():\n    import base64\n    exec(base64.standard_b64decode(\"I1F1ZXJ5IHRvIGNoZWNrIHRoZSBjb3VudCBvZiBwcmVkaWN0aW9ucyBtYWRlIHRvIApzcGFyay5zcWwoInNlbGVjdCBNZWFsX1BsYW5fSWR4IGFzIEFjdHVhbF9JZHgsTWVhbF9QbGFuX0NvbWJpbmVkLHByZWRpY3Rpb24gYXMgUHJlZGljdGVkX0lkeCwgY291bnQoKikgYXMgQ291bnRcCiAgICAgICAgZnJvbSBHQlRfcHJlZGljdGlvbnNcCiAgICAgICAgd2hlcmUgTWVhbF9QbGFuX0lkeCA9IHByZWRpY3Rpb24gXAogICAgICAgIGdyb3VwIGJ5IE1lYWxfUGxhbl9Db21iaW5lZCxNZWFsX1BsYW5fSWR4LHByZWRpY3Rpb25cCiAgICAgICAgb3JkZXIgYnkgQ291bnQgZGVzYyIpLmRpc3BsYXkoKQ==\").decode())\n\ntry:\n    # run user code\n    __backend_agg_user_code_fn()\n\n    #reset display function\n    display = __backend_agg_display_orig\n\n    if len(__backend_agg_dfs) > 0:\n        # create a temp view\n        if type(__backend_agg_dfs[0]).__module__ == \"databricks.koalas.frame\":\n            # koalas dataframe\n            __backend_agg_dfs[0].to_spark().createOrReplaceTempView(\"DatabricksViewe6242c8\")\n        elif type(__backend_agg_dfs[0]).__module__ == \"pandas.core.frame\" or isinstance(__backend_agg_dfs[0], list):\n            # pandas dataframe\n            spark.createDataFrame(__backend_agg_dfs[0]).createOrReplaceTempView(\"DatabricksViewe6242c8\")\n        else:\n            __backend_agg_dfs[0].createOrReplaceTempView(\"DatabricksViewe6242c8\")\n        #run backend agg\n        display(spark.sql(\"\"\"WITH q AS (select * from DatabricksViewe6242c8) SELECT `Meal_Plan_Combined`,SUM(`Count`) `column_42ab9cda625` FROM q GROUP BY `Meal_Plan_Combined`\"\"\"))\n    else:\n        displayHTML(\"dataframe no longer exists. If you're using dataframe.display(), use display(dataframe) instead.\")\n\n\nfinally:\n    spark.sql(\"drop view if exists DatabricksViewe6242c8\")\n    display = __backend_agg_display_orig\n    del __backend_agg_display_new\n    del __backend_agg_display_orig\n    del __backend_agg_dfs\n    del __backend_agg_user_code_fn\n\n",
       "commandTitle": "True Positives",
       "commandType": "auto",
       "commandVersion": 0,
       "commentThread": [],
       "commentsVisible": false,
       "contentSha256Hex": null,
       "customPlotOptions": {
        "redashChart": [
         {
          "key": "type",
          "value": "CHART"
         },
         {
          "key": "options",
          "value": {
           "alignYAxesAtZero": true,
           "coefficient": 1,
           "columnConfigurationMap": {
            "x": {
             "column": "Meal_Plan_Combined",
             "id": "column_42ab9cda627"
            },
            "y": [
             {
              "column": "Count",
              "id": "column_42ab9cda625",
              "transform": "SUM"
             }
            ]
           },
           "dateTimeFormat": "DD/MM/YYYY HH:mm",
           "direction": {
            "type": "counterclockwise"
           },
           "error_y": {
            "type": "data",
            "visible": true
           },
           "globalSeriesType": "column",
           "isAggregationOn": true,
           "legend": {
            "traceorder": "normal"
           },
           "missingValuesAsZero": true,
           "numberFormat": "0,0.[00000]",
           "percentFormat": "0[.]00%",
           "series": {
            "error_y": {
             "type": "data",
             "visible": true
            },
            "stacking": null
           },
           "seriesOptions": {
            "column_42ab9cda615": {
             "type": "column",
             "yAxis": 0
            },
            "column_42ab9cda621": {
             "type": "column",
             "yAxis": 0
            },
            "column_42ab9cda625": {
             "type": "column",
             "yAxis": 0
            }
           },
           "showDataLabels": false,
           "sizemode": "diameter",
           "sortX": false,
           "sortY": true,
           "swappedAxes": true,
           "textFormat": "",
           "useAggregationsUi": true,
           "valuesOptions": {},
           "version": 2,
           "xAxis": {
            "labels": {
             "enabled": true
            },
            "type": "-"
           },
           "yAxis": [
            {
             "type": "-"
            },
            {
             "opposite": true,
             "type": "-"
            }
           ]
          }
         }
        ]
       },
       "datasetPreviewNameToCmdIdMap": {},
       "diffDeletes": [],
       "diffInserts": [],
       "displayType": "redashChart",
       "error": null,
       "errorDetails": null,
       "errorSummary": null,
       "errorTraceType": null,
       "finishTime": 0,
       "globalVars": {},
       "guid": "",
       "height": "auto",
       "hideCommandCode": false,
       "hideCommandResult": false,
       "iPythonMetadata": null,
       "inputWidgets": {},
       "isLockedInExamMode": false,
       "latestUser": "a user",
       "latestUserId": null,
       "listResultMetadata": null,
       "metadata": {},
       "nuid": "4a3e8bc6-8953-4458-a0f7-d8fdab8a4b44",
       "origId": 0,
       "parentHierarchy": [],
       "pivotAggregation": null,
       "pivotColumns": null,
       "position": 15.71856689453125,
       "resultDbfsErrorMessage": null,
       "resultDbfsStatus": "INLINED_IN_TREE",
       "results": null,
       "showCommandTitle": false,
       "startTime": 0,
       "state": "input",
       "streamStates": {},
       "subcommandOptions": {
        "queryPlan": {
         "groups": [
          {
           "column": "Meal_Plan_Combined",
           "type": "column"
          }
         ],
         "selects": [
          {
           "column": "Meal_Plan_Combined",
           "type": "column"
          },
          {
           "alias": "column_42ab9cda625",
           "args": [
            {
             "column": "Count",
             "type": "column"
            }
           ],
           "function": "SUM",
           "type": "function"
          }
         ]
        }
       },
       "submitTime": 0,
       "subtype": "tableResultSubCmd.visualization",
       "tableResultIndex": 0,
       "tableResultSettingsMap": {},
       "useConsistentColors": false,
       "version": "CommandV1",
       "width": "auto",
       "workflows": [],
       "xColumns": null,
       "yColumns": null
      }
     },
     "output_type": "display_data"
    }
   ],
   "source": [
    "#Query to check the count of True predictions\n",
    "spark.sql(\"select Meal_Plan_Idx as Actual_Idx,Meal_Plan_Combined,prediction as Predicted_Idx, count(*) as Count\\\n",
    "        from GBT_predictions\\\n",
    "        where Meal_Plan_Idx = prediction \\\n",
    "        group by Meal_Plan_Combined,Meal_Plan_Idx,prediction\\\n",
    "        order by Count desc\").display()"
   ]
  },
  {
   "cell_type": "markdown",
   "metadata": {
    "application/vnd.databricks.v1+cell": {
     "cellMetadata": {},
     "inputWidgets": {},
     "nuid": "b5b4d1c5-af78-4e90-829f-14b4086f8089",
     "showTitle": false,
     "tableResultSettingsMap": {},
     "title": ""
    }
   },
   "source": [
    "**Misclassifications by the model**"
   ]
  },
  {
   "cell_type": "code",
   "execution_count": 0,
   "metadata": {
    "application/vnd.databricks.v1+cell": {
     "cellMetadata": {
      "byteLimit": 2048000,
      "rowLimit": 10000
     },
     "inputWidgets": {},
     "nuid": "6ccf87f1-1e17-4323-87ed-cb60a12f2e96",
     "showTitle": false,
     "tableResultSettingsMap": {},
     "title": ""
    }
   },
   "outputs": [
    {
     "output_type": "display_data",
     "data": {
      "text/html": [
       "<style scoped>\n",
       "  .table-result-container {\n",
       "    max-height: 300px;\n",
       "    overflow: auto;\n",
       "  }\n",
       "  table, th, td {\n",
       "    border: 1px solid black;\n",
       "    border-collapse: collapse;\n",
       "  }\n",
       "  th, td {\n",
       "    padding: 5px;\n",
       "  }\n",
       "  th {\n",
       "    text-align: left;\n",
       "  }\n",
       "</style><div class='table-result-container'><table class='table-result'><thead style='background-color: white'><tr><th>Actual_Idx</th><th>Meal_Plan_Combined</th><th>Predicted_Idx</th><th>Count</th></tr></thead><tbody><tr><td>2.0</td><td>Balanced Wellness Plan</td><td>3.0</td><td>9</td></tr><tr><td>1.0</td><td>Gut-Health Fiber Boost</td><td>2.0</td><td>3</td></tr><tr><td>1.0</td><td>Gut-Health Fiber Boost</td><td>0.0</td><td>1</td></tr><tr><td>3.0</td><td>Metabolic Maintenance Diet</td><td>1.0</td><td>1</td></tr></tbody></table></div>"
      ]
     },
     "metadata": {
      "application/vnd.databricks.v1+output": {
       "addedWidgets": {},
       "aggData": [],
       "aggError": "",
       "aggOverflow": false,
       "aggSchema": [],
       "aggSeriesLimitReached": false,
       "aggType": "",
       "arguments": {},
       "columnCustomDisplayInfos": {},
       "data": [
        [
         2.0,
         "Balanced Wellness Plan",
         3.0,
         9
        ],
        [
         1.0,
         "Gut-Health Fiber Boost",
         2.0,
         3
        ],
        [
         1.0,
         "Gut-Health Fiber Boost",
         0.0,
         1
        ],
        [
         3.0,
         "Metabolic Maintenance Diet",
         1.0,
         1
        ]
       ],
       "datasetInfos": [],
       "dbfsResultPath": null,
       "isJsonSchema": true,
       "metadata": {},
       "overflow": false,
       "plotOptions": {
        "customPlotOptions": {},
        "displayType": "table",
        "pivotAggregation": null,
        "pivotColumns": null,
        "xColumns": null,
        "yColumns": null
       },
       "removedWidgets": [],
       "schema": [
        {
         "metadata": "{\"ml_attr\":{\"vals\":[\"Keto-Friendly Low-Sugar Plan\",\"Gut-Health Fiber Boost\",\"Balanced Wellness Plan\",\"Metabolic Maintenance Diet\"],\"type\":\"nominal\",\"name\":\"Meal_Plan_Idx\"}}",
         "name": "Actual_Idx",
         "type": "\"double\""
        },
        {
         "metadata": "{}",
         "name": "Meal_Plan_Combined",
         "type": "\"string\""
        },
        {
         "metadata": "{}",
         "name": "Predicted_Idx",
         "type": "\"double\""
        },
        {
         "metadata": "{}",
         "name": "Count",
         "type": "\"long\""
        }
       ],
       "type": "table"
      }
     },
     "output_type": "display_data"
    },
    {
     "output_type": "display_data",
     "data": {
      "text/plain": [
       "Databricks visualization. Run in Databricks to view."
      ]
     },
     "metadata": {
      "application/vnd.databricks.v1.subcommand+json": {
       "baseErrorDetails": null,
       "bindings": {},
       "collapsed": false,
       "command": "%python\n__backend_agg_display_orig = display\n__backend_agg_dfs = []\ndef __backend_agg_display_new(df):\n    __backend_agg_df_modules = [\"pandas.core.frame\", \"databricks.koalas.frame\", \"pyspark.sql.dataframe\", \"pyspark.pandas.frame\", \"pyspark.sql.connect.dataframe\"]\n    if (type(df).__module__ in __backend_agg_df_modules and type(df).__name__ == 'DataFrame') or isinstance(df, list):\n        __backend_agg_dfs.append(df)\n\ndisplay = __backend_agg_display_new\n\ndef __backend_agg_user_code_fn():\n    import base64\n    exec(base64.standard_b64decode(\"I1F1ZXJ5IHRvIGNoZWNrIHRoZSBjb3VudCBvZiBmYWlsZWQgcHJlZGljdGlvbnMKc3Bhcmsuc3FsKCJzZWxlY3QgTWVhbF9QbGFuX0lkeCBhcyBBY3R1YWxfSWR4LE1lYWxfUGxhbl9Db21iaW5lZCxwcmVkaWN0aW9uIGFzIFByZWRpY3RlZF9JZHgsIGNvdW50KCopIGFzIENvdW50XAogICAgICAgIGZyb20gR0JUX3ByZWRpY3Rpb25zXAogICAgICAgIHdoZXJlIE1lYWxfUGxhbl9JZHggIT0gcHJlZGljdGlvbiBcCiAgICAgICAgZ3JvdXAgYnkgTWVhbF9QbGFuX0NvbWJpbmVkLE1lYWxfUGxhbl9JZHgscHJlZGljdGlvblwKICAgICAgICBvcmRlciBieSBDb3VudCBkZXNjIikuZGlzcGxheSgp\").decode())\n\ntry:\n    # run user code\n    __backend_agg_user_code_fn()\n\n    #reset display function\n    display = __backend_agg_display_orig\n\n    if len(__backend_agg_dfs) > 0:\n        # create a temp view\n        if type(__backend_agg_dfs[0]).__module__ == \"databricks.koalas.frame\":\n            # koalas dataframe\n            __backend_agg_dfs[0].to_spark().createOrReplaceTempView(\"DatabricksView2a04bad\")\n        elif type(__backend_agg_dfs[0]).__module__ == \"pandas.core.frame\" or isinstance(__backend_agg_dfs[0], list):\n            # pandas dataframe\n            spark.createDataFrame(__backend_agg_dfs[0]).createOrReplaceTempView(\"DatabricksView2a04bad\")\n        else:\n            __backend_agg_dfs[0].createOrReplaceTempView(\"DatabricksView2a04bad\")\n        #run backend agg\n        display(spark.sql(\"\"\"WITH q AS (select * from DatabricksView2a04bad) SELECT `Meal_Plan_Combined`,SUM(`Count`) `column_42ab9cda635` FROM q GROUP BY `Meal_Plan_Combined`\"\"\"))\n    else:\n        displayHTML(\"dataframe no longer exists. If you're using dataframe.display(), use display(dataframe) instead.\")\n\n\nfinally:\n    spark.sql(\"drop view if exists DatabricksView2a04bad\")\n    display = __backend_agg_display_orig\n    del __backend_agg_display_new\n    del __backend_agg_display_orig\n    del __backend_agg_dfs\n    del __backend_agg_user_code_fn\n\n",
       "commandTitle": "Misclassifications",
       "commandType": "auto",
       "commandVersion": 0,
       "commentThread": [],
       "commentsVisible": false,
       "contentSha256Hex": null,
       "customPlotOptions": {
        "redashChart": [
         {
          "key": "type",
          "value": "CHART"
         },
         {
          "key": "options",
          "value": {
           "alignYAxesAtZero": true,
           "coefficient": 1,
           "columnConfigurationMap": {
            "x": {
             "column": "Meal_Plan_Combined",
             "id": "column_42ab9cda633"
            },
            "y": [
             {
              "column": "Count",
              "id": "column_42ab9cda635",
              "transform": "SUM"
             }
            ]
           },
           "dateTimeFormat": "DD/MM/YYYY HH:mm",
           "direction": {
            "type": "counterclockwise"
           },
           "error_y": {
            "type": "data",
            "visible": true
           },
           "globalSeriesType": "column",
           "isAggregationOn": true,
           "legend": {
            "traceorder": "normal"
           },
           "missingValuesAsZero": true,
           "numberFormat": "0,0.[00000]",
           "percentFormat": "0[.]00%",
           "series": {
            "error_y": {
             "type": "data",
             "visible": true
            },
            "stacking": null
           },
           "seriesOptions": {
            "column_42ab9cda635": {
             "color": "#E92828",
             "type": "column",
             "yAxis": 0
            }
           },
           "showDataLabels": false,
           "sizemode": "diameter",
           "sortX": true,
           "sortY": true,
           "swappedAxes": true,
           "textFormat": "",
           "useAggregationsUi": true,
           "valuesOptions": {},
           "version": 2,
           "xAxis": {
            "labels": {
             "enabled": true
            },
            "type": "-"
           },
           "yAxis": [
            {
             "type": "-"
            },
            {
             "opposite": true,
             "type": "-"
            }
           ]
          }
         }
        ]
       },
       "datasetPreviewNameToCmdIdMap": {},
       "diffDeletes": [],
       "diffInserts": [],
       "displayType": "redashChart",
       "error": null,
       "errorDetails": null,
       "errorSummary": null,
       "errorTraceType": null,
       "finishTime": 0,
       "globalVars": {},
       "guid": "",
       "height": "auto",
       "hideCommandCode": false,
       "hideCommandResult": false,
       "iPythonMetadata": null,
       "inputWidgets": {},
       "isLockedInExamMode": false,
       "latestUser": "a user",
       "latestUserId": null,
       "listResultMetadata": null,
       "metadata": {},
       "nuid": "787d302e-ec2a-4f18-8258-6a2ab2c7d024",
       "origId": 0,
       "parentHierarchy": [],
       "pivotAggregation": null,
       "pivotColumns": null,
       "position": 15.859161376953125,
       "resultDbfsErrorMessage": null,
       "resultDbfsStatus": "INLINED_IN_TREE",
       "results": null,
       "showCommandTitle": false,
       "startTime": 0,
       "state": "input",
       "streamStates": {},
       "subcommandOptions": {
        "queryPlan": {
         "groups": [
          {
           "column": "Meal_Plan_Combined",
           "type": "column"
          }
         ],
         "selects": [
          {
           "column": "Meal_Plan_Combined",
           "type": "column"
          },
          {
           "alias": "column_42ab9cda635",
           "args": [
            {
             "column": "Count",
             "type": "column"
            }
           ],
           "function": "SUM",
           "type": "function"
          }
         ]
        }
       },
       "submitTime": 0,
       "subtype": "tableResultSubCmd.visualization",
       "tableResultIndex": 0,
       "tableResultSettingsMap": {},
       "useConsistentColors": false,
       "version": "CommandV1",
       "width": "auto",
       "workflows": [],
       "xColumns": null,
       "yColumns": null
      }
     },
     "output_type": "display_data"
    }
   ],
   "source": [
    "#Query to check the count of failed predictions\n",
    "spark.sql(\"select Meal_Plan_Idx as Actual_Idx,Meal_Plan_Combined,prediction as Predicted_Idx, count(*) as Count\\\n",
    "        from GBT_predictions\\\n",
    "        where Meal_Plan_Idx != prediction \\\n",
    "        group by Meal_Plan_Combined,Meal_Plan_Idx,prediction\\\n",
    "        order by Count desc\").display()"
   ]
  },
  {
   "cell_type": "markdown",
   "metadata": {
    "application/vnd.databricks.v1+cell": {
     "cellMetadata": {},
     "inputWidgets": {},
     "nuid": "cde0192b-787b-48d8-9cc4-1d3a7f7ac136",
     "showTitle": false,
     "tableResultSettingsMap": {},
     "title": ""
    }
   },
   "source": [
    "**Interpretation:**\n",
    "\n",
    "The Gradient Bossted Trees model that I build is performing well. It was extremely accurate in predicting Keto_Friendly Keto Diet. It made only few misclassified predictions for Gut Health Fiber Boost and Metabolic Maintenance Diet. For instance, it suggested a participant to follow Gut Health Boost Meal, while the actual meal plan should have been Metabolic Maintenance Diet. However, as it is just a single occurence, it could indicate the participants health markers are an outlier. Additional markers or indicators could have fixed this.\n",
    "\n",
    "The model failed the highest to accurately predict Balanced Wellness Plan, this could be attributed to the fact that this class is a combination of multiple classes. These misclassifications to Metabolic Maintenance Plan, could be because of overlapping indicator among the different classes in Balance Wellness Plan and the Metabolic Maintenance Plan."
   ]
  },
  {
   "cell_type": "markdown",
   "metadata": {
    "application/vnd.databricks.v1+cell": {
     "cellMetadata": {
      "byteLimit": 2048000,
      "rowLimit": 10000
     },
     "inputWidgets": {},
     "nuid": "1a9b505a-283d-48db-bfd7-101b7a022fcd",
     "showTitle": false,
     "tableResultSettingsMap": {},
     "title": ""
    }
   },
   "source": [
    "## Conclusion"
   ]
  },
  {
   "cell_type": "markdown",
   "metadata": {
    "application/vnd.databricks.v1+cell": {
     "cellMetadata": {
      "byteLimit": 2048000,
      "rowLimit": 10000
     },
     "inputWidgets": {},
     "nuid": "282c96d6-d193-4767-bc30-14604346f98f",
     "showTitle": false,
     "tableResultSettingsMap": {},
     "title": ""
    }
   },
   "source": [
    "The Gradient-Boosted Trees (GBT) model we developed—leveraging decision trees to recommend personalized meal plans based on individuals' nutrient intake, microbiome indicators, and demographic attributes—demonstrated strong and consistent predictive performance. It was effective in assigning appropriate meal plans across a wide range of user profiles, suggesting it can be a reliable tool for personalized dietary recommendations.\n",
    "\n",
    "However, it’s important to recognize a key limitation: the underlying dataset was imbalanced, meaning some meal plan categories had far fewer examples than others. Even with techniques like merging and upsampling underrepresented classes, there’s a risk that the model may still favor majority classes and perform less accurately on rarer meal plan types. Additionally, high performance metrics on the training or internal validation data could indicate overfitting, where the model learns patterns specific to the current data but may not generalize well to new or more diverse populations. Therefore, caution is warranted before deploying the model broadly, and it should be further validated on external, balanced datasets to ensure consistent and fair performance.\n",
    "\n",
    "**Clinical and Business Viability**\n",
    "\n",
    "The GBT model’s strong performance, especially on common meal plan categories, indicates real potential for use in both clinical nutrition guidance and commercial wellness platforms. Clinically, the model’s alignment with microbiome science—such as recommending fiber-rich plans for dysbiotic profiles—supports its utility in metabolic and gut-health management.\n",
    "\n",
    "From a business perspective, the integration of microbiome data offers a valuable differentiator for personalization in mainstream health apps. However, niche plans like Low-FODMAP part of the Balance Meal Plan broader class remain underrepresented due to class imbalance. While merging and upsampling strategies improved this, further data enrichment and external validation are essential for scaling the model across diverse user bases and use cases.\n",
    "\n",
    "**In summary,** the GBT model balances clinical logic with business readiness, and with continued refinement and validation, it holds strong potential for real-world application in both healthcare and wellness markets."
   ]
  },
  {
   "cell_type": "code",
   "execution_count": 0,
   "metadata": {
    "application/vnd.databricks.v1+cell": {
     "cellMetadata": {},
     "inputWidgets": {},
     "nuid": "161c9a8d-f151-49d0-a33d-8e9d6f1cf2e5",
     "showTitle": false,
     "tableResultSettingsMap": {},
     "title": ""
    }
   },
   "outputs": [],
   "source": []
  }
 ],
 "metadata": {
  "application/vnd.databricks.v1+notebook": {
   "computePreferences": null,
   "dashboards": [],
   "environmentMetadata": {
    "base_environment": "",
    "environment_version": "1"
   },
   "inputWidgetPreferences": null,
   "language": "python",
   "notebookMetadata": {
    "mostRecentlyExecutedCommandWithImplicitDF": {
     "commandId": 3240174836179108,
     "dataframes": [
      "_sqldf"
     ]
    },
    "pythonIndentUnit": 4
   },
   "notebookName": "GBT model for Gut Meal Recommendation",
   "widgets": {}
  }
 },
 "nbformat": 4,
 "nbformat_minor": 0
}